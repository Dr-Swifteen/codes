{
 "cells": [
  {
   "cell_type": "markdown",
   "id": "c01195bc",
   "metadata": {},
   "source": [
    "#### 📌 **HİPERPARAMETRELERİ BURADAN AYARLA**"
   ]
  },
  {
   "cell_type": "code",
   "execution_count": 1,
   "id": "baa92a29",
   "metadata": {},
   "outputs": [],
   "source": [
    "pca_variance = 0.94    \n",
    "roi_crop_size = (256,256)\n",
    "patch_size = (128,128)\n",
    "pixels_per_cell=(32,32)\n",
    "cells_per_block=(3,3)\n",
    "orientations=9"
   ]
  },
  {
   "cell_type": "code",
   "execution_count": 2,
   "id": "c99ec62b",
   "metadata": {},
   "outputs": [],
   "source": [
    "import os, re, joblib\n",
    "import cv2\n",
    "import numpy as np\n",
    "import pandas as pd\n",
    "from skimage.feature import hog, greycomatrix, greycoprops\n",
    "from skimage.filters import threshold_otsu, median\n",
    "from skimage.morphology import opening, disk\n",
    "from sklearn.decomposition import PCA\n",
    "from sklearn.model_selection import train_test_split\n",
    "from sklearn.ensemble import RandomForestClassifier\n",
    "import xgboost as xgb\n",
    "from sklearn.metrics import classification_report, f1_score, accuracy_score, precision_score, recall_score, roc_auc_score\n",
    "from joblib import Parallel, delayed\n",
    "from tensorflow.keras.models import Sequential, load_model\n",
    "from tensorflow.keras.layers import Dense, Dropout\n",
    "from tensorflow.keras.optimizers import Adam\n",
    "from sklearn.metrics import confusion_matrix\n",
    "from tensorflow.keras.callbacks import EarlyStopping, ReduceLROnPlateau"
   ]
  },
  {
   "cell_type": "code",
   "execution_count": 3,
   "id": "bdac1a8d",
   "metadata": {},
   "outputs": [],
   "source": [
    "def process_single_image(args):\n",
    "    img_path, label, classes = args\n",
    "    img = cv2.imread(img_path, cv2.IMREAD_GRAYSCALE)\n",
    "    img = cv2.resize(img, roi_crop_size)\n",
    "    img = img.astype(np.float32)\n",
    "\n",
    "    center = np.array(roi_crop_size) // 2\n",
    "    ps = np.array(patch_size) // 2\n",
    "    patch = img[center[0]-ps[0]:center[0]+ps[0], center[1]-ps[1]+0:center[1]+ps[1]]\n",
    "\n",
    "    patch = median(patch)\n",
    "    patch = cv2.GaussianBlur(patch, (3, 3), 0)\n",
    "    patch = patch.astype(np.float32) / 255.0\n",
    "\n",
    "    return patch, classes.index(label)\n"
   ]
  },
  {
   "cell_type": "code",
   "execution_count": 4,
   "id": "dff67e25",
   "metadata": {},
   "outputs": [],
   "source": [
    "\n",
    "def extract_and_preprocess_parallel(root_dir, classes, n_jobs=-1):\n",
    "    pattern = re.compile(r'^[A-Z]_\\d+_\\d+\\.(LEFT|RIGHT)_(CC|MLO)\\.jpg$', re.IGNORECASE)\n",
    "    siniflar = ['benign', 'cancer', 'normal']\n",
    "    yollar, etiketler = [], []\n",
    "\n",
    "    for cls in siniflar:\n",
    "        cls_yolu = os.path.join(root_dir, cls)\n",
    "        if not os.path.isdir(cls_yolu):\n",
    "            continue\n",
    "        for durum_id in os.listdir(cls_yolu):\n",
    "            durum_yolu = os.path.join(cls_yolu, durum_id)\n",
    "            if not os.path.isdir(durum_yolu):\n",
    "                continue\n",
    "            for dosya_adi in os.listdir(durum_yolu):\n",
    "                if pattern.match(dosya_adi):\n",
    "                    yollar.append(os.path.join(durum_yolu, dosya_adi))\n",
    "                    etiketler.append(cls)\n",
    "\n",
    "    # === Paralel işleme ===\n",
    "    arg_list = [(img_path, lbl, classes) for img_path, lbl in zip(yollar, etiketler)]\n",
    "    results = Parallel(n_jobs=n_jobs)(delayed(process_single_image)(args) for args in arg_list)\n",
    "\n",
    "    X, y = zip(*results)\n",
    "    return np.array(X), np.array(y)"
   ]
  },
  {
   "cell_type": "code",
   "execution_count": 5,
   "id": "26b0f3a6",
   "metadata": {},
   "outputs": [],
   "source": [
    "def extract_features_from_image(im):\n",
    "    h = hog(im, pixels_per_cell=pixels_per_cell,\n",
    "                cells_per_block=cells_per_block,\n",
    "                orientations=orientations)\n",
    "    g = greycomatrix((im*255).astype(np.uint8), [1], [0], levels=256)\n",
    "    glcm = [greycoprops(g, prop)[0, 0] for prop in ('contrast', 'homogeneity', 'energy')]\n",
    "    area = np.sum(im > 0.5)\n",
    "    perimeter = np.sum(cv2.Canny((im * 255).astype(np.uint8), 50, 150) > 0)\n",
    "    ecc = 0\n",
    "    if area > 10:\n",
    "        pts = np.argwhere(im > 0.5)\n",
    "        rect = cv2.minAreaRect(pts.astype(np.float32))\n",
    "        ecc = rect[1][0] / (rect[1][1] + 1e-8)\n",
    "    return np.hstack([h, glcm, area, perimeter, ecc])\n",
    "\n",
    "def extract_features(X, out_prefix=None, n_jobs=-1):\n",
    "    # 2. UPDATE THE FUNCTION NAME INSIDE THE PARALLEL CALL HERE\n",
    "    feats = Parallel(n_jobs=n_jobs)(delayed(extract_features_from_image)(im) for im in X)\n",
    "    feats = np.array(feats)\n",
    "    pca = PCA(n_components=pca_variance)\n",
    "    X_feat = pca.fit_transform(feats)\n",
    "    return X_feat, pca"
   ]
  },
  {
   "cell_type": "markdown",
   "id": "64b12eec",
   "metadata": {},
   "source": [
    " Metirkler**"
   ]
  },
  {
   "cell_type": "code",
   "execution_count": 6,
   "id": "d3c71fe4",
   "metadata": {},
   "outputs": [
    {
     "name": "stdout",
     "output_type": "stream",
     "text": [
      "\n",
      " --------------MLP RESULTS----------------\n",
      "              precision    recall  f1-score   support\n",
      "\n",
      "      normal       0.33      1.00      0.50        80\n",
      "      benign       0.00      0.00      0.00        80\n",
      "      cancer       0.00      0.00      0.00        80\n",
      "\n",
      "    accuracy                           0.33       240\n",
      "   macro avg       0.11      0.33      0.17       240\n",
      "weighted avg       0.11      0.33      0.17       240\n",
      "\n",
      "Confusion Matrix:\n",
      " [[80  0  0]\n",
      " [80  0  0]\n",
      " [80  0  0]]\n",
      "Accuracy: 0.3333333333333333\n",
      "Precision: 0.1111111111111111\n",
      "Recall: 0.3333333333333333\n",
      "📌 F1 Score: 0.16666666666666666\n",
      "AUC: 0.5020833333333333\n"
     ]
    },
    {
     "name": "stderr",
     "output_type": "stream",
     "text": [
      "c:\\Users\\Dr.Ahmet\\anaconda3\\envs\\tf-gpu-211\\lib\\site-packages\\sklearn\\metrics\\_classification.py:1471: UndefinedMetricWarning: Precision and F-score are ill-defined and being set to 0.0 in labels with no predicted samples. Use `zero_division` parameter to control this behavior.\n",
      "  _warn_prf(average, modifier, msg_start, len(result))\n",
      "c:\\Users\\Dr.Ahmet\\anaconda3\\envs\\tf-gpu-211\\lib\\site-packages\\sklearn\\metrics\\_classification.py:1471: UndefinedMetricWarning: Precision and F-score are ill-defined and being set to 0.0 in labels with no predicted samples. Use `zero_division` parameter to control this behavior.\n",
      "  _warn_prf(average, modifier, msg_start, len(result))\n",
      "c:\\Users\\Dr.Ahmet\\anaconda3\\envs\\tf-gpu-211\\lib\\site-packages\\sklearn\\metrics\\_classification.py:1471: UndefinedMetricWarning: Precision and F-score are ill-defined and being set to 0.0 in labels with no predicted samples. Use `zero_division` parameter to control this behavior.\n",
      "  _warn_prf(average, modifier, msg_start, len(result))\n",
      "c:\\Users\\Dr.Ahmet\\anaconda3\\envs\\tf-gpu-211\\lib\\site-packages\\sklearn\\metrics\\_classification.py:1471: UndefinedMetricWarning: Precision is ill-defined and being set to 0.0 in labels with no predicted samples. Use `zero_division` parameter to control this behavior.\n",
      "  _warn_prf(average, modifier, msg_start, len(result))\n"
     ]
    }
   ],
   "source": [
    "if __name__ == '__main__':\n",
    "    classes = ['normal','benign','cancer']\n",
    "    kok_dizin = os.path.join(os.getcwd(), \"Project1\")\n",
    "    X_test, y_test = extract_and_preprocess_parallel(kok_dizin, classes,n_jobs=-1)\n",
    "    X_feat, pca = extract_features(X_test)\n",
    "    model = load_model(\"MLP_1_1.h5\")\n",
    "    T_m = 0.40\n",
    "    T_b = 0.40\n",
    "    probs = model.predict(X_feat)\n",
    "    preds = [2 if p[2] >= T_m else 1 if p[1] >= T_b else 0 for p in probs]\n",
    "    print(\"\\n --------------MLP RESULTS----------------\")\n",
    "    print(classification_report(y_test, preds, target_names=classes))\n",
    "    print(\"Confusion Matrix:\\n\", confusion_matrix(y_test, preds))\n",
    "    print(\"Accuracy:\", accuracy_score(y_test, preds))\n",
    "    print(\"Precision:\", precision_score(y_test, preds, average='macro'))\n",
    "    print(\"Recall:\", recall_score(y_test, preds, average='macro'))\n",
    "    print(\"📌 F1 Score:\", f1_score(y_test, preds, average='macro'))\n",
    "    try:\n",
    "        print(\"AUC:\", roc_auc_score(pd.get_dummies(y_test), probs,\n",
    "                                 multi_class='ovr', average='macro'))\n",
    "    except:\n",
    "        print(\"AUC hesaplanamadı.\")\n",
    "    "
   ]
  },
  {
   "cell_type": "code",
   "execution_count": 7,
   "id": "0233bbb6",
   "metadata": {},
   "outputs": [
    {
     "name": "stdout",
     "output_type": "stream",
     "text": [
      "\n",
      " --------------RF RESULTS----------------\n",
      "              precision    recall  f1-score   support\n",
      "\n",
      "      normal       0.38      0.36      0.37        80\n",
      "      benign       0.36      0.45      0.40        80\n",
      "      cancer       0.38      0.30      0.33        80\n",
      "\n",
      "    accuracy                           0.37       240\n",
      "   macro avg       0.37      0.37      0.37       240\n",
      "weighted avg       0.37      0.37      0.37       240\n",
      "\n",
      "Confusion Matrix:\n",
      " [[29 32 19]\n",
      " [23 36 21]\n",
      " [24 32 24]]\n",
      "Accuracy: 0.37083333333333335\n",
      "Precision: 0.37219298245614035\n",
      "Recall: 0.37083333333333335\n",
      "📌 F1 Score: 0.36837606837606834\n",
      "AUC: 0.5394270833333333\n"
     ]
    }
   ],
   "source": [
    "model = joblib.load(\"RF_1_1.pkl\")\n",
    "T_m = 0.40\n",
    "T_b = 0.40\n",
    "classes = ['normal', 'benign', 'cancer']\n",
    "label_map = {'normal': 0, 'benign': 1, 'cancer': 2}\n",
    "probs = model.predict_proba(X_feat) \n",
    "preds = [2 if p[2] >= T_m else 1 if p[1] >= T_b else 0 for p in probs]\n",
    "print(\"\\n --------------RF RESULTS----------------\")\n",
    "print(classification_report(y_test, preds, target_names=classes))\n",
    "print(\"Confusion Matrix:\\n\", confusion_matrix(y_test, preds))\n",
    "print(\"Accuracy:\", accuracy_score(y_test, preds))\n",
    "print(\"Precision:\", precision_score(y_test, preds, average='macro'))\n",
    "print(\"Recall:\", recall_score(y_test, preds, average='macro'))\n",
    "print(\"📌 F1 Score:\", f1_score(y_test, preds, average='macro'))\n",
    "try:\n",
    "    print(\"AUC:\", roc_auc_score(pd.get_dummies(y_test), probs,\n",
    "                                 multi_class='ovr', average='macro'))\n",
    "except:\n",
    "    print(\"AUC hesaplanamadı.\")"
   ]
  },
  {
   "cell_type": "code",
   "execution_count": 8,
   "id": "0847c790",
   "metadata": {},
   "outputs": [
    {
     "name": "stdout",
     "output_type": "stream",
     "text": [
      "\n",
      " --------------XP-B RESULTS----------------\n",
      "              precision    recall  f1-score   support\n",
      "\n",
      "      normal       0.37      0.49      0.42        80\n",
      "      benign       0.38      0.14      0.20        80\n",
      "      cancer       0.36      0.47      0.41        80\n",
      "\n",
      "    accuracy                           0.37       240\n",
      "   macro avg       0.37      0.37      0.34       240\n",
      "weighted avg       0.37      0.37      0.34       240\n",
      "\n",
      "Confusion Matrix:\n",
      " [[39  8 33]\n",
      " [34 11 35]\n",
      " [32 10 38]]\n",
      "Accuracy: 0.36666666666666664\n",
      "Precision: 0.36974316076463115\n",
      "Recall: 0.3666666666666667\n",
      "📌 F1 Score: 0.34401954484819236\n",
      "AUC: 0.5936718750000001\n"
     ]
    }
   ],
   "source": [
    "loaded_xgb_model_booster = xgb.Booster() \n",
    "loaded_xgb_model_booster.load_model(\"XGBoost_1_1.json\") \n",
    "T_m = 0.40\n",
    "T_b = 0.40\n",
    "classes = ['normal', 'benign', 'cancer']\n",
    "label_map = {'normal': 0, 'benign': 1, 'cancer': 2}\n",
    "\n",
    "\n",
    "dtest_predict = xgb.DMatrix(X_feat) \n",
    "probs = loaded_xgb_model_booster.predict(dtest_predict) \n",
    "preds = [2 if p[2] >= T_m else 1 if p[1] >= T_b else 0 for p in probs]\n",
    "T_m = 0.40\n",
    "T_b = 0.40\n",
    "\n",
    "print(\"\\n --------------XP-B RESULTS----------------\")\n",
    "print(classification_report(y_test, preds, target_names=classes))\n",
    "print(\"Confusion Matrix:\\n\", confusion_matrix(y_test, preds))\n",
    "print(\"Accuracy:\", accuracy_score(y_test, preds))\n",
    "print(\"Precision:\", precision_score(y_test, preds, average='macro'))\n",
    "print(\"Recall:\", recall_score(y_test, preds, average='macro'))\n",
    "print(\"📌 F1 Score:\", f1_score(y_test, preds, average='macro'))\n",
    "try:\n",
    "    print(\"AUC:\", roc_auc_score(pd.get_dummies(y_test), probs,\n",
    "                                 multi_class='ovr', average='macro'))\n",
    "except:\n",
    "    print(\"AUC hesaplanamadı.\")"
   ]
  },
  {
   "cell_type": "code",
   "execution_count": null,
   "id": "3cb2f8f4",
   "metadata": {},
   "outputs": [],
   "source": []
  }
 ],
 "metadata": {
  "kernelspec": {
   "display_name": "tf-gpu-211",
   "language": "python",
   "name": "python3"
  },
  "language_info": {
   "codemirror_mode": {
    "name": "ipython",
    "version": 3
   },
   "file_extension": ".py",
   "mimetype": "text/x-python",
   "name": "python",
   "nbconvert_exporter": "python",
   "pygments_lexer": "ipython3",
   "version": "3.8.20"
  }
 },
 "nbformat": 4,
 "nbformat_minor": 5
}

{
 "cells": [
  {
   "cell_type": "code",
   "execution_count": 1,
   "id": "c99ec62b",
   "metadata": {},
   "outputs": [],
   "source": [
    "import os\n",
    "import re\n",
    "import cv2\n",
    "import numpy as np\n",
    "import pandas as pd\n",
    "from sklearn.metrics import classification_report, confusion_matrix, f1_score, accuracy_score, precision_score, recall_score, roc_auc_score\n",
    "from tensorflow.keras.models import load_model\n",
    "import joblib\n",
    "import xgboost as xgb\n"
   ]
  },
  {
   "cell_type": "markdown",
   "id": "a44e4b6e",
   "metadata": {},
   "source": [
    "**#### 🧠 **MLP****"
   ]
  },
  {
   "cell_type": "code",
   "execution_count": 2,
   "id": "bdac1a8d",
   "metadata": {},
   "outputs": [],
   "source": [
    "model = load_model(\"MLP_2_2.h5\")\n",
    "T_m = 0.24\n",
    "T_b = 0.25\n",
    "classes = ['normal', 'benign', 'cancer']\n",
    "label_map = {'normal': 0, 'benign': 1, 'cancer': 2}\n"
   ]
  },
  {
   "cell_type": "code",
   "execution_count": 3,
   "id": "dff67e25",
   "metadata": {},
   "outputs": [],
   "source": [
    "\n",
    "\n",
    "X_test = np.load(\"X_test_2_2.npy\")\n",
    "y_test = np.load(\"y_test_2_2.npy\")"
   ]
  },
  {
   "cell_type": "code",
   "execution_count": 4,
   "id": "26b0f3a6",
   "metadata": {},
   "outputs": [],
   "source": [
    "probs = model.predict(X_test)\n",
    "preds = [2 if p[2] >= T_m else 1 if p[1] >= T_b else 0 for p in probs]"
   ]
  },
  {
   "cell_type": "markdown",
   "id": "64b12eec",
   "metadata": {},
   "source": [
    " Metirkler**"
   ]
  },
  {
   "cell_type": "code",
   "execution_count": 5,
   "id": "d3c71fe4",
   "metadata": {},
   "outputs": [
    {
     "name": "stdout",
     "output_type": "stream",
     "text": [
      "\n",
      " --------------MLP RESULTS----------------\n",
      "              precision    recall  f1-score   support\n",
      "\n",
      "      normal       0.84      0.70      0.76       187\n",
      "      benign       0.27      0.56      0.37        39\n",
      "      cancer       0.00      0.00      0.00        12\n",
      "\n",
      "    accuracy                           0.64       238\n",
      "   macro avg       0.37      0.42      0.38       238\n",
      "weighted avg       0.71      0.64      0.66       238\n",
      "\n",
      "Confusion Matrix:\n",
      " [[130  54   3]\n",
      " [ 17  22   0]\n",
      " [  7   5   0]]\n",
      "Accuracy: 0.6386554621848739\n",
      "Precision: 0.37192026080914964\n",
      "Recall: 0.419763243292655\n",
      "📌 F1 Score: 0.376376669925057\n",
      "AUC: 0.5956850574218887\n"
     ]
    }
   ],
   "source": [
    "print(\"\\n --------------MLP RESULTS----------------\")\n",
    "print(classification_report(y_test, preds, target_names=classes))\n",
    "print(\"Confusion Matrix:\\n\", confusion_matrix(y_test, preds))\n",
    "print(\"Accuracy:\", accuracy_score(y_test, preds))\n",
    "print(\"Precision:\", precision_score(y_test, preds, average='macro'))\n",
    "print(\"Recall:\", recall_score(y_test, preds, average='macro'))\n",
    "print(\"📌 F1 Score:\", f1_score(y_test, preds, average='macro'))\n",
    "try:\n",
    "    print(\"AUC:\", roc_auc_score(pd.get_dummies(y_test), probs,\n",
    "                                 multi_class='ovr', average='macro'))\n",
    "except:\n",
    "    print(\"AUC hesaplanamadı.\")"
   ]
  },
  {
   "cell_type": "markdown",
   "id": "5561cb90",
   "metadata": {},
   "source": [
    "**#### 🧠 **RANDOM FOREST****"
   ]
  },
  {
   "cell_type": "code",
   "execution_count": 6,
   "id": "1894a699",
   "metadata": {},
   "outputs": [],
   "source": [
    "model = joblib.load(\"RF_2_2.pkl\")\n",
    "T_m = 0.23\n",
    "T_b = 0.36\n",
    "classes = ['normal', 'benign', 'cancer']\n",
    "label_map = {'normal': 0, 'benign': 1, 'cancer': 2}"
   ]
  },
  {
   "cell_type": "code",
   "execution_count": 7,
   "id": "2e7f9314",
   "metadata": {},
   "outputs": [
    {
     "name": "stdout",
     "output_type": "stream",
     "text": [
      "\n",
      " --------------RF RESULTS----------------\n",
      "              precision    recall  f1-score   support\n",
      "\n",
      "      normal       0.81      0.84      0.83       187\n",
      "      benign       0.32      0.26      0.29        39\n",
      "      cancer       0.15      0.17      0.16        12\n",
      "\n",
      "    accuracy                           0.71       238\n",
      "   macro avg       0.43      0.42      0.43       238\n",
      "weighted avg       0.70      0.71      0.71       238\n",
      "\n",
      "Confusion Matrix:\n",
      " [[158  20   9]\n",
      " [ 27  10   2]\n",
      " [  9   1   2]]\n",
      "Accuracy: 0.7142857142857143\n",
      "Precision: 0.43028659623272186\n",
      "Recall: 0.4226655697243933\n",
      "📌 F1 Score: 0.4250368703912011\n",
      "AUC: 0.6235867676520411\n"
     ]
    }
   ],
   "source": [
    "X_test = np.load(\"X_test_2_2.npy\")\n",
    "y_test = np.load(\"y_test_2_2.npy\")\n",
    "probs = model.predict_proba(X_test) \n",
    "preds = [2 if p[2] >= T_m else 1 if p[1] >= T_b else 0 for p in probs]\n",
    "print(\"\\n --------------RF RESULTS----------------\")\n",
    "print(classification_report(y_test, preds, target_names=classes))\n",
    "print(\"Confusion Matrix:\\n\", confusion_matrix(y_test, preds))\n",
    "print(\"Accuracy:\", accuracy_score(y_test, preds))\n",
    "print(\"Precision:\", precision_score(y_test, preds, average='macro'))\n",
    "print(\"Recall:\", recall_score(y_test, preds, average='macro'))\n",
    "print(\"📌 F1 Score:\", f1_score(y_test, preds, average='macro'))\n",
    "try:\n",
    "    print(\"AUC:\", roc_auc_score(pd.get_dummies(y_test), probs,\n",
    "                                 multi_class='ovr', average='macro'))\n",
    "except:\n",
    "    print(\"AUC hesaplanamadı.\")"
   ]
  },
  {
   "cell_type": "markdown",
   "id": "885df2b0",
   "metadata": {},
   "source": [
    "**#### 🧠 **XP-Boost****"
   ]
  },
  {
   "cell_type": "code",
   "execution_count": 8,
   "id": "6ee8a547",
   "metadata": {},
   "outputs": [],
   "source": [
    "loaded_xgb_model_booster = xgb.Booster() # Initialize an empty booster\n",
    "loaded_xgb_model_booster.load_model(\"XGBoost_2_2.json\") # Load the model into the booster object\n",
    "# No need for 'model =' here, loaded_xgb_model_booster now holds the model\n",
    "T_m = 0.31\n",
    "T_b = 0.27\n",
    "classes = ['normal', 'benign', 'cancer']\n",
    "label_map = {'normal': 0, 'benign': 1, 'cancer': 2}\n",
    "\n",
    "X_test = np.load(\"X_test_2_2.npy\")\n",
    "y_test = np.load(\"y_test_2_2.npy\")\n",
    "\n",
    "dtest_predict = xgb.DMatrix(X_test) \n",
    "probs = loaded_xgb_model_booster.predict(dtest_predict) \n",
    "preds = [2 if p[2] >= T_m else 1 if p[1] >= T_b else 0 for p in probs]\n",
    "\n"
   ]
  },
  {
   "cell_type": "code",
   "execution_count": 9,
   "id": "4d49be51",
   "metadata": {},
   "outputs": [
    {
     "name": "stdout",
     "output_type": "stream",
     "text": [
      "\n",
      " --------------XP-B RESULTS----------------\n",
      "              precision    recall  f1-score   support\n",
      "\n",
      "      normal       0.81      0.82      0.81       187\n",
      "      benign       0.27      0.33      0.30        39\n",
      "      cancer       1.00      0.08      0.15        12\n",
      "\n",
      "    accuracy                           0.70       238\n",
      "   macro avg       0.69      0.41      0.42       238\n",
      "weighted avg       0.73      0.70      0.70       238\n",
      "\n",
      "Confusion Matrix:\n",
      " [[153  34   0]\n",
      " [ 26  13   0]\n",
      " [ 10   1   1]]\n",
      "Accuracy: 0.7016806722689075\n",
      "Precision: 0.6934523809523809\n",
      "Recall: 0.4116161616161616\n",
      "📌 F1 Score: 0.42217550526427994\n",
      "AUC: 0.5859079905624176\n"
     ]
    }
   ],
   "source": [
    "\n",
    "print(\"\\n --------------XP-B RESULTS----------------\")\n",
    "print(classification_report(y_test, preds, target_names=classes))\n",
    "print(\"Confusion Matrix:\\n\", confusion_matrix(y_test, preds))\n",
    "print(\"Accuracy:\", accuracy_score(y_test, preds))\n",
    "print(\"Precision:\", precision_score(y_test, preds, average='macro'))\n",
    "print(\"Recall:\", recall_score(y_test, preds, average='macro'))\n",
    "print(\"📌 F1 Score:\", f1_score(y_test, preds, average='macro'))\n",
    "try:\n",
    "    print(\"AUC:\", roc_auc_score(pd.get_dummies(y_test), probs,\n",
    "                                 multi_class='ovr', average='macro'))\n",
    "except:\n",
    "    print(\"AUC hesaplanamadı.\")"
   ]
  }
 ],
 "metadata": {
  "kernelspec": {
   "display_name": "tf-gpu-211",
   "language": "python",
   "name": "python3"
  },
  "language_info": {
   "codemirror_mode": {
    "name": "ipython",
    "version": 3
   },
   "file_extension": ".py",
   "mimetype": "text/x-python",
   "name": "python",
   "nbconvert_exporter": "python",
   "pygments_lexer": "ipython3",
   "version": "3.8.20"
  }
 },
 "nbformat": 4,
 "nbformat_minor": 5
}

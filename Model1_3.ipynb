{
 "cells": [
  {
   "cell_type": "markdown",
   "id": "c01195bc",
   "metadata": {},
   "source": [
    "#### 📌 **HİPERPARAMETRELERİ BURADAN AYARLA**"
   ]
  },
  {
   "cell_type": "code",
   "execution_count": 1,
   "id": "e86f048d",
   "metadata": {},
   "outputs": [],
   "source": [
    "learning_rate = 1e-4\n",
    "dropout_rate = 0.6\n",
    "batch_size = 64\n",
    "filters = [32, 64, 128, 256]\n",
    "earlystop_patience = 14\n",
    "reduce_lr_patience = 9\n",
    "epochs = 40\n",
    "target_size = (224, 224)"
   ]
  },
  {
   "cell_type": "code",
   "execution_count": 2,
   "id": "c99ec62b",
   "metadata": {},
   "outputs": [],
   "source": [
    "import os\n",
    "import re\n",
    "import cv2\n",
    "import numpy as np\n",
    "import pandas as pd\n",
    "from sklearn.model_selection import train_test_split\n",
    "from sklearn.metrics import (classification_report, confusion_matrix, f1_score,\n",
    "                             accuracy_score, roc_auc_score, precision_score, recall_score)\n",
    "from tensorflow.keras.models import Model\n",
    "from tensorflow.keras.layers import (Input, Conv2D, BatchNormalization, ReLU,\n",
    "                                     MaxPooling2D, Dropout, Flatten, Dense)\n",
    "from tensorflow.keras.optimizers import Adam\n",
    "from tensorflow.keras.callbacks import EarlyStopping, ReduceLROnPlateau"
   ]
  },
  {
   "cell_type": "markdown",
   "id": "869b7c61",
   "metadata": {},
   "source": [
    "#### 📁 **1. Görüntü Yolu Listeleme Fonksiyonu**\n"
   ]
  },
  {
   "cell_type": "code",
   "execution_count": null,
   "id": "bdac1a8d",
   "metadata": {},
   "outputs": [],
   "source": [
    "#chatgpt\n",
    "def mammo_gorunumlerini_listele(kok_dizin):\n",
    "    pattern = re.compile(r'^[A-Z]_\\d+_\\d+\\.(LEFT|RIGHT)_(CC|MLO)\\.jpg$', re.IGNORECASE)\n",
    "    siniflar = ['benign', 'cancer', 'normal']\n",
    "    yollar, etiketler = [], []\n",
    "    for cls in siniflar:\n",
    "        cls_yolu = os.path.join(kok_dizin, cls)\n",
    "        if not os.path.isdir(cls_yolu):\n",
    "            continue\n",
    "        for durum_id in os.listdir(cls_yolu):\n",
    "            durum_yolu = os.path.join(cls_yolu, durum_id)\n",
    "            if not os.path.isdir(durum_yolu):\n",
    "                continue\n",
    "            for dosya_adi in os.listdir(durum_yolu):\n",
    "                if pattern.match(dosya_adi):\n",
    "                    yollar.append(os.path.join(durum_yolu, dosya_adi))\n",
    "                    etiketler.append(cls)\n",
    "    return yollar, etiketler"
   ]
  },
  {
   "cell_type": "markdown",
   "id": "3a467d65",
   "metadata": {},
   "source": [
    "#### 🧼 **2. Görüntü Ön İşleme**\n"
   ]
  },
  {
   "cell_type": "code",
   "execution_count": 4,
   "id": "dff67e25",
   "metadata": {},
   "outputs": [],
   "source": [
    "def load_and_preprocess(paths, labels, target_size=target_size, method='minmax'):\n",
    "    X, y = [], []\n",
    "    label_map = {'normal': 0, 'benign': 1, 'cancer': 2}\n",
    "    for img_path, lbl in zip(paths, labels):\n",
    "        img = cv2.imread(img_path, cv2.IMREAD_GRAYSCALE)\n",
    "        img = cv2.resize(img, target_size)\n",
    "        img = img.astype(np.float32)\n",
    "        if method == 'minmax':\n",
    "            img /= 255.0\n",
    "        else:\n",
    "            img = (img - img.mean()) / (img.std() + 1e-8)\n",
    "        X.append(img[..., np.newaxis])\n",
    "        y.append(label_map[lbl])\n",
    "    return np.array(X), np.array(y)"
   ]
  },
  {
   "cell_type": "markdown",
   "id": "4470488c",
   "metadata": {},
   "source": [
    "#### 🧠 **3. CNN Model Tanımı**"
   ]
  },
  {
   "cell_type": "code",
   "execution_count": 5,
   "id": "1ddbdfeb",
   "metadata": {},
   "outputs": [],
   "source": [
    "def _conv_block(inputs, filters):\n",
    "    x = Conv2D(filters, (3, 3), padding='same')(inputs)\n",
    "    x = BatchNormalization()(x)\n",
    "    x = ReLU()(x)\n",
    "    return x\n",
    "def create_cnn_model(input_shape=(224, 224, 1), num_classes=3, filters=filters, dropout_rate=dropout_rate):\n",
    "    inp = Input(shape=input_shape)\n",
    "    x = _conv_block(inp, filters[0])\n",
    "    x = MaxPooling2D((2, 2))(x)\n",
    "\n",
    "    x = _conv_block(x, filters[1])\n",
    "    x = _conv_block(x, filters[1])\n",
    "    x = MaxPooling2D((2, 2))(x)\n",
    "    \n",
    "    x = _conv_block(x, filters[2])\n",
    "    x = _conv_block(x, filters[2])\n",
    "    x = MaxPooling2D((2, 2))(x)\n",
    "    \n",
    "    x = _conv_block(x, filters[3])\n",
    "    x = MaxPooling2D((2, 2))(x)\n",
    "    x = Flatten()(x)\n",
    "    x = Dense(256, activation='relu')(x)\n",
    "    x = Dropout(dropout_rate)(x)\n",
    "    out = Dense(num_classes, activation='softmax')(x)\n",
    "\n",
    "    return Model(inputs=inp, outputs=out)"
   ]
  },
  {
   "cell_type": "markdown",
   "id": "75ebbbaf",
   "metadata": {},
   "source": [
    "#### 🚂 **4. Model Eğitimi ve Kaydetme**\n"
   ]
  },
  {
   "cell_type": "code",
   "execution_count": null,
   "id": "26b0f3a6",
   "metadata": {},
   "outputs": [
    {
     "name": "stdout",
     "output_type": "stream",
     "text": [
      "Epoch 1/40\n",
      "99/99 [==============================] - 27s 207ms/step - loss: 1.2546 - accuracy: 0.5101 - val_loss: 1.2286 - val_accuracy: 0.3201\n",
      "Epoch 2/40\n",
      "99/99 [==============================] - 18s 180ms/step - loss: 0.8362 - accuracy: 0.5481 - val_loss: 1.4891 - val_accuracy: 0.3201\n",
      "Epoch 3/40\n",
      "99/99 [==============================] - 18s 180ms/step - loss: 0.7846 - accuracy: 0.5966 - val_loss: 1.6807 - val_accuracy: 0.3201\n",
      "Epoch 4/40\n",
      "99/99 [==============================] - 18s 181ms/step - loss: 0.7584 - accuracy: 0.5854 - val_loss: 1.1337 - val_accuracy: 0.4538\n",
      "Epoch 5/40\n",
      "99/99 [==============================] - 18s 181ms/step - loss: 0.7346 - accuracy: 0.5946 - val_loss: 0.9118 - val_accuracy: 0.5448\n",
      "Epoch 6/40\n",
      "99/99 [==============================] - 18s 181ms/step - loss: 0.7269 - accuracy: 0.6059 - val_loss: 0.8921 - val_accuracy: 0.5676\n",
      "Epoch 7/40\n",
      "99/99 [==============================] - 18s 181ms/step - loss: 0.7124 - accuracy: 0.6074 - val_loss: 0.7800 - val_accuracy: 0.5932\n",
      "Epoch 8/40\n",
      "99/99 [==============================] - 18s 181ms/step - loss: 0.7059 - accuracy: 0.6093 - val_loss: 0.6891 - val_accuracy: 0.6046\n",
      "Epoch 9/40\n",
      "99/99 [==============================] - 18s 181ms/step - loss: 0.6916 - accuracy: 0.6124 - val_loss: 0.7171 - val_accuracy: 0.6188\n",
      "Epoch 10/40\n",
      "99/99 [==============================] - 18s 182ms/step - loss: 0.6818 - accuracy: 0.6219 - val_loss: 0.7041 - val_accuracy: 0.6401\n",
      "Epoch 11/40\n",
      "99/99 [==============================] - 18s 181ms/step - loss: 0.6696 - accuracy: 0.6200 - val_loss: 0.6597 - val_accuracy: 0.6316\n",
      "Epoch 12/40\n",
      "99/99 [==============================] - 18s 181ms/step - loss: 0.6633 - accuracy: 0.6241 - val_loss: 0.7465 - val_accuracy: 0.6302\n",
      "Epoch 13/40\n",
      "99/99 [==============================] - 18s 182ms/step - loss: 0.6693 - accuracy: 0.6257 - val_loss: 0.7126 - val_accuracy: 0.6074\n",
      "Epoch 14/40\n",
      "99/99 [==============================] - 18s 181ms/step - loss: 0.6556 - accuracy: 0.6403 - val_loss: 0.6601 - val_accuracy: 0.6671\n",
      "Epoch 15/40\n",
      "99/99 [==============================] - 18s 181ms/step - loss: 0.6492 - accuracy: 0.6456 - val_loss: 0.6414 - val_accuracy: 0.6600\n",
      "Epoch 16/40\n",
      "99/99 [==============================] - 18s 182ms/step - loss: 0.6399 - accuracy: 0.6442 - val_loss: 0.6336 - val_accuracy: 0.6743\n",
      "Epoch 17/40\n",
      "99/99 [==============================] - 18s 182ms/step - loss: 0.6490 - accuracy: 0.6490 - val_loss: 0.6568 - val_accuracy: 0.6686\n",
      "Epoch 18/40\n",
      "99/99 [==============================] - 18s 182ms/step - loss: 0.6330 - accuracy: 0.6437 - val_loss: 0.6242 - val_accuracy: 0.6486\n",
      "Epoch 19/40\n",
      "99/99 [==============================] - 18s 182ms/step - loss: 0.6186 - accuracy: 0.6586 - val_loss: 0.6758 - val_accuracy: 0.6330\n",
      "Epoch 20/40\n",
      "99/99 [==============================] - 18s 182ms/step - loss: 0.6208 - accuracy: 0.6667 - val_loss: 0.6400 - val_accuracy: 0.6486\n",
      "Epoch 21/40\n",
      "99/99 [==============================] - 18s 184ms/step - loss: 0.6024 - accuracy: 0.6679 - val_loss: 0.6348 - val_accuracy: 0.6444\n",
      "Epoch 22/40\n",
      "99/99 [==============================] - 18s 182ms/step - loss: 0.6010 - accuracy: 0.6711 - val_loss: 0.6364 - val_accuracy: 0.6600\n",
      "Epoch 23/40\n",
      "99/99 [==============================] - 18s 182ms/step - loss: 0.6022 - accuracy: 0.6777 - val_loss: 0.6473 - val_accuracy: 0.6444\n",
      "Epoch 24/40\n",
      "99/99 [==============================] - 18s 182ms/step - loss: 0.6013 - accuracy: 0.6738 - val_loss: 1.6910 - val_accuracy: 0.6046\n",
      "Epoch 25/40\n",
      "99/99 [==============================] - 18s 182ms/step - loss: 0.5903 - accuracy: 0.6796 - val_loss: 0.9433 - val_accuracy: 0.6643\n",
      "Epoch 26/40\n",
      "99/99 [==============================] - 18s 182ms/step - loss: 0.5851 - accuracy: 0.6788 - val_loss: 0.6004 - val_accuracy: 0.6743\n",
      "Epoch 27/40\n",
      "99/99 [==============================] - 18s 182ms/step - loss: 0.5685 - accuracy: 0.6905 - val_loss: 0.6383 - val_accuracy: 0.6700\n",
      "Epoch 28/40\n",
      "99/99 [==============================] - 18s 182ms/step - loss: 0.5673 - accuracy: 0.6931 - val_loss: 0.6484 - val_accuracy: 0.6572\n",
      "Epoch 29/40\n",
      "99/99 [==============================] - 18s 182ms/step - loss: 0.5653 - accuracy: 0.6830 - val_loss: 0.7582 - val_accuracy: 0.6458\n",
      "Epoch 30/40\n",
      "99/99 [==============================] - 18s 182ms/step - loss: 0.5548 - accuracy: 0.6905 - val_loss: 0.6119 - val_accuracy: 0.6785\n",
      "Epoch 31/40\n",
      "99/99 [==============================] - 18s 183ms/step - loss: 0.5494 - accuracy: 0.6994 - val_loss: 0.6533 - val_accuracy: 0.6842\n",
      "Epoch 32/40\n",
      "99/99 [==============================] - 18s 183ms/step - loss: 0.5335 - accuracy: 0.7045 - val_loss: 0.6235 - val_accuracy: 0.6728\n",
      "Epoch 33/40\n",
      "99/99 [==============================] - 18s 182ms/step - loss: 0.5256 - accuracy: 0.7035 - val_loss: 0.6385 - val_accuracy: 0.6913\n",
      "Epoch 34/40\n",
      "99/99 [==============================] - 18s 183ms/step - loss: 0.5116 - accuracy: 0.7200 - val_loss: 0.6002 - val_accuracy: 0.6842\n",
      "Epoch 35/40\n",
      "99/99 [==============================] - 18s 182ms/step - loss: 0.5137 - accuracy: 0.7087 - val_loss: 0.6838 - val_accuracy: 0.6771\n",
      "Epoch 36/40\n",
      "99/99 [==============================] - 18s 183ms/step - loss: 0.4922 - accuracy: 0.7247 - val_loss: 0.7102 - val_accuracy: 0.6913\n",
      "Epoch 37/40\n",
      "99/99 [==============================] - 18s 183ms/step - loss: 0.4952 - accuracy: 0.7323 - val_loss: 0.7483 - val_accuracy: 0.6344\n",
      "Epoch 38/40\n",
      "99/99 [==============================] - 18s 183ms/step - loss: 0.4866 - accuracy: 0.7389 - val_loss: 0.6802 - val_accuracy: 0.6828\n",
      "Epoch 39/40\n",
      "99/99 [==============================] - 18s 182ms/step - loss: 0.4898 - accuracy: 0.7299 - val_loss: 0.7117 - val_accuracy: 0.6899\n",
      "Epoch 40/40\n",
      "99/99 [==============================] - 18s 183ms/step - loss: 0.4633 - accuracy: 0.7434 - val_loss: 0.6646 - val_accuracy: 0.6927\n"
     ]
    }
   ],
   "source": [
    "if __name__ == '__main__':\n",
    "    kok_dizin = os.path.join(os.getcwd(), \"Project1\")\n",
    "    yollar, etiketler = mammo_gorunumlerini_listele(kok_dizin)\n",
    "    X, y = load_and_preprocess(yollar, etiketler)\n",
    "\n",
    "    X_egitim_val, X_test, y_egitim_val, y_test = train_test_split(X, y, test_size=0.1, stratify=y, random_state=42)\n",
    "    np.save(\"X_test_1_3.npy\", X_test)\n",
    "    np.save(\"y_test_1_3.npy\", y_test)\n",
    "    model = create_cnn_model()\n",
    "    model.compile(optimizer=Adam(learning_rate=learning_rate),\n",
    "              loss='categorical_crossentropy',\n",
    "              metrics=['accuracy'])\n",
    "\n",
    "    geri_cagirmalar = [\n",
    "        EarlyStopping(patience=earlystop_patience, restore_best_weights=True),\n",
    "        ReduceLROnPlateau(patience=reduce_lr_patience, factor=0.5)\n",
    "    ]\n",
    "    #chatgpt\n",
    "    model.fit(X_egitim_val, pd.get_dummies(y_egitim_val),\n",
    "          epochs=epochs, batch_size=batch_size,validation_split=0.1,\n",
    "          callbacks=geri_cagirmalar, verbose=1)\n",
    "\n",
    "    olasiliklar = model.predict(X_test)\n",
    "    esikler = np.linspace(0.4, 0.6, 21)\n",
    "    en_iyi_f1, en_iyi_T_m, en_iyi_T_b = 0, 0.47, 0.53\n",
    "    for T_m_aday in esikler:\n",
    "        for T_b_aday in esikler:\n",
    "            tahminler = [2 if p[2] >= T_m_aday else 1 if p[1] >= T_b_aday else 0 for p in olasiliklar]\n",
    "            f1 = f1_score(y_test, tahminler, average='macro')\n",
    "            if f1 > en_iyi_f1:\n",
    "                en_iyi_f1, en_iyi_T_m, en_iyi_T_b = f1, T_m_aday, T_b_aday"
   ]
  },
  {
   "cell_type": "markdown",
   "id": "64b12eec",
   "metadata": {},
   "source": [
    " Metirkler**"
   ]
  },
  {
   "cell_type": "code",
   "execution_count": 7,
   "id": "d3c71fe4",
   "metadata": {},
   "outputs": [
    {
     "name": "stdout",
     "output_type": "stream",
     "text": [
      "En iyi eşik sınırı: T_m=0.41, T_b=0.52\n",
      "en iyi f1 değeri: \n",
      "f1: 0.7331778505680333\n",
      "              precision    recall  f1-score   support\n",
      "\n",
      "      normal       0.84      0.86      0.85       241\n",
      "      benign       0.75      0.56      0.64       268\n",
      "      cancer       0.64      0.79      0.71       272\n",
      "\n",
      "    accuracy                           0.73       781\n",
      "   macro avg       0.75      0.74      0.73       781\n",
      "weighted avg       0.74      0.73      0.73       781\n",
      "\n",
      "[[207  14  20]\n",
      " [ 17 149 102]\n",
      " [ 21  35 216]]\n",
      "Accuracy: 0.7323943661971831\n",
      "Precision: 0.7454921553822653\n",
      "Recall: 0.736336319379427\n",
      "AUC: 0.8959789320257484\n"
     ]
    }
   ],
   "source": [
    "nihai_tahminler = [2 if p[2] >= en_iyi_T_m else 1 if p[1] >= en_iyi_T_b else 0 for p in olasiliklar]\n",
    "print(f\"En iyi eşik sınırı: T_m={en_iyi_T_m:.2f}, T_b={en_iyi_T_b:.2f}\")\n",
    "print(f\"en iyi f1 değeri: \\nf1: {en_iyi_f1}\")\n",
    "print(classification_report(y_test, nihai_tahminler, target_names=['normal','benign','cancer']))\n",
    "print(confusion_matrix(y_test, nihai_tahminler))\n",
    "print(\"Accuracy:\", accuracy_score(y_test, nihai_tahminler))\n",
    "print(\"Precision:\", precision_score(y_test, nihai_tahminler, average='macro'))\n",
    "print(\"Recall:\", recall_score(y_test, nihai_tahminler, average='macro'))\n",
    "try:\n",
    "    print(\"AUC:\", roc_auc_score(pd.get_dummies(y_test), olasiliklar, average='macro', multi_class='ovr'))\n",
    "except:\n",
    "    print(\"AUC hesaplanamadı (muhtemelen tek sınıf tahmini nedeniyle)\")\n",
    "with open(\"optimized_thresholds.txt\", \"w\") as f:\n",
    "    f.write(f\"Best T_m: {en_iyi_T_m}\\nBest T_b: {en_iyi_T_b}\\nBest F1: {en_iyi_f1}\")"
   ]
  },
  {
   "cell_type": "code",
   "execution_count": 8,
   "id": "9a7c3be6",
   "metadata": {},
   "outputs": [],
   "source": [
    "#### 💾 **6. Model ve Eşik Kayıtları**\n"
   ]
  },
  {
   "cell_type": "code",
   "execution_count": 9,
   "id": "7ed070b7",
   "metadata": {},
   "outputs": [
    {
     "name": "stdout",
     "output_type": "stream",
     "text": [
      "Model kaydedildi: model3.h5\n"
     ]
    }
   ],
   "source": [
    "model_name = \"model3.h5\"\n",
    "model.save(model_name)\n",
    "print(f\"Model kaydedildi: {model_name}\")"
   ]
  }
 ],
 "metadata": {
  "kernelspec": {
   "display_name": "tf-gpu-211",
   "language": "python",
   "name": "python3"
  },
  "language_info": {
   "codemirror_mode": {
    "name": "ipython",
    "version": 3
   },
   "file_extension": ".py",
   "mimetype": "text/x-python",
   "name": "python",
   "nbconvert_exporter": "python",
   "pygments_lexer": "ipython3",
   "version": "3.8.20"
  }
 },
 "nbformat": 4,
 "nbformat_minor": 5
}

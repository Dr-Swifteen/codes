{
 "cells": [
  {
   "cell_type": "code",
   "execution_count": 1,
   "id": "c99ec62b",
   "metadata": {},
   "outputs": [],
   "source": [
    "import os\n",
    "import re\n",
    "import cv2\n",
    "import numpy as np\n",
    "import pandas as pd\n",
    "from sklearn.metrics import classification_report, confusion_matrix, f1_score, accuracy_score, precision_score, recall_score, roc_auc_score\n",
    "from tensorflow.keras.models import load_model\n",
    "import joblib\n",
    "import xgboost as xgb\n"
   ]
  },
  {
   "cell_type": "markdown",
   "id": "a44e4b6e",
   "metadata": {},
   "source": [
    "**#### 🧠 **MLP****"
   ]
  },
  {
   "cell_type": "code",
   "execution_count": 2,
   "id": "bdac1a8d",
   "metadata": {},
   "outputs": [],
   "source": [
    "model = load_model(\"MLP_1_3.h5\")\n",
    "T_m = 0.22\n",
    "T_b = 0.64\n",
    "classes = ['normal', 'benign', 'cancer']\n",
    "label_map = {'normal': 0, 'benign': 1, 'cancer': 2}\n"
   ]
  },
  {
   "cell_type": "code",
   "execution_count": 3,
   "id": "dff67e25",
   "metadata": {},
   "outputs": [],
   "source": [
    "\n",
    "\n",
    "X_test = np.load(\"X_test_1_3.npy\")\n",
    "y_test = np.load(\"y_test_1_3.npy\")"
   ]
  },
  {
   "cell_type": "code",
   "execution_count": 4,
   "id": "26b0f3a6",
   "metadata": {},
   "outputs": [],
   "source": [
    "probs = model.predict(X_test)\n",
    "preds = [2 if p[2] >= T_m else 1 if p[1] >= T_b else 0 for p in probs]"
   ]
  },
  {
   "cell_type": "markdown",
   "id": "64b12eec",
   "metadata": {},
   "source": [
    " Metirkler**"
   ]
  },
  {
   "cell_type": "code",
   "execution_count": 5,
   "id": "d3c71fe4",
   "metadata": {},
   "outputs": [
    {
     "name": "stdout",
     "output_type": "stream",
     "text": [
      "\n",
      " --------------MLP RESULTS----------------\n",
      "              precision    recall  f1-score   support\n",
      "\n",
      "      normal       0.42      0.53      0.47       241\n",
      "      benign       0.39      0.68      0.49       268\n",
      "      cancer       0.38      0.01      0.02       272\n",
      "\n",
      "    accuracy                           0.40       781\n",
      "   macro avg       0.39      0.41      0.33       781\n",
      "weighted avg       0.39      0.40      0.32       781\n",
      "\n",
      "Confusion Matrix:\n",
      " [[128 110   3]\n",
      " [ 84 182   2]\n",
      " [ 92 177   3]]\n",
      "Accuracy: 0.4007682458386684\n",
      "Precision: 0.39470411102382824\n",
      "Recall: 0.40708474044228454\n",
      "📌 F1 Score: 0.3283491692022433\n",
      "AUC: 0.5617580251800322\n"
     ]
    }
   ],
   "source": [
    "print(\"\\n --------------MLP RESULTS----------------\")\n",
    "print(classification_report(y_test, preds, target_names=classes))\n",
    "print(\"Confusion Matrix:\\n\", confusion_matrix(y_test, preds))\n",
    "print(\"Accuracy:\", accuracy_score(y_test, preds))\n",
    "print(\"Precision:\", precision_score(y_test, preds, average='macro'))\n",
    "print(\"Recall:\", recall_score(y_test, preds, average='macro'))\n",
    "print(\"📌 F1 Score:\", f1_score(y_test, preds, average='macro'))\n",
    "try:\n",
    "    print(\"AUC:\", roc_auc_score(pd.get_dummies(y_test), probs,\n",
    "                                 multi_class='ovr', average='macro'))\n",
    "except:\n",
    "    print(\"AUC hesaplanamadı.\")"
   ]
  },
  {
   "cell_type": "markdown",
   "id": "5561cb90",
   "metadata": {},
   "source": [
    "**#### 🧠 **RANDOM FOREST****"
   ]
  },
  {
   "cell_type": "code",
   "execution_count": 6,
   "id": "1894a699",
   "metadata": {},
   "outputs": [],
   "source": [
    "model = joblib.load(\"RF_1_3.pkl\")\n",
    "T_m = 0.46\n",
    "T_b = 0.43\n",
    "classes = ['normal', 'benign', 'cancer']\n",
    "label_map = {'normal': 0, 'benign': 1, 'cancer': 2}"
   ]
  },
  {
   "cell_type": "code",
   "execution_count": 7,
   "id": "2e7f9314",
   "metadata": {},
   "outputs": [
    {
     "name": "stdout",
     "output_type": "stream",
     "text": [
      "\n",
      " --------------RF RESULTS----------------\n",
      "              precision    recall  f1-score   support\n",
      "\n",
      "      normal       0.38      0.51      0.44       241\n",
      "      benign       0.39      0.33      0.36       268\n",
      "      cancer       0.38      0.32      0.35       272\n",
      "\n",
      "    accuracy                           0.38       781\n",
      "   macro avg       0.38      0.39      0.38       781\n",
      "weighted avg       0.38      0.38      0.38       781\n",
      "\n",
      "Confusion Matrix:\n",
      " [[124  51  66]\n",
      " [101  89  78]\n",
      " [ 98  87  87]]\n",
      "Accuracy: 0.38412291933418696\n",
      "Precision: 0.38419826333248136\n",
      "Recall: 0.3888217716640134\n",
      "📌 F1 Score: 0.3817455749776717\n",
      "AUC: 0.5425813590844639\n"
     ]
    }
   ],
   "source": [
    "X_test = np.load(\"X_test_1_3.npy\")\n",
    "y_test = np.load(\"y_test_1_3.npy\")\n",
    "probs = model.predict_proba(X_test) \n",
    "preds = [2 if p[2] >= T_m else 1 if p[1] >= T_b else 0 for p in probs]\n",
    "print(\"\\n --------------RF RESULTS----------------\")\n",
    "print(classification_report(y_test, preds, target_names=classes))\n",
    "print(\"Confusion Matrix:\\n\", confusion_matrix(y_test, preds))\n",
    "print(\"Accuracy:\", accuracy_score(y_test, preds))\n",
    "print(\"Precision:\", precision_score(y_test, preds, average='macro'))\n",
    "print(\"Recall:\", recall_score(y_test, preds, average='macro'))\n",
    "print(\"📌 F1 Score:\", f1_score(y_test, preds, average='macro'))\n",
    "try:\n",
    "    print(\"AUC:\", roc_auc_score(pd.get_dummies(y_test), probs,\n",
    "                                 multi_class='ovr', average='macro'))\n",
    "except:\n",
    "    print(\"AUC hesaplanamadı.\")"
   ]
  },
  {
   "cell_type": "markdown",
   "id": "885df2b0",
   "metadata": {},
   "source": [
    "**#### 🧠 **XP-Boost****"
   ]
  },
  {
   "cell_type": "code",
   "execution_count": 8,
   "id": "6ee8a547",
   "metadata": {},
   "outputs": [],
   "source": [
    "loaded_xgb_model_booster = xgb.Booster() # Initialize an empty booster\n",
    "loaded_xgb_model_booster.load_model(\"XGBoost_1_3.json\") # Load the model into the booster object\n",
    "# No need for 'model =' here, loaded_xgb_model_booster now holds the model\n",
    "T_m = 0.37\n",
    "T_b = 0.37\n",
    "classes = ['normal', 'benign', 'cancer']\n",
    "label_map = {'normal': 0, 'benign': 1, 'cancer': 2}\n",
    "\n",
    "X_test = np.load(\"X_test_1_3.npy\")\n",
    "y_test = np.load(\"y_test_1_3.npy\")\n",
    "\n",
    "dtest_predict = xgb.DMatrix(X_test) \n",
    "probs = loaded_xgb_model_booster.predict(dtest_predict) \n",
    "preds = [2 if p[2] >= T_m else 1 if p[1] >= T_b else 0 for p in probs]\n",
    "\n"
   ]
  },
  {
   "cell_type": "code",
   "execution_count": 9,
   "id": "4d49be51",
   "metadata": {},
   "outputs": [
    {
     "name": "stdout",
     "output_type": "stream",
     "text": [
      "\n",
      " --------------XP-B RESULTS----------------\n",
      "              precision    recall  f1-score   support\n",
      "\n",
      "      normal       0.39      0.44      0.42       241\n",
      "      benign       0.39      0.29      0.33       268\n",
      "      cancer       0.38      0.44      0.41       272\n",
      "\n",
      "    accuracy                           0.39       781\n",
      "   macro avg       0.39      0.39      0.39       781\n",
      "weighted avg       0.39      0.39      0.38       781\n",
      "\n",
      "Confusion Matrix:\n",
      " [[107  50  84]\n",
      " [ 82  77 109]\n",
      " [ 83  70 119]]\n",
      "Accuracy: 0.3879641485275288\n",
      "Precision: 0.3885518511712898\n",
      "Recall: 0.3895989451084825\n",
      "📌 F1 Score: 0.3852903461252106\n",
      "AUC: 0.5699903599561056\n"
     ]
    }
   ],
   "source": [
    "\n",
    "print(\"\\n --------------XP-B RESULTS----------------\")\n",
    "print(classification_report(y_test, preds, target_names=classes))\n",
    "print(\"Confusion Matrix:\\n\", confusion_matrix(y_test, preds))\n",
    "print(\"Accuracy:\", accuracy_score(y_test, preds))\n",
    "print(\"Precision:\", precision_score(y_test, preds, average='macro'))\n",
    "print(\"Recall:\", recall_score(y_test, preds, average='macro'))\n",
    "print(\"📌 F1 Score:\", f1_score(y_test, preds, average='macro'))\n",
    "try:\n",
    "    print(\"AUC:\", roc_auc_score(pd.get_dummies(y_test), probs,\n",
    "                                 multi_class='ovr', average='macro'))\n",
    "except:\n",
    "    print(\"AUC hesaplanamadı.\")"
   ]
  }
 ],
 "metadata": {
  "kernelspec": {
   "display_name": "tf-gpu-211",
   "language": "python",
   "name": "python3"
  },
  "language_info": {
   "codemirror_mode": {
    "name": "ipython",
    "version": 3
   },
   "file_extension": ".py",
   "mimetype": "text/x-python",
   "name": "python",
   "nbconvert_exporter": "python",
   "pygments_lexer": "ipython3",
   "version": "3.8.20"
  }
 },
 "nbformat": 4,
 "nbformat_minor": 5
}

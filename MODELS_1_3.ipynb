{
 "cells": [
  {
   "cell_type": "markdown",
   "id": "c01195bc",
   "metadata": {},
   "source": [
    "#### 📌 **HİPERPARAMETRELERİ BURADAN AYARLA**"
   ]
  },
  {
   "cell_type": "code",
   "execution_count": 1,
   "id": "e86f048d",
   "metadata": {},
   "outputs": [],
   "source": [
    "learning_rate = 1e-3       \n",
    "batch_size = 32           \n",
    "pca_variance = 0.97       # PCA varyans koruma oranı\n",
    "roi_crop_size = (256,256)\n",
    "patch_size = (128,128)\n",
    "mlp_hidden_units = [128, 256,512]\n",
    "mlp_dropout_rate = 0.55\n",
    "mlp_epochs = 55\n",
    "mlp_earlystop_patience = 9\n",
    "pixels_per_cell=(16,16)\n",
    "cells_per_block=(2,2)\n",
    "orientations=10"
   ]
  },
  {
   "cell_type": "code",
   "execution_count": 2,
   "id": "c99ec62b",
   "metadata": {},
   "outputs": [],
   "source": [
    "import os, re, joblib\n",
    "import cv2\n",
    "import numpy as np\n",
    "import pandas as pd\n",
    "from skimage.feature import hog, greycomatrix, greycoprops\n",
    "from skimage.filters import threshold_otsu, median\n",
    "from skimage.morphology import opening, disk\n",
    "from sklearn.decomposition import PCA\n",
    "from sklearn.model_selection import train_test_split\n",
    "from sklearn.ensemble import RandomForestClassifier\n",
    "import xgboost as xgb\n",
    "from sklearn.metrics import classification_report, f1_score, accuracy_score, precision_score, recall_score, roc_auc_score\n",
    "from joblib import Parallel, delayed\n",
    "from tensorflow.keras.models import Sequential, load_model\n",
    "from tensorflow.keras.layers import Dense, Dropout\n",
    "from tensorflow.keras.optimizers import Adam\n",
    "from sklearn.metrics import confusion_matrix\n",
    "from tensorflow.keras.callbacks import EarlyStopping, ReduceLROnPlateau\n"
   ]
  },
  {
   "cell_type": "markdown",
   "id": "869b7c61",
   "metadata": {},
   "source": [
    "#### 📁 **1. Görüntü Yolu Listeleme Fonksiyonu ve Ön işleme**\n"
   ]
  },
  {
   "cell_type": "code",
   "execution_count": 3,
   "id": "503e4d6c",
   "metadata": {},
   "outputs": [],
   "source": [
    "def process_single_image(args):\n",
    "    img_path, label, classes = args\n",
    "    img = cv2.imread(img_path, cv2.IMREAD_GRAYSCALE)\n",
    "    thr = threshold_otsu(img)\n",
    "    mask = opening((img>thr).astype(np.uint8), disk(roi_crop_size[0]//10))\n",
    "    img = cv2.bitwise_and(img, img, mask=mask)\n",
    "    img = cv2.resize(img, roi_crop_size)\n",
    "    img = img.astype(np.float32)\n",
    "\n",
    "    center = np.array(roi_crop_size) // 2\n",
    "    ps = np.array(patch_size) // 2\n",
    "    patch = img[center[0]-ps[0]:center[0]+ps[0], center[1]-ps[1]+0:center[1]+ps[1]]\n",
    "\n",
    "    patch = median(patch)\n",
    "    patch = cv2.GaussianBlur(patch, (3, 3), 0)\n",
    "    patch = patch.astype(np.float32) / 255.0\n",
    "\n",
    "    return patch, classes.index(label)\n"
   ]
  },
  {
   "cell_type": "code",
   "execution_count": 4,
   "id": "bdac1a8d",
   "metadata": {},
   "outputs": [],
   "source": [
    "def extract_and_preprocess_parallel(root_dir, classes, n_jobs=-1):\n",
    "    pattern = re.compile(r'^[A-Z]_\\d+_\\d+\\.(LEFT|RIGHT)_(CC|MLO)\\.jpg$', re.IGNORECASE)\n",
    "    siniflar = ['benign', 'cancer', 'normal']\n",
    "    yollar, etiketler = [], []\n",
    "\n",
    "    for cls in siniflar:\n",
    "        cls_yolu = os.path.join(root_dir, cls)\n",
    "        if not os.path.isdir(cls_yolu):\n",
    "            continue\n",
    "        for durum_id in os.listdir(cls_yolu):\n",
    "            durum_yolu = os.path.join(cls_yolu, durum_id)\n",
    "            if not os.path.isdir(durum_yolu):\n",
    "                continue\n",
    "            for dosya_adi in os.listdir(durum_yolu):\n",
    "                if pattern.match(dosya_adi):\n",
    "                    yollar.append(os.path.join(durum_yolu, dosya_adi))\n",
    "                    etiketler.append(cls)\n",
    "\n",
    "    # === Paralel işleme ===\n",
    "    arg_list = [(img_path, lbl, classes) for img_path, lbl in zip(yollar, etiketler)]\n",
    "    results = Parallel(n_jobs=n_jobs)(delayed(process_single_image)(args) for args in arg_list)\n",
    "\n",
    "    X, y = zip(*results)\n",
    "    np.save(\"mask_morfolojik_x\",X)\n",
    "    np.save(\"mask_morfolojik_y\",y)\n",
    "    return np.array(X), np.array(y)"
   ]
  },
  {
   "cell_type": "code",
   "execution_count": null,
   "id": "503afa77",
   "metadata": {},
   "outputs": [],
   "source": []
  },
  {
   "cell_type": "markdown",
   "id": "3a467d65",
   "metadata": {},
   "source": [
    "#### 🧼 **2. ROI extraction**\n"
   ]
  },
  {
   "cell_type": "code",
   "execution_count": 5,
   "id": "dff67e25",
   "metadata": {},
   "outputs": [],
   "source": [
    "def extract_features_from_image(im):\n",
    "    h = hog(im, pixels_per_cell=pixels_per_cell,\n",
    "                cells_per_block=cells_per_block,\n",
    "                orientations=orientations)\n",
    "    g = greycomatrix((im*255).astype(np.uint8), [1], [0], levels=256)\n",
    "    glcm = [greycoprops(g, prop)[0, 0] for prop in ('contrast', 'homogeneity', 'energy')]\n",
    "    area = np.sum(im > 0.5)\n",
    "    perimeter = np.sum(cv2.Canny((im * 255).astype(np.uint8), 50, 150) > 0)\n",
    "    ecc = 0\n",
    "    if area > 10:\n",
    "        pts = np.argwhere(im > 0.5)\n",
    "        rect = cv2.minAreaRect(pts.astype(np.float32))\n",
    "        ecc = rect[1][0] / (rect[1][1] + 1e-8)\n",
    "    return np.hstack([h, glcm, area, perimeter, ecc])\n",
    "\n",
    "def extract_features(X, out_prefix=None, n_jobs=-1):\n",
    "    # 2. UPDATE THE FUNCTION NAME INSIDE THE PARALLEL CALL HERE\n",
    "    feats = Parallel(n_jobs=n_jobs)(delayed(extract_features_from_image)(im) for im in X)\n",
    "    feats = np.array(feats)\n",
    "    pca = PCA(n_components=pca_variance)\n",
    "    X_feat = pca.fit_transform(feats)\n",
    "    return X_feat, pca"
   ]
  },
  {
   "cell_type": "markdown",
   "id": "4470488c",
   "metadata": {},
   "source": [
    "#### 🧠 **3. CNN Model Tanımı**"
   ]
  },
  {
   "cell_type": "code",
   "execution_count": 6,
   "id": "1ddbdfeb",
   "metadata": {},
   "outputs": [],
   "source": [
    "def create_mlp_model(input_dim, num_classes, hidden_units, dropout_rate):\n",
    "    model = Sequential([\n",
    "        Dense(hidden_units[0], activation='relu', input_shape=(input_dim,)),\n",
    "        Dropout(dropout_rate),\n",
    "        Dense(hidden_units[1], activation='relu'),\n",
    "        Dropout(dropout_rate),\n",
    "        Dense(num_classes, activation='softmax')\n",
    "    ])\n",
    "    return model"
   ]
  },
  {
   "cell_type": "markdown",
   "id": "75ebbbaf",
   "metadata": {},
   "source": [
    "#### 🚂 **4. Model Eğitimi ve Kaydetme**\n"
   ]
  },
  {
   "cell_type": "code",
   "execution_count": 7,
   "id": "26b0f3a6",
   "metadata": {},
   "outputs": [],
   "source": [
    "def MLP(X_tr, X_test, y_tr, y_test,X_feat,classes):\n",
    "    \n",
    "    y_tr_cat = pd.get_dummies(y_tr).values\n",
    "    # model\n",
    "    model = create_mlp_model(\n",
    "        input_dim    = X_feat.shape[1],\n",
    "        num_classes  = len(classes),\n",
    "        hidden_units = mlp_hidden_units,\n",
    "        dropout_rate = mlp_dropout_rate\n",
    "    )\n",
    "    model.compile(optimizer=Adam(learning_rate),\n",
    "                  loss='categorical_crossentropy',\n",
    "                  metrics=['accuracy'])\n",
    "    callbacks = [\n",
    "        EarlyStopping(patience=mlp_earlystop_patience, restore_best_weights=True),\n",
    "        ReduceLROnPlateau(patience=mlp_earlystop_patience//2, factor=0.5)\n",
    "    ]\n",
    "    model.fit(X_tr, y_tr_cat,\n",
    "              validation_split=0.1,\n",
    "              epochs=mlp_epochs,\n",
    "              batch_size=batch_size,\n",
    "              callbacks=callbacks,\n",
    "              verbose=1)\n",
    "    olasiliklar = model.predict(X_test)\n",
    "    esikler = np.linspace(0.2, 0.8, 41)\n",
    "    en_iyi_f1, en_iyi_T_m, en_iyi_T_b = 0, 0.47, 0.53\n",
    "    for T_m_aday in esikler:\n",
    "        for T_b_aday in esikler:\n",
    "            tahminler = [2 if p[2] >= T_m_aday else 1 if p[1] >= T_b_aday else 0 for p in olasiliklar]\n",
    "            f1 = f1_score(y_test, tahminler, average='macro')\n",
    "            if f1 > en_iyi_f1:\n",
    "                en_iyi_f1, en_iyi_T_m, en_iyi_T_b = f1, T_m_aday, T_b_aday\n",
    "    nihai_tahminler = [2 if p[2] >= en_iyi_T_m else 1 if p[1] >= en_iyi_T_b else 0 for p in olasiliklar]\n",
    "    print()\n",
    "    print(\"---------------------MLP_Results---------------------\")\n",
    "    print(f\"En iyi eşik sınırı: T_m={en_iyi_T_m:.2f}, T_b={en_iyi_T_b:.2f}\")\n",
    "    print(classification_report(y_test, nihai_tahminler, target_names=['normal','benign','cancer']))\n",
    "    print(confusion_matrix(y_test, nihai_tahminler))\n",
    "    print(\"Accuracy:\", accuracy_score(y_test, nihai_tahminler))\n",
    "    print(\"Precision:\", precision_score(y_test, nihai_tahminler, average='macro'))\n",
    "    print(\"Recall:\", recall_score(y_test, nihai_tahminler, average='macro'))\n",
    "    try:\n",
    "        print(\"AUC:\", roc_auc_score(pd.get_dummies(y_test), olasiliklar, average='macro', multi_class='ovr'))\n",
    "    except:\n",
    "        print(\"AUC hesaplanamadı (muhtemelen tek sınıf tahmini nedeniyle)\")\n",
    "\n",
    "    model_name=\"MLP_1_3\"\n",
    "    model.save(f\"{model_name}.h5\")\n",
    "    print(f\"Model kaydedildi: {model_name}\")\n"
   ]
  },
  {
   "cell_type": "markdown",
   "id": "64b12eec",
   "metadata": {},
   "source": [
    " Metirkler**"
   ]
  },
  {
   "cell_type": "code",
   "execution_count": null,
   "id": "d3c71fe4",
   "metadata": {},
   "outputs": [],
   "source": []
  },
  {
   "cell_type": "markdown",
   "id": "ec2926e8",
   "metadata": {},
   "source": [
    "#### 💾 **6. Model ve Eşik Kayıtları**"
   ]
  },
  {
   "cell_type": "code",
   "execution_count": null,
   "id": "7ed070b7",
   "metadata": {},
   "outputs": [],
   "source": []
  },
  {
   "cell_type": "markdown",
   "id": "a9036122",
   "metadata": {},
   "source": [
    "#### 📌 **HİPERPARAMETRELERİ BURADAN AYARLA**"
   ]
  },
  {
   "cell_type": "code",
   "execution_count": 8,
   "id": "fe92af6f",
   "metadata": {},
   "outputs": [],
   "source": [
    "\n",
    "n_estimators=1000\n",
    "max_depth=40\n",
    "random_state=45"
   ]
  },
  {
   "cell_type": "code",
   "execution_count": null,
   "id": "983223b0",
   "metadata": {},
   "outputs": [],
   "source": []
  },
  {
   "cell_type": "markdown",
   "id": "24641b4b",
   "metadata": {},
   "source": [
    "#### 🧠 **3. CNN Model Tanımı**"
   ]
  },
  {
   "cell_type": "code",
   "execution_count": 9,
   "id": "d362a9a4",
   "metadata": {},
   "outputs": [],
   "source": [
    "def Random_Forest(X_tr, X_test, y_tr, y_test,X_feat,classes):\n",
    "    \n",
    "    # model tanımı\n",
    "    model = RandomForestClassifier(n_estimators=n_estimators,\n",
    "                                   max_depth=max_depth,\n",
    "                                   random_state=random_state,min_samples_split=2,min_samples_leaf=3)\n",
    "    model.fit(X_tr, y_tr)\n",
    "    # kaydet\n",
    "    \n",
    "    \n",
    "    # değerlendirme\n",
    "    olasiliklar = model.predict_proba(X_test)\n",
    "    esikler = np.linspace(0.2, 0.8, 41)\n",
    "    en_iyi_f1, en_iyi_T_m, en_iyi_T_b = 0, 0.49, 0.51\n",
    "    for T_m_aday in esikler:\n",
    "        for T_b_aday in esikler:\n",
    "            tahminler = [2 if p[2] >= T_m_aday else 1 if p[1] >= T_b_aday else 0 for p in olasiliklar]\n",
    "            f1 = f1_score(y_test, tahminler, average='macro')\n",
    "            if f1 > en_iyi_f1:\n",
    "                en_iyi_f1, en_iyi_T_m, en_iyi_T_b = f1, T_m_aday, T_b_aday\n",
    "    nihai_tahminler = [2 if p[2] >= en_iyi_T_m else 1 if p[1] >= en_iyi_T_b else 0 for p in olasiliklar]\n",
    "    print()\n",
    "    print(\"-----------------RF_Results-----------------\")\n",
    "    print(f\"En iyi eşik sınırı: T_m={en_iyi_T_m:.2f}, T_b={en_iyi_T_b:.2f}\")\n",
    "    print(classification_report(y_test, nihai_tahminler, target_names=['normal','benign','cancer']))\n",
    "    print(confusion_matrix(y_test, nihai_tahminler))\n",
    "    print(\"Accuracy:\", accuracy_score(y_test, nihai_tahminler))\n",
    "    print(\"Precision:\", precision_score(y_test, nihai_tahminler, average='macro'))\n",
    "    print(\"Recall:\", recall_score(y_test, nihai_tahminler, average='macro'))\n",
    "    try:\n",
    "        print(\"AUC:\", roc_auc_score(pd.get_dummies(y_test), olasiliklar, average='macro', multi_class='ovr'))\n",
    "    except:\n",
    "        print(\"AUC hesaplanamadı (muhtemelen tek sınıf tahmini nedeniyle)\")\n",
    "\n",
    "    joblib.dump(model, \"RF_1_3.pkl\")\n",
    "    print(f\"Model kaydedildi:\")"
   ]
  },
  {
   "cell_type": "markdown",
   "id": "365f4409",
   "metadata": {},
   "source": [
    "#### 📌 **HİPERPARAMETRELERİ BURADAN AYARLA**"
   ]
  },
  {
   "cell_type": "code",
   "execution_count": 10,
   "id": "173e2253",
   "metadata": {},
   "outputs": [],
   "source": [
    "learning_rate = 1e-5      \n",
    "xgb_n_estimators = 300\n",
    "xgb_max_depth = 8\n",
    "xgb_learning_rate = 0.1\n",
    "xgb_subsample = 0.75\n",
    "xgb_colsample_bytree = 0.8\n",
    "xgb_earlystop_rounds = 32"
   ]
  },
  {
   "cell_type": "markdown",
   "id": "0ef11f9c",
   "metadata": {},
   "source": [
    "#### 🧠 **3. CNN Model Tanımı**"
   ]
  },
  {
   "cell_type": "code",
   "execution_count": 11,
   "id": "d75cf3ee",
   "metadata": {},
   "outputs": [],
   "source": [
    "def XGBoost(X_tr, X_test, y_tr, y_test,X_feat,classes):\n",
    "    dtrain = xgb.DMatrix(X_tr, label=y_tr)\n",
    "    dtest  = xgb.DMatrix(X_test, label=y_test)\n",
    "    params = {\n",
    "        'objective':'multi:softprob',\n",
    "        'num_class':3,\n",
    "        'eta':xgb_learning_rate,\n",
    "        'max_depth':xgb_max_depth,\n",
    "        'subsample':xgb_subsample,\n",
    "        'colsample_bytree':xgb_colsample_bytree,\n",
    "        'eval_metric':'mlogloss'\n",
    "    }\n",
    "    model = xgb.train(params, dtrain, num_boost_round=xgb_n_estimators,\n",
    "                    early_stopping_rounds=xgb_earlystop_rounds,\n",
    "                    evals=[(dtest,'eval')], verbose_eval=False)\n",
    "  \n",
    "\n",
    "    dtest_predict = xgb.DMatrix(X_test)\n",
    "    olasiliklar = model.predict(dtest_predict) # Corrected line: passing dtest_predict instead of X_test\n",
    "    esikler = np.linspace(0.2, 0.8, 41)\n",
    "    en_iyi_f1, en_iyi_T_m, en_iyi_T_b = 0, 0.48, 0.52\n",
    "    for T_m_aday in esikler:\n",
    "        for T_b_aday in esikler:\n",
    "            tahminler = [2 if p[2] >= T_m_aday else 1 if p[1] >= T_b_aday else 0 for p in olasiliklar]\n",
    "            f1 = f1_score(y_test, tahminler, average='macro')\n",
    "            if f1 > en_iyi_f1:\n",
    "                en_iyi_f1, en_iyi_T_m, en_iyi_T_b = f1, T_m_aday, T_b_aday\n",
    "    nihai_tahminler = [2 if p[2] >= en_iyi_T_m else 1 if p[1] >= en_iyi_T_b else 0 for p in olasiliklar]\n",
    "\n",
    "    print(\"------------XPBoost------------------\")\n",
    "    print(f\"En iyi eşik sınırı: T_m={en_iyi_T_m:.2f}, T_b={en_iyi_T_b:.2f}\")\n",
    "    print(classification_report(y_test, nihai_tahminler, target_names=['normal','benign','cancer']))\n",
    "    print(confusion_matrix(y_test, nihai_tahminler))\n",
    "    print(\"Accuracy:\", accuracy_score(y_test, nihai_tahminler))\n",
    "    print(\"Precision:\", precision_score(y_test, nihai_tahminler, average='macro'))\n",
    "    print(\"Recall:\", recall_score(y_test, nihai_tahminler, average='macro'))\n",
    "    try:\n",
    "        print(\"AUC:\", roc_auc_score(pd.get_dummies(y_test), olasiliklar, average='macro', multi_class='ovr'))\n",
    "    except:\n",
    "        print(\"AUC hesaplanamadı (muhtemelen tek sınıf tahmini nedeniyle)\")\n",
    "\n",
    "    model.save_model(f\"XGBoost_1_3.json\")\n",
    "    print(\"Model kaydedildi:\")"
   ]
  },
  {
   "cell_type": "markdown",
   "id": "32ff6069",
   "metadata": {},
   "source": [
    "#### 🧠 **3. CNN Model Tanımı**"
   ]
  },
  {
   "cell_type": "code",
   "execution_count": 12,
   "id": "b859467e",
   "metadata": {},
   "outputs": [
    {
     "name": "stdout",
     "output_type": "stream",
     "text": [
      "Epoch 1/55\n",
      "198/198 [==============================] - 2s 2ms/step - loss: 272.1218 - accuracy: 0.3262 - val_loss: 89.7305 - val_accuracy: 0.2660\n",
      "Epoch 2/55\n",
      "198/198 [==============================] - 0s 2ms/step - loss: 232.5128 - accuracy: 0.3344 - val_loss: 50.7009 - val_accuracy: 0.2660\n",
      "Epoch 3/55\n",
      "198/198 [==============================] - 0s 2ms/step - loss: 216.1235 - accuracy: 0.3382 - val_loss: 21.6303 - val_accuracy: 0.2660\n",
      "Epoch 4/55\n",
      "198/198 [==============================] - 1s 3ms/step - loss: 205.2190 - accuracy: 0.3336 - val_loss: 17.4050 - val_accuracy: 0.4011\n",
      "Epoch 5/55\n",
      "198/198 [==============================] - 0s 2ms/step - loss: 190.6759 - accuracy: 0.3316 - val_loss: 25.3975 - val_accuracy: 0.4011\n",
      "Epoch 6/55\n",
      "198/198 [==============================] - 0s 2ms/step - loss: 189.8315 - accuracy: 0.3465 - val_loss: 32.7378 - val_accuracy: 0.4011\n",
      "Epoch 7/55\n",
      "198/198 [==============================] - 0s 2ms/step - loss: 187.9123 - accuracy: 0.3371 - val_loss: 34.0087 - val_accuracy: 0.4011\n",
      "Epoch 8/55\n",
      "198/198 [==============================] - 0s 2ms/step - loss: 179.2594 - accuracy: 0.3449 - val_loss: 34.6586 - val_accuracy: 0.4011\n",
      "Epoch 9/55\n",
      "198/198 [==============================] - 0s 2ms/step - loss: 183.8869 - accuracy: 0.3370 - val_loss: 35.4120 - val_accuracy: 0.4011\n",
      "Epoch 10/55\n",
      "198/198 [==============================] - 0s 2ms/step - loss: 184.7675 - accuracy: 0.3272 - val_loss: 36.9179 - val_accuracy: 0.4011\n",
      "Epoch 11/55\n",
      "198/198 [==============================] - 0s 2ms/step - loss: 176.4289 - accuracy: 0.3504 - val_loss: 37.3534 - val_accuracy: 0.4011\n",
      "Epoch 12/55\n",
      "198/198 [==============================] - 0s 2ms/step - loss: 176.8461 - accuracy: 0.3469 - val_loss: 36.4880 - val_accuracy: 0.4011\n",
      "Epoch 13/55\n",
      "198/198 [==============================] - 0s 2ms/step - loss: 176.2802 - accuracy: 0.3404 - val_loss: 36.5928 - val_accuracy: 0.4011\n",
      "\n",
      "---------------------MLP_Results---------------------\n",
      "En iyi eşik sınırı: T_m=0.22, T_b=0.64\n",
      "              precision    recall  f1-score   support\n",
      "\n",
      "      normal       0.42      0.53      0.47       241\n",
      "      benign       0.39      0.69      0.50       268\n",
      "      cancer       0.38      0.01      0.02       272\n",
      "\n",
      "    accuracy                           0.40       781\n",
      "   macro avg       0.40      0.41      0.33       781\n",
      "weighted avg       0.40      0.40      0.32       781\n",
      "\n",
      "[[128 110   3]\n",
      " [ 82 184   2]\n",
      " [ 92 177   3]]\n",
      "Accuracy: 0.4033290653008963\n",
      "Precision: 0.39649974456677123\n",
      "Recall: 0.4095723026313393\n",
      "AUC: 0.5617580251800322\n",
      "Model kaydedildi: MLP_1_3\n"
     ]
    }
   ],
   "source": [
    "if __name__ == '__main__':\n",
    "    classes = ['normal','benign','cancer']\n",
    "    kok_dizin = os.path.join(os.getcwd(), \"Project1\")\n",
    "    X, y = extract_and_preprocess_parallel(kok_dizin, classes,n_jobs=-1)\n",
    "    X_feat, pca = extract_features(X)\n",
    "    X_tr, X_test, y_tr, y_test = train_test_split(X_feat, y, test_size=0.1,\n",
    "                                               stratify=y, random_state=42)\n",
    "    np.save(\"X_test_1_3.npy\", X_test)\n",
    "    np.save(\"y_test_1_3.npy\", y_test)\n",
    "    np.savez(\"X_feat_1_3.npz\", X_feat)\n",
    "    np.savez(\"X_pca_1_3.npz\", pca)\n",
    "    np.save(\"Xtr_preprocessed_1_3.npy\", X_tr)\n",
    "    np.save(\"ytr_preprocessed_1_3.npy\", y_tr)\n",
    "    \n",
    "    MLP(X_tr, X_test, y_tr, y_test,X_feat,classes)\n",
    "    \n",
    "    "
   ]
  },
  {
   "cell_type": "code",
   "execution_count": 13,
   "id": "9a600216",
   "metadata": {},
   "outputs": [
    {
     "name": "stdout",
     "output_type": "stream",
     "text": [
      "\n",
      "-----------------RF_Results-----------------\n",
      "En iyi eşik sınırı: T_m=0.46, T_b=0.43\n",
      "              precision    recall  f1-score   support\n",
      "\n",
      "      normal       0.39      0.51      0.44       241\n",
      "      benign       0.39      0.34      0.36       268\n",
      "      cancer       0.38      0.32      0.35       272\n",
      "\n",
      "    accuracy                           0.39       781\n",
      "   macro avg       0.39      0.39      0.38       781\n",
      "weighted avg       0.39      0.39      0.38       781\n",
      "\n",
      "[[124  51  66]\n",
      " [ 99  90  79]\n",
      " [ 95  89  88]]\n",
      "Accuracy: 0.3866837387964149\n",
      "Precision: 0.38630795272593416\n",
      "Recall: 0.3912910429546191\n",
      "AUC: 0.5425813590844639\n",
      "Model kaydedildi:\n"
     ]
    }
   ],
   "source": [
    "Random_Forest(X_tr, X_test, y_tr, y_test,X_feat,classes)"
   ]
  },
  {
   "cell_type": "code",
   "execution_count": 14,
   "id": "3c4c142e",
   "metadata": {},
   "outputs": [
    {
     "name": "stdout",
     "output_type": "stream",
     "text": [
      "------------XPBoost------------------\n",
      "En iyi eşik sınırı: T_m=0.37, T_b=0.37\n",
      "              precision    recall  f1-score   support\n",
      "\n",
      "      normal       0.40      0.41      0.40       241\n",
      "      benign       0.37      0.28      0.32       268\n",
      "      cancer       0.38      0.46      0.42       272\n",
      "\n",
      "    accuracy                           0.38       781\n",
      "   macro avg       0.38      0.38      0.38       781\n",
      "weighted avg       0.38      0.38      0.38       781\n",
      "\n",
      "[[ 99  53  89]\n",
      " [ 77  76 115]\n",
      " [ 73  74 125]]\n",
      "Accuracy: 0.38412291933418696\n",
      "Precision: 0.3839712692084763\n",
      "Recall: 0.38464309827479637\n",
      "AUC: 0.5699903599561056\n",
      "Model kaydedildi:\n"
     ]
    }
   ],
   "source": [
    "XGBoost(X_tr, X_test, y_tr, y_test,X_feat,classes)"
   ]
  }
 ],
 "metadata": {
  "kernelspec": {
   "display_name": "tf-gpu-211",
   "language": "python",
   "name": "python3"
  },
  "language_info": {
   "codemirror_mode": {
    "name": "ipython",
    "version": 3
   },
   "file_extension": ".py",
   "mimetype": "text/x-python",
   "name": "python",
   "nbconvert_exporter": "python",
   "pygments_lexer": "ipython3",
   "version": "3.8.20"
  }
 },
 "nbformat": 4,
 "nbformat_minor": 5
}

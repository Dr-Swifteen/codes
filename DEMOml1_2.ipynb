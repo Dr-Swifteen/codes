{
 "cells": [
  {
   "cell_type": "markdown",
   "id": "c01195bc",
   "metadata": {},
   "source": [
    "#### 📌 **HİPERPARAMETRELERİ BURADAN AYARLA**"
   ]
  },
  {
   "cell_type": "code",
   "execution_count": 1,
   "id": "baa92a29",
   "metadata": {},
   "outputs": [],
   "source": [
    "learning_rate = 1e-3       \n",
    "batch_size = 32           \n",
    "pca_variance = 0.97       # PCA varyans koruma oranı\n",
    "roi_crop_size = (256,256)\n",
    "patch_size = (128,128)\n",
    "mlp_hidden_units = [128, 256,512]\n",
    "mlp_dropout_rate = 0.55\n",
    "mlp_epochs = 55\n",
    "mlp_earlystop_patience = 9\n",
    "pixels_per_cell=(16,16)\n",
    "cells_per_block=(2,2)\n",
    "orientations=10"
   ]
  },
  {
   "cell_type": "code",
   "execution_count": 2,
   "id": "c99ec62b",
   "metadata": {},
   "outputs": [],
   "source": [
    "import os, re, joblib\n",
    "import cv2\n",
    "import numpy as np\n",
    "import pandas as pd\n",
    "from skimage.feature import hog, greycomatrix, greycoprops\n",
    "from skimage.filters import threshold_otsu, median\n",
    "from skimage.morphology import opening, disk\n",
    "from sklearn.decomposition import PCA\n",
    "from sklearn.model_selection import train_test_split\n",
    "from sklearn.ensemble import RandomForestClassifier\n",
    "import xgboost as xgb\n",
    "from sklearn.metrics import classification_report, f1_score, accuracy_score, precision_score, recall_score, roc_auc_score\n",
    "from joblib import Parallel, delayed\n",
    "from tensorflow.keras.models import Sequential, load_model\n",
    "from tensorflow.keras.layers import Dense, Dropout\n",
    "from tensorflow.keras.optimizers import Adam\n",
    "from sklearn.metrics import confusion_matrix\n",
    "from tensorflow.keras.callbacks import EarlyStopping, ReduceLROnPlateau"
   ]
  },
  {
   "cell_type": "code",
   "execution_count": 3,
   "id": "bdac1a8d",
   "metadata": {},
   "outputs": [],
   "source": [
    "def process_single_image(args):\n",
    "    img_path, label, classes = args\n",
    "    img = cv2.imread(img_path, cv2.IMREAD_GRAYSCALE)\n",
    "    img = cv2.resize(img, roi_crop_size)\n",
    "    img = img.astype(np.float32)\n",
    "\n",
    "    center = np.array(roi_crop_size) // 2\n",
    "    ps = np.array(patch_size) // 2\n",
    "    patch = img[center[0]-ps[0]:center[0]+ps[0], center[1]-ps[1]+0:center[1]+ps[1]]\n",
    "\n",
    "    patch = median(patch)\n",
    "    patch = cv2.GaussianBlur(patch, (3, 3), 0)\n",
    "    patch = patch.astype(np.float32) / 255.0\n",
    "\n",
    "    return patch, classes.index(label)\n"
   ]
  },
  {
   "cell_type": "code",
   "execution_count": 4,
   "id": "dff67e25",
   "metadata": {},
   "outputs": [],
   "source": [
    "\n",
    "def extract_and_preprocess_parallel(root_dir, classes, n_jobs=-1):\n",
    "    pattern = re.compile(r'^[A-Z]_\\d+_\\d+\\.(LEFT|RIGHT)_(CC|MLO)\\.jpg$', re.IGNORECASE)\n",
    "    siniflar = ['benign', 'cancer', 'normal']\n",
    "    yollar, etiketler = [], []\n",
    "\n",
    "    for cls in siniflar:\n",
    "        cls_yolu = os.path.join(root_dir, cls)\n",
    "        if not os.path.isdir(cls_yolu):\n",
    "            continue\n",
    "        for durum_id in os.listdir(cls_yolu):\n",
    "            durum_yolu = os.path.join(cls_yolu, durum_id)\n",
    "            if not os.path.isdir(durum_yolu):\n",
    "                continue\n",
    "            for dosya_adi in os.listdir(durum_yolu):\n",
    "                if pattern.match(dosya_adi):\n",
    "                    yollar.append(os.path.join(durum_yolu, dosya_adi))\n",
    "                    etiketler.append(cls)\n",
    "\n",
    "    # === Paralel işleme ===\n",
    "    arg_list = [(img_path, lbl, classes) for img_path, lbl in zip(yollar, etiketler)]\n",
    "    results = Parallel(n_jobs=n_jobs)(delayed(process_single_image)(args) for args in arg_list)\n",
    "\n",
    "    X, y = zip(*results)\n",
    "    return np.array(X), np.array(y)"
   ]
  },
  {
   "cell_type": "code",
   "execution_count": 5,
   "id": "26b0f3a6",
   "metadata": {},
   "outputs": [],
   "source": [
    "def extract_features_from_image(im):\n",
    "    h = hog(im, pixels_per_cell=pixels_per_cell,\n",
    "                cells_per_block=cells_per_block,\n",
    "                orientations=orientations)\n",
    "    g = greycomatrix((im*255).astype(np.uint8), [1], [0], levels=256)\n",
    "    glcm = [greycoprops(g, prop)[0, 0] for prop in ('contrast', 'homogeneity', 'energy')]\n",
    "    area = np.sum(im > 0.5)\n",
    "    perimeter = np.sum(cv2.Canny((im * 255).astype(np.uint8), 50, 150) > 0)\n",
    "    ecc = 0\n",
    "    if area > 10:\n",
    "        pts = np.argwhere(im > 0.5)\n",
    "        rect = cv2.minAreaRect(pts.astype(np.float32))\n",
    "        ecc = rect[1][0] / (rect[1][1] + 1e-8)\n",
    "    return np.hstack([h, glcm, area, perimeter, ecc])\n",
    "\n",
    "def extract_features(X, out_prefix=None, n_jobs=-1):\n",
    "    # 2. UPDATE THE FUNCTION NAME INSIDE THE PARALLEL CALL HERE\n",
    "    feats = Parallel(n_jobs=n_jobs)(delayed(extract_features_from_image)(im) for im in X)\n",
    "    feats = np.array(feats)\n",
    "    pca = PCA(n_components=pca_variance)\n",
    "    X_feat = pca.fit_transform(feats)\n",
    "    return X_feat, pca"
   ]
  },
  {
   "cell_type": "markdown",
   "id": "64b12eec",
   "metadata": {},
   "source": [
    " Metirkler**"
   ]
  },
  {
   "cell_type": "code",
   "execution_count": 6,
   "id": "d3c71fe4",
   "metadata": {},
   "outputs": [
    {
     "name": "stdout",
     "output_type": "stream",
     "text": [
      "\n",
      " --------------MLP RESULTS----------------\n",
      "              precision    recall  f1-score   support\n",
      "\n",
      "      normal       0.45      0.54      0.49        80\n",
      "      benign       0.38      0.69      0.49        80\n",
      "      cancer       1.00      0.01      0.02        80\n",
      "\n",
      "    accuracy                           0.41       240\n",
      "   macro avg       0.61      0.41      0.34       240\n",
      "weighted avg       0.61      0.41      0.34       240\n",
      "\n",
      "Confusion Matrix:\n",
      " [[43 37  0]\n",
      " [25 55  0]\n",
      " [27 52  1]]\n",
      "Accuracy: 0.4125\n",
      "Precision: 0.6115253411306043\n",
      "Recall: 0.41250000000000003\n",
      "📌 F1 Score: 0.33573045267489715\n",
      "AUC: 0.6147265624999999\n"
     ]
    }
   ],
   "source": [
    "if __name__ == '__main__':\n",
    "    classes = ['normal','benign','cancer']\n",
    "    kok_dizin = os.path.join(os.getcwd(), \"Project1\")\n",
    "    X_test, y_test = extract_and_preprocess_parallel(kok_dizin, classes,n_jobs=-1)\n",
    "    X_feat, pca = extract_features(X_test)\n",
    "    model = load_model(\"MLP_1_3.h5\")\n",
    "    T_m = 0.22\n",
    "    T_b = 0.64\n",
    "    probs = model.predict(X_feat)\n",
    "    preds = [2 if p[2] >= T_m else 1 if p[1] >= T_b else 0 for p in probs]\n",
    "    print(\"\\n --------------MLP RESULTS----------------\")\n",
    "    print(classification_report(y_test, preds, target_names=classes))\n",
    "    print(\"Confusion Matrix:\\n\", confusion_matrix(y_test, preds))\n",
    "    print(\"Accuracy:\", accuracy_score(y_test, preds))\n",
    "    print(\"Precision:\", precision_score(y_test, preds, average='macro'))\n",
    "    print(\"Recall:\", recall_score(y_test, preds, average='macro'))\n",
    "    print(\"📌 F1 Score:\", f1_score(y_test, preds, average='macro'))\n",
    "    try:\n",
    "        print(\"AUC:\", roc_auc_score(pd.get_dummies(y_test), probs,\n",
    "                                 multi_class='ovr', average='macro'))\n",
    "    except:\n",
    "        print(\"AUC hesaplanamadı.\")\n",
    "    "
   ]
  },
  {
   "cell_type": "code",
   "execution_count": 7,
   "id": "0233bbb6",
   "metadata": {},
   "outputs": [
    {
     "name": "stdout",
     "output_type": "stream",
     "text": [
      "\n",
      " --------------RF RESULTS----------------\n",
      "              precision    recall  f1-score   support\n",
      "\n",
      "      normal       0.35      0.57      0.43        80\n",
      "      benign       0.40      0.24      0.30        80\n",
      "      cancer       0.37      0.28      0.31        80\n",
      "\n",
      "    accuracy                           0.36       240\n",
      "   macro avg       0.37      0.36      0.35       240\n",
      "weighted avg       0.37      0.36      0.35       240\n",
      "\n",
      "Confusion Matrix:\n",
      " [[46 11 23]\n",
      " [46 19 15]\n",
      " [41 17 22]]\n",
      "Accuracy: 0.3625\n",
      "Precision: 0.37226221582324603\n",
      "Recall: 0.3625\n",
      "📌 F1 Score: 0.348474398446673\n",
      "AUC: 0.5496354166666667\n"
     ]
    }
   ],
   "source": [
    "model = joblib.load(\"RF_1_3.pkl\")\n",
    "T_m = 0.46\n",
    "T_b = 0.43\n",
    "classes = ['normal', 'benign', 'cancer']\n",
    "label_map = {'normal': 0, 'benign': 1, 'cancer': 2}\n",
    "probs = model.predict_proba(X_feat) \n",
    "preds = [2 if p[2] >= T_m else 1 if p[1] >= T_b else 0 for p in probs]\n",
    "print(\"\\n --------------RF RESULTS----------------\")\n",
    "print(classification_report(y_test, preds, target_names=classes))\n",
    "print(\"Confusion Matrix:\\n\", confusion_matrix(y_test, preds))\n",
    "print(\"Accuracy:\", accuracy_score(y_test, preds))\n",
    "print(\"Precision:\", precision_score(y_test, preds, average='macro'))\n",
    "print(\"Recall:\", recall_score(y_test, preds, average='macro'))\n",
    "print(\"📌 F1 Score:\", f1_score(y_test, preds, average='macro'))\n",
    "try:\n",
    "    print(\"AUC:\", roc_auc_score(pd.get_dummies(y_test), probs,\n",
    "                                 multi_class='ovr', average='macro'))\n",
    "except:\n",
    "    print(\"AUC hesaplanamadı.\")"
   ]
  },
  {
   "cell_type": "code",
   "execution_count": 8,
   "id": "0847c790",
   "metadata": {},
   "outputs": [
    {
     "name": "stdout",
     "output_type": "stream",
     "text": [
      "\n",
      " --------------XP-B RESULTS----------------\n",
      "              precision    recall  f1-score   support\n",
      "\n",
      "      normal       0.46      0.47      0.47        80\n",
      "      benign       0.32      0.15      0.21        80\n",
      "      cancer       0.33      0.50      0.40        80\n",
      "\n",
      "    accuracy                           0.38       240\n",
      "   macro avg       0.37      0.38      0.36       240\n",
      "weighted avg       0.37      0.38      0.36       240\n",
      "\n",
      "Confusion Matrix:\n",
      " [[38 10 32]\n",
      " [19 12 49]\n",
      " [25 15 40]]\n",
      "Accuracy: 0.375\n",
      "Precision: 0.37277249028912\n",
      "Recall: 0.375\n",
      "📌 F1 Score: 0.3574246526153657\n",
      "AUC: 0.5552604166666667\n"
     ]
    }
   ],
   "source": [
    "loaded_xgb_model_booster = xgb.Booster() \n",
    "loaded_xgb_model_booster.load_model(\"XGBoost_1_3.json\") \n",
    "T_m = 0.37\n",
    "T_b = 0.37\n",
    "classes = ['normal', 'benign', 'cancer']\n",
    "label_map = {'normal': 0, 'benign': 1, 'cancer': 2}\n",
    "\n",
    "\n",
    "dtest_predict = xgb.DMatrix(X_feat) \n",
    "probs = loaded_xgb_model_booster.predict(dtest_predict) \n",
    "preds = [2 if p[2] >= T_m else 1 if p[1] >= T_b else 0 for p in probs]\n",
    "T_m = 0.40\n",
    "T_b = 0.40\n",
    "\n",
    "print(\"\\n --------------XP-B RESULTS----------------\")\n",
    "print(classification_report(y_test, preds, target_names=classes))\n",
    "print(\"Confusion Matrix:\\n\", confusion_matrix(y_test, preds))\n",
    "print(\"Accuracy:\", accuracy_score(y_test, preds))\n",
    "print(\"Precision:\", precision_score(y_test, preds, average='macro'))\n",
    "print(\"Recall:\", recall_score(y_test, preds, average='macro'))\n",
    "print(\"📌 F1 Score:\", f1_score(y_test, preds, average='macro'))\n",
    "try:\n",
    "    print(\"AUC:\", roc_auc_score(pd.get_dummies(y_test), probs,\n",
    "                                 multi_class='ovr', average='macro'))\n",
    "except:\n",
    "    print(\"AUC hesaplanamadı.\")"
   ]
  },
  {
   "cell_type": "code",
   "execution_count": null,
   "id": "3cb2f8f4",
   "metadata": {},
   "outputs": [],
   "source": []
  }
 ],
 "metadata": {
  "kernelspec": {
   "display_name": "tf-gpu-211",
   "language": "python",
   "name": "python3"
  },
  "language_info": {
   "codemirror_mode": {
    "name": "ipython",
    "version": 3
   },
   "file_extension": ".py",
   "mimetype": "text/x-python",
   "name": "python",
   "nbconvert_exporter": "python",
   "pygments_lexer": "ipython3",
   "version": "3.8.20"
  }
 },
 "nbformat": 4,
 "nbformat_minor": 5
}

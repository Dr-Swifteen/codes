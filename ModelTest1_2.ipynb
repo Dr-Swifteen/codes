{
 "cells": [
  {
   "cell_type": "code",
   "execution_count": 1,
   "id": "c99ec62b",
   "metadata": {},
   "outputs": [],
   "source": [
    "import os\n",
    "import re\n",
    "import cv2\n",
    "import numpy as np\n",
    "import pandas as pd\n",
    "from sklearn.metrics import classification_report, confusion_matrix, f1_score, accuracy_score, precision_score, recall_score, roc_auc_score\n",
    "from tensorflow.keras.models import load_model\n",
    "import joblib\n",
    "import xgboost as xgb\n"
   ]
  },
  {
   "cell_type": "markdown",
   "id": "a44e4b6e",
   "metadata": {},
   "source": [
    "**#### 🧠 **MLP****"
   ]
  },
  {
   "cell_type": "code",
   "execution_count": 2,
   "id": "bdac1a8d",
   "metadata": {},
   "outputs": [],
   "source": [
    "model = load_model(\"MLP_1_22.h5\")\n",
    "T_m = 0.20\n",
    "T_b = 0.20\n",
    "classes = ['normal', 'benign', 'cancer']\n",
    "label_map = {'normal': 0, 'benign': 1, 'cancer': 2}\n"
   ]
  },
  {
   "cell_type": "code",
   "execution_count": 3,
   "id": "dff67e25",
   "metadata": {},
   "outputs": [],
   "source": [
    "\n",
    "\n",
    "X_test = np.load(\"X_test_1_2.npy\")\n",
    "y_test = np.load(\"y_test_1_2.npy\")"
   ]
  },
  {
   "cell_type": "code",
   "execution_count": 4,
   "id": "26b0f3a6",
   "metadata": {},
   "outputs": [],
   "source": [
    "probs = model.predict(X_test)\n",
    "preds = [2 if p[2] >= T_m else 1 if p[1] >= T_b else 0 for p in probs]"
   ]
  },
  {
   "cell_type": "markdown",
   "id": "64b12eec",
   "metadata": {},
   "source": [
    " Metirkler**"
   ]
  },
  {
   "cell_type": "code",
   "execution_count": 5,
   "id": "d3c71fe4",
   "metadata": {},
   "outputs": [
    {
     "name": "stdout",
     "output_type": "stream",
     "text": [
      "\n",
      " --------------MLP RESULTS----------------\n",
      "              precision    recall  f1-score   support\n",
      "\n",
      "      normal       0.43      0.50      0.46       241\n",
      "      benign       0.39      0.67      0.49       268\n",
      "      cancer       0.33      0.05      0.09       272\n",
      "\n",
      "    accuracy                           0.40       781\n",
      "   macro avg       0.38      0.41      0.35       781\n",
      "weighted avg       0.38      0.40      0.34       781\n",
      "\n",
      "Confusion Matrix:\n",
      " [[121 106  14]\n",
      " [ 75 179  14]\n",
      " [ 86 172  14]]\n",
      "Accuracy: 0.4020486555697823\n",
      "Precision: 0.38469874968315304\n",
      "Recall: 0.4071519082643895\n",
      "📌 F1 Score: 0.34856006104436427\n",
      "AUC: 0.567929665661704\n"
     ]
    }
   ],
   "source": [
    "print(\"\\n --------------MLP RESULTS----------------\")\n",
    "print(classification_report(y_test, preds, target_names=classes))\n",
    "print(\"Confusion Matrix:\\n\", confusion_matrix(y_test, preds))\n",
    "print(\"Accuracy:\", accuracy_score(y_test, preds))\n",
    "print(\"Precision:\", precision_score(y_test, preds, average='macro'))\n",
    "print(\"Recall:\", recall_score(y_test, preds, average='macro'))\n",
    "print(\"📌 F1 Score:\", f1_score(y_test, preds, average='macro'))\n",
    "try:\n",
    "    print(\"AUC:\", roc_auc_score(pd.get_dummies(y_test), probs,\n",
    "                                 multi_class='ovr', average='macro'))\n",
    "except:\n",
    "    print(\"AUC hesaplanamadı.\")"
   ]
  },
  {
   "cell_type": "markdown",
   "id": "5561cb90",
   "metadata": {},
   "source": [
    "**#### 🧠 **RANDOM FOREST****"
   ]
  },
  {
   "cell_type": "code",
   "execution_count": 6,
   "id": "1894a699",
   "metadata": {},
   "outputs": [],
   "source": [
    "model = joblib.load(\"RF_1_2.pkl\")\n",
    "T_m = 0.43\n",
    "T_b = 0.40\n",
    "classes = ['normal', 'benign', 'cancer']\n",
    "label_map = {'normal': 0, 'benign': 1, 'cancer': 2}"
   ]
  },
  {
   "cell_type": "code",
   "execution_count": 7,
   "id": "2e7f9314",
   "metadata": {},
   "outputs": [
    {
     "name": "stdout",
     "output_type": "stream",
     "text": [
      "\n",
      " --------------RF RESULTS----------------\n",
      "              precision    recall  f1-score   support\n",
      "\n",
      "      normal       0.35      0.41      0.38       241\n",
      "      benign       0.39      0.37      0.38       268\n",
      "      cancer       0.33      0.31      0.32       272\n",
      "\n",
      "    accuracy                           0.36       781\n",
      "   macro avg       0.36      0.36      0.36       781\n",
      "weighted avg       0.36      0.36      0.36       781\n",
      "\n",
      "Confusion Matrix:\n",
      " [[98 63 80]\n",
      " [84 99 85]\n",
      " [96 93 83]]\n",
      "Accuracy: 0.3585147247119078\n",
      "Precision: 0.3584768996946655\n",
      "Recall: 0.36039634934917797\n",
      "📌 F1 Score: 0.3584883936330128\n",
      "AUC: 0.5218896962093184\n"
     ]
    }
   ],
   "source": [
    "X_test = np.load(\"X_test_1_2.npy\")\n",
    "y_test = np.load(\"y_test_1_2.npy\")\n",
    "probs = model.predict_proba(X_test) \n",
    "preds = [2 if p[2] >= T_m else 1 if p[1] >= T_b else 0 for p in probs]\n",
    "print(\"\\n --------------RF RESULTS----------------\")\n",
    "print(classification_report(y_test, preds, target_names=classes))\n",
    "print(\"Confusion Matrix:\\n\", confusion_matrix(y_test, preds))\n",
    "print(\"Accuracy:\", accuracy_score(y_test, preds))\n",
    "print(\"Precision:\", precision_score(y_test, preds, average='macro'))\n",
    "print(\"Recall:\", recall_score(y_test, preds, average='macro'))\n",
    "print(\"📌 F1 Score:\", f1_score(y_test, preds, average='macro'))\n",
    "try:\n",
    "    print(\"AUC:\", roc_auc_score(pd.get_dummies(y_test), probs,\n",
    "                                 multi_class='ovr', average='macro'))\n",
    "except:\n",
    "    print(\"AUC hesaplanamadı.\")"
   ]
  },
  {
   "cell_type": "markdown",
   "id": "885df2b0",
   "metadata": {},
   "source": [
    "**#### 🧠 **XP-Boost****"
   ]
  },
  {
   "cell_type": "code",
   "execution_count": 8,
   "id": "6ee8a547",
   "metadata": {},
   "outputs": [],
   "source": [
    "loaded_xgb_model_booster = xgb.Booster() # Initialize an empty booster\n",
    "loaded_xgb_model_booster.load_model(\"XGBoost_1_2.json\") # Load the model into the booster object\n",
    "# No need for 'model =' here, loaded_xgb_model_booster now holds the model\n",
    "T_m = 0.40\n",
    "T_b = 0.40\n",
    "classes = ['normal', 'benign', 'cancer']\n",
    "label_map = {'normal': 0, 'benign': 1, 'cancer': 2}\n",
    "\n",
    "X_test = np.load(\"X_test_1_2.npy\")\n",
    "y_test = np.load(\"y_test_1_2.npy\")\n",
    "\n",
    "dtest_predict = xgb.DMatrix(X_test) \n",
    "probs = loaded_xgb_model_booster.predict(dtest_predict) \n",
    "preds = [2 if p[2] >= T_m else 1 if p[1] >= T_b else 0 for p in probs]\n",
    "T_m = 0.40\n",
    "T_b = 0.40\n"
   ]
  },
  {
   "cell_type": "code",
   "execution_count": 9,
   "id": "4d49be51",
   "metadata": {},
   "outputs": [
    {
     "name": "stdout",
     "output_type": "stream",
     "text": [
      "\n",
      " --------------XP-B RESULTS----------------\n",
      "              precision    recall  f1-score   support\n",
      "\n",
      "      normal       0.35      0.63      0.45       241\n",
      "      benign       0.42      0.26      0.32       268\n",
      "      cancer       0.40      0.27      0.33       272\n",
      "\n",
      "    accuracy                           0.38       781\n",
      "   macro avg       0.39      0.39      0.37       781\n",
      "weighted avg       0.39      0.38      0.36       781\n",
      "\n",
      "Confusion Matrix:\n",
      " [[151  40  50]\n",
      " [138  71  59]\n",
      " [139  59  74]]\n",
      "Accuracy: 0.37900128040973113\n",
      "Precision: 0.39160746061358\n",
      "Recall: 0.38784673775375017\n",
      "📌 F1 Score: 0.3669652228040335\n",
      "AUC: 0.5748431109971065\n"
     ]
    }
   ],
   "source": [
    "\n",
    "print(\"\\n --------------XP-B RESULTS----------------\")\n",
    "print(classification_report(y_test, preds, target_names=classes))\n",
    "print(\"Confusion Matrix:\\n\", confusion_matrix(y_test, preds))\n",
    "print(\"Accuracy:\", accuracy_score(y_test, preds))\n",
    "print(\"Precision:\", precision_score(y_test, preds, average='macro'))\n",
    "print(\"Recall:\", recall_score(y_test, preds, average='macro'))\n",
    "print(\"📌 F1 Score:\", f1_score(y_test, preds, average='macro'))\n",
    "try:\n",
    "    print(\"AUC:\", roc_auc_score(pd.get_dummies(y_test), probs,\n",
    "                                 multi_class='ovr', average='macro'))\n",
    "except:\n",
    "    print(\"AUC hesaplanamadı.\")"
   ]
  }
 ],
 "metadata": {
  "kernelspec": {
   "display_name": "tf-gpu-211",
   "language": "python",
   "name": "python3"
  },
  "language_info": {
   "codemirror_mode": {
    "name": "ipython",
    "version": 3
   },
   "file_extension": ".py",
   "mimetype": "text/x-python",
   "name": "python",
   "nbconvert_exporter": "python",
   "pygments_lexer": "ipython3",
   "version": "3.8.20"
  }
 },
 "nbformat": 4,
 "nbformat_minor": 5
}

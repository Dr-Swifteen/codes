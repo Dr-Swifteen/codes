{
 "cells": [
  {
   "cell_type": "markdown",
   "id": "c01195bc",
   "metadata": {},
   "source": [
    "#### 📌 **HİPERPARAMETRELERİ BURADAN AYARLA**"
   ]
  },
  {
   "cell_type": "code",
   "execution_count": 1,
   "id": "e86f048d",
   "metadata": {},
   "outputs": [],
   "source": [
    "learning_rate = 1e-4\n",
    "dropout_rate = 0.588\n",
    "batch_size = 32\n",
    "filters = [32, 64, 256]\n",
    "earlystop_patience = 10\n",
    "reduce_lr_patience = 5\n",
    "epochs = 50\n",
    "target_size = (224, 224)"
   ]
  },
  {
   "cell_type": "code",
   "execution_count": 2,
   "id": "c99ec62b",
   "metadata": {},
   "outputs": [],
   "source": [
    "import os\n",
    "import re\n",
    "import cv2\n",
    "import numpy as np\n",
    "import pandas as pd\n",
    "from sklearn.model_selection import train_test_split\n",
    "from sklearn.metrics import (classification_report, confusion_matrix, f1_score,\n",
    "                             accuracy_score, roc_auc_score, precision_score, recall_score)\n",
    "from tensorflow.keras.models import Model\n",
    "from tensorflow.keras.layers import (Input, Conv2D, BatchNormalization, ReLU,\n",
    "                                     MaxPooling2D, Dropout, Flatten, Dense)\n",
    "from tensorflow.keras.optimizers import Adam\n",
    "from tensorflow.keras.callbacks import EarlyStopping, ReduceLROnPlateau"
   ]
  },
  {
   "cell_type": "markdown",
   "id": "869b7c61",
   "metadata": {},
   "source": [
    "#### 📁 **1. Görüntü Yolu Listeleme Fonksiyonu**\n"
   ]
  },
  {
   "cell_type": "code",
   "execution_count": null,
   "id": "bdac1a8d",
   "metadata": {},
   "outputs": [],
   "source": [
    "#chatgpt\n",
    "def mammo_gorunumlerini_listele(kok_dizin):\n",
    "    class_dirs = {\n",
    "        'normal': ['Birad1'],\n",
    "        'benign': ['Birad3'],\n",
    "        'cancer': ['Birad4', 'Birad5'],\n",
    "    }\n",
    "    paths, labels = [], []\n",
    "    for cls, subdirs in class_dirs.items():\n",
    "        for sd in subdirs:\n",
    "            dir_path = os.path.join(kok_dizin, sd)\n",
    "            if not os.path.isdir(dir_path):\n",
    "                continue\n",
    "            for fname in sorted(os.listdir(dir_path)):\n",
    "                if fname.lower().endswith(('.jpg', '.jpeg', '.png')):\n",
    "                    paths.append(os.path.join(dir_path, fname))\n",
    "                    labels.append(cls)\n",
    "    return paths, labels"
   ]
  },
  {
   "cell_type": "markdown",
   "id": "3a467d65",
   "metadata": {},
   "source": [
    "#### 🧼 **2. Görüntü Ön İşleme**\n"
   ]
  },
  {
   "cell_type": "code",
   "execution_count": null,
   "id": "dff67e25",
   "metadata": {},
   "outputs": [],
   "source": [
    "#chatgpt ile ayırdım\n",
    "def read_grayscale_image(path, target_size=target_size):\n",
    "    img = cv2.imread(path, cv2.IMREAD_GRAYSCALE)\n",
    "    img = cv2.resize(img, target_size)\n",
    "    return img.astype(np.float32)\n",
    "\n",
    "def normalize_image(img, method='minmax'):\n",
    "    if method == 'minmax':\n",
    "        return img / 255.0\n",
    "    else:\n",
    "        return (img - img.mean()) / (img.std() + 1e-8)\n",
    "\n",
    "def convert_to_dataset(paths, labels, target_size=target_size, method='minmax'):\n",
    "    X, y = [], []\n",
    "    label_map = {'normal': 0, 'benign': 1, 'cancer': 2}\n",
    "    for p, lbl in zip(paths, labels):\n",
    "        img = read_grayscale_image(p, target_size)\n",
    "        img = normalize_image(img, method)\n",
    "        X.append(img[..., np.newaxis])\n",
    "        y.append(label_map[lbl])\n",
    "    return np.array(X), np.array(y)"
   ]
  },
  {
   "cell_type": "markdown",
   "id": "4470488c",
   "metadata": {},
   "source": [
    "#### 🧠 **3. CNN Model Tanımı**"
   ]
  },
  {
   "cell_type": "code",
   "execution_count": 5,
   "id": "1ddbdfeb",
   "metadata": {},
   "outputs": [],
   "source": [
    "def _conv_block(inputs, filters):\n",
    "    x = Conv2D(filters, (6, 6), padding='same')(inputs)\n",
    "    x = BatchNormalization()(x)\n",
    "    x = ReLU()(x)\n",
    "    return x\n",
    "def create_cnn_model(input_shape=(224, 224, 1), num_classes=3, filters=filters, dropout_rate=dropout_rate):\n",
    "    inp = Input(shape=input_shape)\n",
    "    x = _conv_block(inp, filters[0])\n",
    "    x = MaxPooling2D((2, 2))(x)\n",
    "\n",
    "    x = _conv_block(x, filters[1])\n",
    "    x = _conv_block(x, filters[1])\n",
    "    x = MaxPooling2D((2, 2))(x)\n",
    "\n",
    "    x = _conv_block(x, filters[2])\n",
    "    x = MaxPooling2D((2, 2))(x)\n",
    "\n",
    "    x = Flatten()(x)\n",
    "    x = Dense(256, activation='relu')(x)\n",
    "    x = Dropout(dropout_rate)(x)\n",
    "    out = Dense(num_classes, activation='softmax')(x)\n",
    "\n",
    "    return Model(inputs=inp, outputs=out)"
   ]
  },
  {
   "cell_type": "markdown",
   "id": "75ebbbaf",
   "metadata": {},
   "source": [
    "#### 🚂 **4. Model Eğitimi ve Kaydetme**\n"
   ]
  },
  {
   "cell_type": "code",
   "execution_count": null,
   "id": "26b0f3a6",
   "metadata": {},
   "outputs": [
    {
     "name": "stdout",
     "output_type": "stream",
     "text": [
      "Epoch 1/50\n",
      "61/61 [==============================] - 15s 163ms/step - loss: 2.0292 - accuracy: 0.7960 - val_loss: 1.0639 - val_accuracy: 0.1495\n",
      "Epoch 2/50\n",
      "61/61 [==============================] - 8s 137ms/step - loss: 0.4347 - accuracy: 0.8339 - val_loss: 0.9472 - val_accuracy: 0.7944\n",
      "Epoch 3/50\n",
      "61/61 [==============================] - 8s 137ms/step - loss: 0.3681 - accuracy: 0.8598 - val_loss: 0.9385 - val_accuracy: 0.7944\n",
      "Epoch 4/50\n",
      "61/61 [==============================] - 8s 136ms/step - loss: 0.3110 - accuracy: 0.8785 - val_loss: 1.0144 - val_accuracy: 0.7944\n",
      "Epoch 5/50\n",
      "61/61 [==============================] - 8s 137ms/step - loss: 0.2803 - accuracy: 0.8879 - val_loss: 0.8434 - val_accuracy: 0.7944\n",
      "Epoch 6/50\n",
      "61/61 [==============================] - 8s 137ms/step - loss: 0.2969 - accuracy: 0.8853 - val_loss: 0.8925 - val_accuracy: 0.7944\n",
      "Epoch 7/50\n",
      "61/61 [==============================] - 8s 137ms/step - loss: 0.2755 - accuracy: 0.8951 - val_loss: 0.9012 - val_accuracy: 0.3551\n",
      "Epoch 8/50\n",
      "61/61 [==============================] - 8s 137ms/step - loss: 0.2720 - accuracy: 0.8956 - val_loss: 0.9888 - val_accuracy: 0.1262\n",
      "Epoch 9/50\n",
      "61/61 [==============================] - 8s 137ms/step - loss: 0.2555 - accuracy: 0.9013 - val_loss: 0.4713 - val_accuracy: 0.8178\n",
      "Epoch 10/50\n",
      "61/61 [==============================] - 8s 137ms/step - loss: 0.2611 - accuracy: 0.9029 - val_loss: 0.2446 - val_accuracy: 0.8972\n",
      "Epoch 11/50\n",
      "61/61 [==============================] - 8s 137ms/step - loss: 0.2546 - accuracy: 0.9071 - val_loss: 0.4587 - val_accuracy: 0.9019\n",
      "Epoch 12/50\n",
      "61/61 [==============================] - 8s 137ms/step - loss: 0.2454 - accuracy: 0.9029 - val_loss: 0.3159 - val_accuracy: 0.9112\n",
      "Epoch 13/50\n",
      "61/61 [==============================] - 8s 137ms/step - loss: 0.2509 - accuracy: 0.9065 - val_loss: 0.2091 - val_accuracy: 0.9252\n",
      "Epoch 14/50\n",
      "61/61 [==============================] - 8s 137ms/step - loss: 0.2236 - accuracy: 0.9013 - val_loss: 0.1983 - val_accuracy: 0.9252\n",
      "Epoch 15/50\n",
      "61/61 [==============================] - 8s 137ms/step - loss: 0.2401 - accuracy: 0.8946 - val_loss: 0.1997 - val_accuracy: 0.9206\n",
      "Epoch 16/50\n",
      "61/61 [==============================] - 8s 137ms/step - loss: 0.2336 - accuracy: 0.9076 - val_loss: 0.2052 - val_accuracy: 0.9206\n",
      "Epoch 17/50\n",
      "61/61 [==============================] - 8s 137ms/step - loss: 0.2235 - accuracy: 0.9169 - val_loss: 0.2087 - val_accuracy: 0.9206\n",
      "Epoch 18/50\n",
      "61/61 [==============================] - 8s 137ms/step - loss: 0.2244 - accuracy: 0.9148 - val_loss: 0.2501 - val_accuracy: 0.9019\n",
      "Epoch 19/50\n",
      "61/61 [==============================] - 8s 137ms/step - loss: 0.2197 - accuracy: 0.9107 - val_loss: 0.2234 - val_accuracy: 0.9112\n",
      "Epoch 20/50\n",
      "61/61 [==============================] - 8s 137ms/step - loss: 0.2069 - accuracy: 0.9143 - val_loss: 0.1984 - val_accuracy: 0.9299\n",
      "Epoch 21/50\n",
      "61/61 [==============================] - 8s 137ms/step - loss: 0.2042 - accuracy: 0.9190 - val_loss: 0.1909 - val_accuracy: 0.9346\n",
      "Epoch 22/50\n",
      "61/61 [==============================] - 8s 137ms/step - loss: 0.2067 - accuracy: 0.9164 - val_loss: 0.2003 - val_accuracy: 0.9159\n",
      "Epoch 23/50\n",
      "61/61 [==============================] - 8s 137ms/step - loss: 0.2062 - accuracy: 0.9180 - val_loss: 0.2067 - val_accuracy: 0.9252\n",
      "Epoch 24/50\n",
      "61/61 [==============================] - 8s 137ms/step - loss: 0.1878 - accuracy: 0.9190 - val_loss: 0.2025 - val_accuracy: 0.9346\n",
      "Epoch 25/50\n",
      "61/61 [==============================] - 8s 138ms/step - loss: 0.1943 - accuracy: 0.9180 - val_loss: 0.2045 - val_accuracy: 0.9252\n",
      "Epoch 26/50\n",
      "61/61 [==============================] - 8s 137ms/step - loss: 0.1966 - accuracy: 0.9143 - val_loss: 0.2471 - val_accuracy: 0.9299\n",
      "Epoch 27/50\n",
      "61/61 [==============================] - 8s 137ms/step - loss: 0.1958 - accuracy: 0.9200 - val_loss: 0.2100 - val_accuracy: 0.9346\n",
      "Epoch 28/50\n",
      "61/61 [==============================] - 8s 137ms/step - loss: 0.1893 - accuracy: 0.9211 - val_loss: 0.2193 - val_accuracy: 0.9346\n",
      "Epoch 29/50\n",
      "61/61 [==============================] - 8s 137ms/step - loss: 0.1823 - accuracy: 0.9206 - val_loss: 0.2242 - val_accuracy: 0.9299\n",
      "Epoch 30/50\n",
      "61/61 [==============================] - 8s 137ms/step - loss: 0.1858 - accuracy: 0.9169 - val_loss: 0.2306 - val_accuracy: 0.9346\n",
      "Epoch 31/50\n",
      "61/61 [==============================] - 8s 137ms/step - loss: 0.1824 - accuracy: 0.9226 - val_loss: 0.2094 - val_accuracy: 0.9299\n"
     ]
    }
   ],
   "source": [
    "if __name__ == '__main__':\n",
    "    kok_dizin = os.path.join(os.getcwd(), \"Project2\")\n",
    "    yollar, etiketler = mammo_gorunumlerini_listele(kok_dizin)\n",
    "    X, y = convert_to_dataset(yollar, etiketler,target_size=target_size)\n",
    "    X_egitim_val, X_test, y_egitim_val, y_test = train_test_split(X, y, test_size=0.1, stratify=y, random_state=42)\n",
    "    np.save(\"X_test_2_1.npy\", X_test)\n",
    "    np.save(\"y_test_2_1.npy\", y_test)\n",
    "    model = create_cnn_model()\n",
    "    model.compile(optimizer=Adam(learning_rate=learning_rate),\n",
    "              loss='categorical_crossentropy',\n",
    "              metrics=['accuracy'])\n",
    "\n",
    "    geri_cagirmalar = [\n",
    "        EarlyStopping(patience=earlystop_patience, restore_best_weights=True),\n",
    "        ReduceLROnPlateau(patience=reduce_lr_patience, factor=0.5)\n",
    "    ]\n",
    "    #chatgpt\n",
    "    model.fit(X_egitim_val, pd.get_dummies(y_egitim_val),\n",
    "          epochs=epochs, batch_size=batch_size,validation_split=0.1,\n",
    "          callbacks=geri_cagirmalar, verbose=1)\n",
    "\n",
    "    olasiliklar = model.predict(X_test)\n",
    "    esikler = np.linspace(0.4, 0.6, 21)\n",
    "    en_iyi_f1, en_iyi_T_m, en_iyi_T_b = 0, 0.47, 0.53\n",
    "    for T_m_aday in esikler:\n",
    "        for T_b_aday in esikler:\n",
    "            tahminler = [2 if p[2] >= T_m_aday else 1 if p[1] >= T_b_aday else 0 for p in olasiliklar]\n",
    "            f1 = f1_score(y_test, tahminler, average='macro')\n",
    "            if f1 > en_iyi_f1:\n",
    "                en_iyi_f1, en_iyi_T_m, en_iyi_T_b = f1, T_m_aday, T_b_aday"
   ]
  },
  {
   "cell_type": "markdown",
   "id": "64b12eec",
   "metadata": {},
   "source": [
    " Metirkler**"
   ]
  },
  {
   "cell_type": "code",
   "execution_count": null,
   "id": "d3c71fe4",
   "metadata": {},
   "outputs": [
    {
     "name": "stdout",
     "output_type": "stream",
     "text": [
      "En iyi eşik sınırı: T_m=0.40, T_b=0.40\n",
      "              precision    recall  f1-score   support\n",
      "\n",
      "      normal       0.98      0.97      0.97       187\n",
      "      benign       0.71      0.92      0.80        39\n",
      "      cancer       1.00      0.17      0.29        12\n",
      "\n",
      "    accuracy                           0.92       238\n",
      "   macro avg       0.89      0.69      0.69       238\n",
      "weighted avg       0.93      0.92      0.91       238\n",
      "\n",
      "[[181   6   0]\n",
      " [  3  36   0]\n",
      " [  1   9   2]]\n",
      "Doğruluk: 0.9201680672268907\n",
      "Kesinlik: 0.8947535771065183\n",
      "Duyarlılık: 0.6858860094154212\n",
      "AUC: 0.9487354324349341\n"
     ]
    }
   ],
   "source": [
    "nihai_tahminler = [2 if p[2] >= en_iyi_T_m else 1 if p[1] >= en_iyi_T_b else 0 for p in olasiliklar]\n",
    "print(f\"En iyi eşik sınırı: T_m={en_iyi_T_m:.2f}, T_b={en_iyi_T_b:.2f}\")\n",
    "print(classification_report(y_test, nihai_tahminler, target_names=['normal','benign','cancer']))\n",
    "print(confusion_matrix(y_test, nihai_tahminler))\n",
    "print(\"Doğruluk:\", accuracy_score(y_test, nihai_tahminler))\n",
    "print(\"Precision:\", precision_score(y_test, nihai_tahminler, average='macro'))\n",
    "print(\"Recall:\", recall_score(y_test, nihai_tahminler, average='macro'))\n",
    "try:\n",
    "    print(\"AUC:\", roc_auc_score(pd.get_dummies(y_test), olasiliklar, average='macro', multi_class='ovr'))\n",
    "except:\n",
    "    print(\"AUC hesaplanamadı (muhtemelen tek sınıf tahmini nedeniyle)\")\n",
    "with open(\"optimized_thresholds.txt\", \"w\") as f:\n",
    "    f.write(f\"Best T_m: {en_iyi_T_m}\\nBest T_b: {en_iyi_T_b}\\nBest F1: {en_iyi_f1}\")"
   ]
  },
  {
   "cell_type": "code",
   "execution_count": 8,
   "id": "9a7c3be6",
   "metadata": {},
   "outputs": [],
   "source": [
    "#### 💾 **6. Model ve Eşik Kayıtları**\n"
   ]
  },
  {
   "cell_type": "code",
   "execution_count": 9,
   "id": "7ed070b7",
   "metadata": {},
   "outputs": [
    {
     "name": "stdout",
     "output_type": "stream",
     "text": [
      "Model kaydedildi: model1_2.h5\n"
     ]
    }
   ],
   "source": [
    "model_name = \"model1_2.h5\"\n",
    "model.save(model_name)\n",
    "print(f\"Model kaydedildi: {model_name}\")"
   ]
  }
 ],
 "metadata": {
  "kernelspec": {
   "display_name": "tf-gpu-211",
   "language": "python",
   "name": "python3"
  },
  "language_info": {
   "codemirror_mode": {
    "name": "ipython",
    "version": 3
   },
   "file_extension": ".py",
   "mimetype": "text/x-python",
   "name": "python",
   "nbconvert_exporter": "python",
   "pygments_lexer": "ipython3",
   "version": "3.8.20"
  }
 },
 "nbformat": 4,
 "nbformat_minor": 5
}

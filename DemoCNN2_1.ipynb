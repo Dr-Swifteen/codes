{
 "cells": [
  {
   "cell_type": "markdown",
   "id": "c01195bc",
   "metadata": {},
   "source": [
    "#### 📌 **HİPERPARAMETRELERİ BURADAN AYARLA**"
   ]
  },
  {
   "cell_type": "code",
   "execution_count": 5,
   "id": "c99ec62b",
   "metadata": {},
   "outputs": [],
   "source": [
    "import os\n",
    "import re\n",
    "import cv2\n",
    "import numpy as np\n",
    "import pandas as pd\n",
    "from sklearn.metrics import classification_report, confusion_matrix, f1_score, accuracy_score, precision_score, recall_score, roc_auc_score\n",
    "from tensorflow.keras.models import load_model"
   ]
  },
  {
   "cell_type": "code",
   "execution_count": 6,
   "id": "bdac1a8d",
   "metadata": {},
   "outputs": [],
   "source": [
    "def mammo_gorunumlerini_listele(kok_dizin):\n",
    "    class_dirs = {\n",
    "        'normal': ['Birad1'],\n",
    "        'benign': ['Birad3'],\n",
    "        'cancer': ['Birad4', 'Birad5'],\n",
    "    }\n",
    "    paths, labels = [], []\n",
    "    for cls, subdirs in class_dirs.items():\n",
    "        for sd in subdirs:\n",
    "            dir_path = os.path.join(kok_dizin, sd)\n",
    "            if not os.path.isdir(dir_path):\n",
    "                continue\n",
    "            for fname in sorted(os.listdir(dir_path)):\n",
    "                if fname.lower().endswith(('.jpg', '.jpeg', '.png')):\n",
    "                    paths.append(os.path.join(dir_path, fname))\n",
    "                    labels.append(cls)\n",
    "    return paths, labels"
   ]
  },
  {
   "cell_type": "code",
   "execution_count": 7,
   "id": "dff67e25",
   "metadata": {},
   "outputs": [],
   "source": [
    "#chatgpt ile ayırdım\n",
    "def read_grayscale_image(path, target_size):\n",
    "    img = cv2.imread(path, cv2.IMREAD_GRAYSCALE)\n",
    "    img = cv2.resize(img, target_size)\n",
    "    return img.astype(np.float32)\n",
    "\n",
    "def normalize_image(img, method='minmax'):\n",
    "    if method == 'minmax':\n",
    "        return img / 255.0\n",
    "    else:\n",
    "        return (img - img.mean()) / (img.std() + 1e-8)\n",
    "\n",
    "def load_and_preprocess(paths, labels, target_size, method='minmax'):\n",
    "    X, y = [], []\n",
    "    label_map = {'normal': 0, 'benign': 1, 'cancer': 2}\n",
    "    for p, lbl in zip(paths, labels):\n",
    "        img = read_grayscale_image(p, target_size)\n",
    "        img = normalize_image(img, method)\n",
    "        X.append(img[..., np.newaxis])\n",
    "        y.append(label_map[lbl])\n",
    "    return np.array(X), np.array(y)"
   ]
  },
  {
   "cell_type": "markdown",
   "id": "64b12eec",
   "metadata": {},
   "source": [
    " Metirkler**"
   ]
  },
  {
   "cell_type": "code",
   "execution_count": 8,
   "id": "d3c71fe4",
   "metadata": {},
   "outputs": [
    {
     "name": "stdout",
     "output_type": "stream",
     "text": [
      "              precision    recall  f1-score   support\n",
      "\n",
      "      normal       0.83      1.00      0.91        20\n",
      "      benign       0.83      1.00      0.91        20\n",
      "      cancer       1.00      0.60      0.75        20\n",
      "\n",
      "    accuracy                           0.87        60\n",
      "   macro avg       0.89      0.87      0.86        60\n",
      "weighted avg       0.89      0.87      0.86        60\n",
      "\n",
      "Confusion Matrix:\n",
      " [[20  0  0]\n",
      " [ 0 20  0]\n",
      " [ 4  4 12]]\n",
      "Accuracy: 0.8666666666666667\n",
      "Precision: 0.888888888888889\n",
      "Recall: 0.8666666666666667\n",
      "📌 F1 Score: 0.856060606060606\n",
      "AUC: 0.97375\n"
     ]
    }
   ],
   "source": [
    "if __name__ == '__main__':\n",
    "    kok_dizin = os.path.join(os.getcwd(), \"Project2\")\n",
    "    yollar, etiketler = mammo_gorunumlerini_listele(kok_dizin)\n",
    "    X_test, y_test = load_and_preprocess(yollar, etiketler,target_size=(224, 224))\n",
    "    model=load_model(\"model2_2.h5\")\n",
    "    T_m = 0.40\n",
    "    T_b = 0.40\n",
    "    probs = model.predict(X_test)\n",
    "    classes = ['normal', 'benign', 'cancer']\n",
    "    label_map = {'normal': 0, 'benign': 1, 'cancer': 2}\n",
    "    preds = [2 if p[2] >= T_m else 1 if p[1] >= T_b else 0 for p in probs]\n",
    "    print(classification_report(y_test, preds, target_names=classes))\n",
    "    print(\"Confusion Matrix:\\n\", confusion_matrix(y_test, preds))\n",
    "    print(\"Accuracy:\", accuracy_score(y_test, preds))\n",
    "    print(\"Precision:\", precision_score(y_test, preds, average='macro'))\n",
    "    print(\"Recall:\", recall_score(y_test, preds, average='macro'))\n",
    "    print(\"📌 F1 Score:\", f1_score(y_test, preds, average='macro'))\n",
    "    try:\n",
    "        print(\"AUC:\", roc_auc_score(pd.get_dummies(y_test), probs,\n",
    "                                 multi_class='ovr', average='macro'))\n",
    "    except:\n",
    "        print(\"AUC hesaplanamadı.\")"
   ]
  }
 ],
 "metadata": {
  "kernelspec": {
   "display_name": "tf-gpu-211",
   "language": "python",
   "name": "python3"
  },
  "language_info": {
   "codemirror_mode": {
    "name": "ipython",
    "version": 3
   },
   "file_extension": ".py",
   "mimetype": "text/x-python",
   "name": "python",
   "nbconvert_exporter": "python",
   "pygments_lexer": "ipython3",
   "version": "3.8.20"
  }
 },
 "nbformat": 4,
 "nbformat_minor": 5
}

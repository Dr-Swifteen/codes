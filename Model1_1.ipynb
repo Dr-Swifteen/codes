{
 "cells": [
  {
   "cell_type": "markdown",
   "id": "c01195bc",
   "metadata": {},
   "source": [
    "#### 📌 **HİPERPARAMETRELERİ BURADAN AYARLA**"
   ]
  },
  {
   "cell_type": "code",
   "execution_count": 1,
   "id": "e86f048d",
   "metadata": {},
   "outputs": [],
   "source": [
    "learning_rate = 1e-4\n",
    "dropout_rate = 0.588\n",
    "batch_size = 32\n",
    "filters = [32, 64, 256]\n",
    "earlystop_patience = 10\n",
    "reduce_lr_patience = 5\n",
    "epochs = 50\n",
    "target_size = (224, 224)"
   ]
  },
  {
   "cell_type": "code",
   "execution_count": 2,
   "id": "c99ec62b",
   "metadata": {},
   "outputs": [],
   "source": [
    "import os\n",
    "import re\n",
    "import cv2\n",
    "import numpy as np\n",
    "import pandas as pd\n",
    "from sklearn.model_selection import train_test_split\n",
    "from sklearn.metrics import (classification_report, confusion_matrix, f1_score,\n",
    "                             accuracy_score, roc_auc_score, precision_score, recall_score)\n",
    "from tensorflow.keras.models import Model\n",
    "from tensorflow.keras.layers import (Input, Conv2D, BatchNormalization, ReLU,\n",
    "                                     MaxPooling2D, Dropout, Flatten, Dense)\n",
    "from tensorflow.keras.optimizers import Adam\n",
    "from tensorflow.keras.callbacks import EarlyStopping, ReduceLROnPlateau"
   ]
  },
  {
   "cell_type": "markdown",
   "id": "869b7c61",
   "metadata": {},
   "source": [
    "#### 📁 **1. Görüntü Yolu Listeleme Fonksiyonu**\n"
   ]
  },
  {
   "cell_type": "code",
   "execution_count": null,
   "id": "bdac1a8d",
   "metadata": {},
   "outputs": [],
   "source": [
    "def mammo_gorunumlerini_listele(kok_dizin):#Chatgpt\n",
    "    pattern = re.compile(r'^[A-Z]_\\d+_\\d+\\.(LEFT|RIGHT)_(CC|MLO)\\.jpg$', re.IGNORECASE)\n",
    "    siniflar = ['benign', 'cancer', 'normal']\n",
    "    yollar, etiketler = [], []\n",
    "    for cls in siniflar:\n",
    "        cls_yolu = os.path.join(kok_dizin, cls)\n",
    "        if not os.path.isdir(cls_yolu):\n",
    "            continue\n",
    "        for durum_id in os.listdir(cls_yolu):\n",
    "            durum_yolu = os.path.join(cls_yolu, durum_id)\n",
    "            if not os.path.isdir(durum_yolu):\n",
    "                continue\n",
    "            for dosya_adi in os.listdir(durum_yolu):\n",
    "                if pattern.match(dosya_adi):\n",
    "                    yollar.append(os.path.join(durum_yolu, dosya_adi))\n",
    "                    etiketler.append(cls)\n",
    "    return yollar, etiketler"
   ]
  },
  {
   "cell_type": "markdown",
   "id": "3a467d65",
   "metadata": {},
   "source": [
    "#### 🧼 **2. Görüntü Ön İşleme**\n"
   ]
  },
  {
   "cell_type": "code",
   "execution_count": 4,
   "id": "dff67e25",
   "metadata": {},
   "outputs": [],
   "source": [
    "def load_and_preprocess(paths, labels, target_size=target_size, method='minmax'):\n",
    "    X, y = [], []\n",
    "    label_map = {'normal': 0, 'benign': 1, 'cancer': 2}\n",
    "    for img_path, lbl in zip(paths, labels):\n",
    "        img = cv2.imread(img_path, cv2.IMREAD_GRAYSCALE)\n",
    "        img = cv2.resize(img, target_size)\n",
    "        img = img.astype(np.float32)\n",
    "        if method == 'minmax':\n",
    "            img /= 255.0\n",
    "        else:\n",
    "            img = (img - img.mean()) / (img.std() + 1e-8)\n",
    "        X.append(img[..., np.newaxis])\n",
    "        y.append(label_map[lbl])\n",
    "    return np.array(X), np.array(y)"
   ]
  },
  {
   "cell_type": "markdown",
   "id": "4470488c",
   "metadata": {},
   "source": [
    "#### 🧠 **3. CNN Model Tanımı**"
   ]
  },
  {
   "cell_type": "code",
   "execution_count": 5,
   "id": "1ddbdfeb",
   "metadata": {},
   "outputs": [],
   "source": [
    "def _conv_block(inputs, filters):\n",
    "    x = Conv2D(filters, (3, 3), padding='same')(inputs)\n",
    "    x = BatchNormalization()(x)\n",
    "    x = ReLU()(x)\n",
    "    return x\n",
    "def create_cnn_model(input_shape=(224, 224, 1), num_classes=3, filters=filters, dropout_rate=dropout_rate):\n",
    "    inp = Input(shape=input_shape)\n",
    "    x = _conv_block(inp, filters[0])\n",
    "    x = MaxPooling2D((2, 2))(x)\n",
    "\n",
    "    x = _conv_block(x, filters[1])\n",
    "    x = _conv_block(x, filters[1])\n",
    "    x = MaxPooling2D((2, 2))(x)\n",
    "\n",
    "    x = _conv_block(x, filters[2])\n",
    "    x = MaxPooling2D((2, 2))(x)\n",
    "\n",
    "    x = Flatten()(x)\n",
    "    x = Dense(256, activation='relu')(x)\n",
    "    x = Dropout(dropout_rate)(x)\n",
    "    out = Dense(num_classes, activation='softmax')(x)\n",
    "\n",
    "    return Model(inputs=inp, outputs=out)"
   ]
  },
  {
   "cell_type": "markdown",
   "id": "75ebbbaf",
   "metadata": {},
   "source": [
    "#### 🚂 **4. Model Eğitimi ve Kaydetme**\n"
   ]
  },
  {
   "cell_type": "code",
   "execution_count": null,
   "id": "26b0f3a6",
   "metadata": {},
   "outputs": [
    {
     "name": "stdout",
     "output_type": "stream",
     "text": [
      "Epoch 1/50\n",
      "198/198 [==============================] - 25s 99ms/step - loss: 1.6686 - accuracy: 0.4940 - val_loss: 1.3075 - val_accuracy: 0.3329\n",
      "Epoch 2/50\n",
      "198/198 [==============================] - 18s 91ms/step - loss: 0.8874 - accuracy: 0.5180 - val_loss: 1.0510 - val_accuracy: 0.4552\n",
      "Epoch 3/50\n",
      "198/198 [==============================] - 18s 91ms/step - loss: 0.8509 - accuracy: 0.5251 - val_loss: 0.7919 - val_accuracy: 0.6131\n",
      "Epoch 4/50\n",
      "198/198 [==============================] - 18s 91ms/step - loss: 0.8318 - accuracy: 0.5425 - val_loss: 0.7905 - val_accuracy: 0.5946\n",
      "Epoch 5/50\n",
      "198/198 [==============================] - 18s 91ms/step - loss: 0.8320 - accuracy: 0.5398 - val_loss: 0.7403 - val_accuracy: 0.5974\n",
      "Epoch 6/50\n",
      "198/198 [==============================] - 18s 91ms/step - loss: 0.8030 - accuracy: 0.5538 - val_loss: 0.7316 - val_accuracy: 0.6216\n",
      "Epoch 7/50\n",
      "198/198 [==============================] - 18s 91ms/step - loss: 0.7947 - accuracy: 0.5563 - val_loss: 0.7620 - val_accuracy: 0.5889\n",
      "Epoch 8/50\n",
      "198/198 [==============================] - 18s 91ms/step - loss: 0.8000 - accuracy: 0.5449 - val_loss: 0.7224 - val_accuracy: 0.5519\n",
      "Epoch 9/50\n",
      "198/198 [==============================] - 18s 91ms/step - loss: 0.7927 - accuracy: 0.5585 - val_loss: 0.7940 - val_accuracy: 0.6131\n",
      "Epoch 10/50\n",
      "198/198 [==============================] - 18s 91ms/step - loss: 0.7930 - accuracy: 0.5571 - val_loss: 0.7610 - val_accuracy: 0.6046\n",
      "Epoch 11/50\n",
      "198/198 [==============================] - 18s 91ms/step - loss: 0.7821 - accuracy: 0.5470 - val_loss: 0.7129 - val_accuracy: 0.6131\n",
      "Epoch 12/50\n",
      "198/198 [==============================] - 18s 92ms/step - loss: 0.7877 - accuracy: 0.5558 - val_loss: 0.7419 - val_accuracy: 0.5832\n",
      "Epoch 13/50\n",
      "198/198 [==============================] - 18s 91ms/step - loss: 0.7839 - accuracy: 0.5497 - val_loss: 0.7504 - val_accuracy: 0.5434\n",
      "Epoch 14/50\n",
      "198/198 [==============================] - 18s 91ms/step - loss: 0.7697 - accuracy: 0.5666 - val_loss: 0.7095 - val_accuracy: 0.6003\n",
      "Epoch 15/50\n",
      "198/198 [==============================] - 18s 92ms/step - loss: 0.7741 - accuracy: 0.5604 - val_loss: 0.7039 - val_accuracy: 0.6102\n",
      "Epoch 16/50\n",
      "198/198 [==============================] - 18s 92ms/step - loss: 0.7591 - accuracy: 0.5621 - val_loss: 0.7557 - val_accuracy: 0.5832\n",
      "Epoch 17/50\n",
      "198/198 [==============================] - 18s 91ms/step - loss: 0.7625 - accuracy: 0.5574 - val_loss: 0.7192 - val_accuracy: 0.6060\n",
      "Epoch 18/50\n",
      "198/198 [==============================] - 18s 91ms/step - loss: 0.7582 - accuracy: 0.5775 - val_loss: 0.7365 - val_accuracy: 0.6102\n",
      "Epoch 19/50\n",
      "198/198 [==============================] - 18s 91ms/step - loss: 0.7549 - accuracy: 0.5726 - val_loss: 0.7071 - val_accuracy: 0.6003\n",
      "Epoch 20/50\n",
      "198/198 [==============================] - 18s 91ms/step - loss: 0.7516 - accuracy: 0.5682 - val_loss: 0.7604 - val_accuracy: 0.6117\n",
      "Epoch 21/50\n",
      "198/198 [==============================] - 18s 91ms/step - loss: 0.7379 - accuracy: 0.5689 - val_loss: 0.7059 - val_accuracy: 0.6401\n",
      "Epoch 22/50\n",
      "198/198 [==============================] - 18s 91ms/step - loss: 0.7367 - accuracy: 0.5787 - val_loss: 0.7040 - val_accuracy: 0.6358\n",
      "Epoch 23/50\n",
      "198/198 [==============================] - 18s 91ms/step - loss: 0.7319 - accuracy: 0.5762 - val_loss: 0.7019 - val_accuracy: 0.6344\n",
      "Epoch 24/50\n",
      "198/198 [==============================] - 18s 92ms/step - loss: 0.7368 - accuracy: 0.5737 - val_loss: 0.7239 - val_accuracy: 0.6259\n",
      "Epoch 25/50\n",
      "198/198 [==============================] - 18s 91ms/step - loss: 0.7207 - accuracy: 0.5849 - val_loss: 0.7135 - val_accuracy: 0.6472\n",
      "Epoch 26/50\n",
      "198/198 [==============================] - 18s 91ms/step - loss: 0.7195 - accuracy: 0.5822 - val_loss: 0.7500 - val_accuracy: 0.6472\n",
      "Epoch 27/50\n",
      "198/198 [==============================] - 18s 91ms/step - loss: 0.7135 - accuracy: 0.5832 - val_loss: 0.7183 - val_accuracy: 0.6486\n",
      "Epoch 28/50\n",
      "198/198 [==============================] - 18s 91ms/step - loss: 0.7161 - accuracy: 0.5802 - val_loss: 0.7421 - val_accuracy: 0.6515\n",
      "Epoch 29/50\n",
      "198/198 [==============================] - 18s 91ms/step - loss: 0.7079 - accuracy: 0.5824 - val_loss: 0.7389 - val_accuracy: 0.6486\n",
      "Epoch 30/50\n",
      "198/198 [==============================] - 18s 91ms/step - loss: 0.7099 - accuracy: 0.5871 - val_loss: 0.7008 - val_accuracy: 0.6529\n",
      "Epoch 31/50\n",
      "198/198 [==============================] - 18s 91ms/step - loss: 0.6998 - accuracy: 0.5865 - val_loss: 0.7638 - val_accuracy: 0.6472\n",
      "Epoch 32/50\n",
      "198/198 [==============================] - 18s 91ms/step - loss: 0.7003 - accuracy: 0.5946 - val_loss: 0.7348 - val_accuracy: 0.6415\n",
      "Epoch 33/50\n",
      "198/198 [==============================] - 18s 91ms/step - loss: 0.6924 - accuracy: 0.5887 - val_loss: 0.7188 - val_accuracy: 0.6501\n",
      "Epoch 34/50\n",
      "198/198 [==============================] - 18s 91ms/step - loss: 0.6979 - accuracy: 0.5931 - val_loss: 0.7086 - val_accuracy: 0.6501\n",
      "Epoch 35/50\n",
      "198/198 [==============================] - 18s 91ms/step - loss: 0.6926 - accuracy: 0.5952 - val_loss: 0.7092 - val_accuracy: 0.6543\n",
      "Epoch 36/50\n",
      "198/198 [==============================] - 18s 91ms/step - loss: 0.6919 - accuracy: 0.5947 - val_loss: 0.7254 - val_accuracy: 0.6444\n",
      "Epoch 37/50\n",
      "198/198 [==============================] - 18s 91ms/step - loss: 0.6869 - accuracy: 0.5927 - val_loss: 0.7136 - val_accuracy: 0.6458\n",
      "Epoch 38/50\n",
      "198/198 [==============================] - 18s 91ms/step - loss: 0.6859 - accuracy: 0.5868 - val_loss: 0.7183 - val_accuracy: 0.6600\n",
      "Epoch 39/50\n",
      "198/198 [==============================] - 18s 91ms/step - loss: 0.6812 - accuracy: 0.5957 - val_loss: 0.7095 - val_accuracy: 0.6572\n",
      "Epoch 40/50\n",
      "198/198 [==============================] - 18s 91ms/step - loss: 0.6822 - accuracy: 0.5942 - val_loss: 0.7201 - val_accuracy: 0.6515\n"
     ]
    }
   ],
   "source": [
    "if __name__ == '__main__':\n",
    "    kok_dizin = os.path.join(os.getcwd(), \"Project1\")\n",
    "    yollar, etiketler = mammo_gorunumlerini_listele(kok_dizin)\n",
    "    X, y = load_and_preprocess(yollar, etiketler)    \n",
    "\n",
    "    X_egitim_val, X_test, y_egitim_val, y_test = train_test_split(X, y, test_size=0.1, stratify=y, random_state=42)\n",
    "    np.save(\"X_test_1_1.npy\", X_test)\n",
    "    np.save(\"y_test_1_1.npy\", y_test)\n",
    "    model = create_cnn_model()\n",
    "    model.compile(optimizer=Adam(learning_rate=learning_rate),\n",
    "              loss='categorical_crossentropy',\n",
    "              metrics=['accuracy'])\n",
    "\n",
    "    geri_cagirmalar = [\n",
    "        EarlyStopping(patience=earlystop_patience, restore_best_weights=True),\n",
    "        ReduceLROnPlateau(patience=reduce_lr_patience, factor=0.5)\n",
    "    ]\n",
    "    #chatgpt \n",
    "    model.fit(X_egitim_val, pd.get_dummies(y_egitim_val),\n",
    "          epochs=epochs, batch_size=batch_size,validation_split=0.1,\n",
    "          callbacks=geri_cagirmalar, verbose=1)\n",
    "\n",
    "    olasiliklar = model.predict(X_test)\n",
    "    esikler = np.linspace(0.4, 0.6, 21)\n",
    "    en_iyi_f1, en_iyi_T_m, en_iyi_T_b = 0, 0.47, 0.53\n",
    "    for T_m_aday in esikler:\n",
    "        for T_b_aday in esikler:\n",
    "            tahminler = [2 if p[2] >= T_m_aday else 1 if p[1] >= T_b_aday else 0 for p in olasiliklar]\n",
    "            f1 = f1_score(y_test, tahminler, average='macro')\n",
    "            if f1 > en_iyi_f1:\n",
    "                en_iyi_f1, en_iyi_T_m, en_iyi_T_b = f1, T_m_aday, T_b_aday"
   ]
  },
  {
   "cell_type": "markdown",
   "id": "64b12eec",
   "metadata": {},
   "source": [
    " Metirkler**"
   ]
  },
  {
   "cell_type": "code",
   "execution_count": 7,
   "id": "d3c71fe4",
   "metadata": {},
   "outputs": [
    {
     "name": "stdout",
     "output_type": "stream",
     "text": [
      "En iyi eşik sınırı: T_m=0.52, T_b=0.40\n",
      "              precision    recall  f1-score   support\n",
      "\n",
      "      normal       0.75      0.85      0.79       241\n",
      "      benign       0.55      0.61      0.58       268\n",
      "      cancer       0.66      0.50      0.57       272\n",
      "\n",
      "    accuracy                           0.65       781\n",
      "   macro avg       0.65      0.66      0.65       781\n",
      "weighted avg       0.65      0.65      0.64       781\n",
      "\n",
      "[[205  34   2]\n",
      " [ 35 164  69]\n",
      " [ 35 100 137]]\n",
      "Doğruluk: 0.647887323943662\n",
      "Kesinlik: 0.6514813206927301\n",
      "Duyarlılık: 0.655413058578234\n",
      "AUC: 0.8349347011711998\n"
     ]
    }
   ],
   "source": [
    "nihai_tahminler = [2 if p[2] >= en_iyi_T_m else 1 if p[1] >= en_iyi_T_b else 0 for p in olasiliklar]\n",
    "print(f\"En iyi eşik sınırı: T_m={en_iyi_T_m:.2f}, T_b={en_iyi_T_b:.2f}\")\n",
    "print(classification_report(y_test, nihai_tahminler, target_names=['normal','benign','cancer']))\n",
    "print(confusion_matrix(y_test, nihai_tahminler))\n",
    "print(\"Doğruluk:\", accuracy_score(y_test, nihai_tahminler))\n",
    "print(\"Kesinlik:\", precision_score(y_test, nihai_tahminler, average='macro'))\n",
    "print(\"Duyarlılık:\", recall_score(y_test, nihai_tahminler, average='macro'))\n",
    "try:\n",
    "    print(\"AUC:\", roc_auc_score(pd.get_dummies(y_test), olasiliklar, average='macro', multi_class='ovr'))\n",
    "except:\n",
    "    print(\"AUC hesaplanamadı (muhtemelen tek sınıf tahmini nedeniyle)\")\n",
    "with open(\"optimized_thresholds.txt\", \"w\") as f:\n",
    "    f.write(f\"Best T_m: {en_iyi_T_m}\\nBest T_b: {en_iyi_T_b}\\nBest F1: {en_iyi_f1}\")"
   ]
  },
  {
   "cell_type": "code",
   "execution_count": 8,
   "id": "9a7c3be6",
   "metadata": {},
   "outputs": [],
   "source": [
    "#### 💾 **6. Model ve Eşik Kayıtları**\n"
   ]
  },
  {
   "cell_type": "code",
   "execution_count": 9,
   "id": "7ed070b7",
   "metadata": {},
   "outputs": [
    {
     "name": "stdout",
     "output_type": "stream",
     "text": [
      "Model kaydedildi: model1.h5\n"
     ]
    }
   ],
   "source": [
    "model_name = \"model1.h5\"\n",
    "model.save(model_name)\n",
    "print(f\"Model kaydedildi: {model_name}\")"
   ]
  }
 ],
 "metadata": {
  "kernelspec": {
   "display_name": "tf-gpu-211",
   "language": "python",
   "name": "python3"
  },
  "language_info": {
   "codemirror_mode": {
    "name": "ipython",
    "version": 3
   },
   "file_extension": ".py",
   "mimetype": "text/x-python",
   "name": "python",
   "nbconvert_exporter": "python",
   "pygments_lexer": "ipython3",
   "version": "3.8.20"
  }
 },
 "nbformat": 4,
 "nbformat_minor": 5
}

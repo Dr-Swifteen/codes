{
 "cells": [
  {
   "cell_type": "markdown",
   "id": "c01195bc",
   "metadata": {},
   "source": [
    "#### 📌 **HİPERPARAMETRELERİ BURADAN AYARLA**"
   ]
  },
  {
   "cell_type": "code",
   "execution_count": 1,
   "id": "e86f048d",
   "metadata": {},
   "outputs": [],
   "source": [
    "learning_rate = 1e-4\n",
    "dropout_rate = 0.5\n",
    "batch_size = 64\n",
    "filters = [64, 128, 256]\n",
    "earlystop_patience = 9\n",
    "reduce_lr_patience = 5\n",
    "epochs = 30\n",
    "target_size = (224, 224)"
   ]
  },
  {
   "cell_type": "code",
   "execution_count": 2,
   "id": "c99ec62b",
   "metadata": {},
   "outputs": [],
   "source": [
    "import os\n",
    "import re\n",
    "import cv2\n",
    "import numpy as np\n",
    "import pandas as pd\n",
    "from sklearn.model_selection import train_test_split\n",
    "from sklearn.metrics import (classification_report, confusion_matrix, f1_score,\n",
    "                             accuracy_score, roc_auc_score, precision_score, recall_score)\n",
    "from tensorflow.keras.models import Model\n",
    "from tensorflow.keras.layers import (Input, Conv2D, BatchNormalization, ReLU,\n",
    "                                     MaxPooling2D, Dropout, Flatten, Dense)\n",
    "from tensorflow.keras.optimizers import Adam\n",
    "from tensorflow.keras.callbacks import EarlyStopping, ReduceLROnPlateau"
   ]
  },
  {
   "cell_type": "markdown",
   "id": "869b7c61",
   "metadata": {},
   "source": [
    "#### 📁 **1. Görüntü Yolu Listeleme Fonksiyonu**\n"
   ]
  },
  {
   "cell_type": "code",
   "execution_count": null,
   "id": "bdac1a8d",
   "metadata": {},
   "outputs": [],
   "source": [
    "#chatgpt\n",
    "def mammo_gorunumlerini_listele(kok_dizin):\n",
    "    class_dirs = {\n",
    "        'normal': ['Birad1'],\n",
    "        'benign': ['Birad3'],\n",
    "        'cancer': ['Birad4', 'Birad5'],\n",
    "    }\n",
    "    paths, labels = [], []\n",
    "    for cls, subdirs in class_dirs.items():\n",
    "        for sd in subdirs:\n",
    "            dir_path = os.path.join(kok_dizin, sd)\n",
    "            if not os.path.isdir(dir_path):\n",
    "                continue\n",
    "            for fname in sorted(os.listdir(dir_path)):\n",
    "                if fname.lower().endswith(('.jpg', '.jpeg', '.png')):\n",
    "                    paths.append(os.path.join(dir_path, fname))\n",
    "                    labels.append(cls)\n",
    "    return paths, labels"
   ]
  },
  {
   "cell_type": "markdown",
   "id": "3a467d65",
   "metadata": {},
   "source": [
    "#### 🧼 **2. Görüntü Ön İşleme**\n"
   ]
  },
  {
   "cell_type": "code",
   "execution_count": null,
   "id": "dff67e25",
   "metadata": {},
   "outputs": [],
   "source": [
    "#chatgpt ile ayırdım\n",
    "def read_grayscale_image(path, target_size=target_size):\n",
    "    img = cv2.imread(path, cv2.IMREAD_GRAYSCALE)\n",
    "    img = cv2.resize(img, target_size)\n",
    "    return img.astype(np.float32)\n",
    "\n",
    "def normalize_image(img, method='minmax'):\n",
    "    if method == 'minmax':\n",
    "        return img / 255.0\n",
    "    else:\n",
    "        return (img - img.mean()) / (img.std() + 1e-8)\n",
    "\n",
    "def convert_to_dataset(paths, labels, target_size=target_size, method='minmax'):\n",
    "    X, y = [], []\n",
    "    label_map = {'normal': 0, 'benign': 1, 'cancer': 2}\n",
    "    for p, lbl in zip(paths, labels):\n",
    "        img = read_grayscale_image(p, target_size)\n",
    "        img = normalize_image(img, method)\n",
    "        X.append(img[..., np.newaxis])\n",
    "        y.append(label_map[lbl])\n",
    "    return np.array(X), np.array(y)"
   ]
  },
  {
   "cell_type": "markdown",
   "id": "4470488c",
   "metadata": {},
   "source": [
    "#### 🧠 **3. CNN Model Tanımı**"
   ]
  },
  {
   "cell_type": "code",
   "execution_count": 5,
   "id": "1ddbdfeb",
   "metadata": {},
   "outputs": [],
   "source": [
    "def _conv_block(inputs, filters):\n",
    "    x = Conv2D(filters, (3, 3), padding='same')(inputs)\n",
    "    x = BatchNormalization()(x)\n",
    "    x = ReLU()(x)\n",
    "    return x\n",
    "def create_cnn_model(input_shape=(224, 224, 1), num_classes=3, filters=filters, dropout_rate=dropout_rate):\n",
    "    inp = Input(shape=input_shape)\n",
    "    x = _conv_block(inp, filters[0])\n",
    "    x = MaxPooling2D((2, 2))(x)\n",
    "\n",
    "    x = _conv_block(x, filters[1])\n",
    "    x = _conv_block(x, filters[1])\n",
    "    x = MaxPooling2D((2, 2))(x)\n",
    "\n",
    "    x = _conv_block(x, filters[2])\n",
    "    x = MaxPooling2D((2, 2))(x)\n",
    "\n",
    "    x = Flatten()(x)\n",
    "    x = Dense(256, activation='relu')(x)\n",
    "    x = Dropout(dropout_rate)(x)\n",
    "    out = Dense(num_classes, activation='softmax')(x)\n",
    "\n",
    "    return Model(inputs=inp, outputs=out)"
   ]
  },
  {
   "cell_type": "markdown",
   "id": "75ebbbaf",
   "metadata": {},
   "source": [
    "#### 🚂 **4. Model Eğitimi ve Kaydetme**\n"
   ]
  },
  {
   "cell_type": "code",
   "execution_count": null,
   "id": "26b0f3a6",
   "metadata": {},
   "outputs": [
    {
     "name": "stdout",
     "output_type": "stream",
     "text": [
      "Epoch 1/30\n",
      "31/31 [==============================] - 18s 367ms/step - loss: 2.0415 - accuracy: 0.7965 - val_loss: 1.0915 - val_accuracy: 0.7944\n",
      "Epoch 2/30\n",
      "31/31 [==============================] - 10s 318ms/step - loss: 0.3323 - accuracy: 0.8738 - val_loss: 1.0156 - val_accuracy: 0.7944\n",
      "Epoch 3/30\n",
      "31/31 [==============================] - 10s 321ms/step - loss: 0.2772 - accuracy: 0.8910 - val_loss: 1.0521 - val_accuracy: 0.7944\n",
      "Epoch 4/30\n",
      "31/31 [==============================] - 10s 320ms/step - loss: 0.2504 - accuracy: 0.8972 - val_loss: 1.0075 - val_accuracy: 0.7944\n",
      "Epoch 5/30\n",
      "31/31 [==============================] - 10s 322ms/step - loss: 0.2323 - accuracy: 0.9024 - val_loss: 0.9294 - val_accuracy: 0.7944\n",
      "Epoch 6/30\n",
      "31/31 [==============================] - 10s 324ms/step - loss: 0.2328 - accuracy: 0.9003 - val_loss: 1.0283 - val_accuracy: 0.0561\n",
      "Epoch 7/30\n",
      "31/31 [==============================] - 10s 325ms/step - loss: 0.2177 - accuracy: 0.9081 - val_loss: 1.1486 - val_accuracy: 0.0561\n",
      "Epoch 8/30\n",
      "31/31 [==============================] - 10s 325ms/step - loss: 0.2209 - accuracy: 0.9081 - val_loss: 1.1079 - val_accuracy: 0.0701\n",
      "Epoch 9/30\n",
      "31/31 [==============================] - 10s 327ms/step - loss: 0.2140 - accuracy: 0.9102 - val_loss: 1.0622 - val_accuracy: 0.0841\n",
      "Epoch 10/30\n",
      "31/31 [==============================] - 11s 340ms/step - loss: 0.2094 - accuracy: 0.9112 - val_loss: 0.9311 - val_accuracy: 0.5140\n",
      "Epoch 11/30\n",
      "31/31 [==============================] - 10s 336ms/step - loss: 0.1960 - accuracy: 0.9102 - val_loss: 1.0019 - val_accuracy: 0.2009\n",
      "Epoch 12/30\n",
      "31/31 [==============================] - 10s 335ms/step - loss: 0.1899 - accuracy: 0.9211 - val_loss: 0.8074 - val_accuracy: 0.5701\n",
      "Epoch 13/30\n",
      "31/31 [==============================] - 11s 341ms/step - loss: 0.1791 - accuracy: 0.9154 - val_loss: 0.9287 - val_accuracy: 0.3738\n",
      "Epoch 14/30\n",
      "31/31 [==============================] - 10s 335ms/step - loss: 0.1658 - accuracy: 0.9289 - val_loss: 0.8299 - val_accuracy: 0.5327\n",
      "Epoch 15/30\n",
      "31/31 [==============================] - 10s 337ms/step - loss: 0.1647 - accuracy: 0.9346 - val_loss: 0.6861 - val_accuracy: 0.6589\n",
      "Epoch 16/30\n",
      "31/31 [==============================] - 10s 337ms/step - loss: 0.1642 - accuracy: 0.9320 - val_loss: 0.5959 - val_accuracy: 0.7196\n",
      "Epoch 17/30\n",
      "31/31 [==============================] - 11s 340ms/step - loss: 0.1763 - accuracy: 0.9242 - val_loss: 0.4582 - val_accuracy: 0.8178\n",
      "Epoch 18/30\n",
      "31/31 [==============================] - 10s 336ms/step - loss: 0.1464 - accuracy: 0.9330 - val_loss: 0.4069 - val_accuracy: 0.8505\n",
      "Epoch 19/30\n",
      "31/31 [==============================] - 11s 346ms/step - loss: 0.1505 - accuracy: 0.9304 - val_loss: 0.2653 - val_accuracy: 0.9159\n",
      "Epoch 20/30\n",
      "31/31 [==============================] - 11s 346ms/step - loss: 0.1484 - accuracy: 0.9356 - val_loss: 0.2718 - val_accuracy: 0.9065\n",
      "Epoch 21/30\n",
      "31/31 [==============================] - 11s 341ms/step - loss: 0.1436 - accuracy: 0.9377 - val_loss: 0.2303 - val_accuracy: 0.9299\n",
      "Epoch 22/30\n",
      "31/31 [==============================] - 11s 344ms/step - loss: 0.1453 - accuracy: 0.9356 - val_loss: 0.2140 - val_accuracy: 0.9252\n",
      "Epoch 23/30\n",
      "31/31 [==============================] - 11s 341ms/step - loss: 0.1357 - accuracy: 0.9398 - val_loss: 0.2151 - val_accuracy: 0.9206\n",
      "Epoch 24/30\n",
      "31/31 [==============================] - 11s 341ms/step - loss: 0.1256 - accuracy: 0.9434 - val_loss: 0.2150 - val_accuracy: 0.9299\n",
      "Epoch 25/30\n",
      "31/31 [==============================] - 11s 343ms/step - loss: 0.1265 - accuracy: 0.9424 - val_loss: 0.2289 - val_accuracy: 0.9299\n",
      "Epoch 26/30\n",
      "31/31 [==============================] - 11s 345ms/step - loss: 0.1185 - accuracy: 0.9429 - val_loss: 0.2430 - val_accuracy: 0.9159\n",
      "Epoch 27/30\n",
      "31/31 [==============================] - 11s 343ms/step - loss: 0.1241 - accuracy: 0.9424 - val_loss: 0.2354 - val_accuracy: 0.9252\n",
      "Epoch 28/30\n",
      "31/31 [==============================] - 11s 344ms/step - loss: 0.1123 - accuracy: 0.9455 - val_loss: 0.2487 - val_accuracy: 0.9252\n",
      "Epoch 29/30\n",
      "31/31 [==============================] - 11s 345ms/step - loss: 0.1084 - accuracy: 0.9491 - val_loss: 0.2568 - val_accuracy: 0.9252\n",
      "Epoch 30/30\n",
      "31/31 [==============================] - 11s 345ms/step - loss: 0.1059 - accuracy: 0.9434 - val_loss: 0.2614 - val_accuracy: 0.9252\n"
     ]
    }
   ],
   "source": [
    "if __name__ == '__main__':\n",
    "    kok_dizin = os.path.join(os.getcwd(), \"Project2\")\n",
    "    yollar, etiketler = mammo_gorunumlerini_listele(kok_dizin)\n",
    "    X, y = convert_to_dataset(yollar, etiketler,target_size=target_size)\n",
    "\n",
    "    X_egitim_val, X_test, y_egitim_val, y_test = train_test_split(X, y, test_size=0.1, stratify=y, random_state=42)\n",
    "    np.save(\"X_test_2_2.npy\", X_test)\n",
    "    np.save(\"y_test_2_2.npy\", y_test)\n",
    "    model = create_cnn_model()\n",
    "    model.compile(optimizer=Adam(learning_rate=learning_rate),\n",
    "              loss='categorical_crossentropy',\n",
    "              metrics=['accuracy'])\n",
    "\n",
    "    geri_cagirmalar = [\n",
    "        EarlyStopping(patience=earlystop_patience, restore_best_weights=True),\n",
    "        ReduceLROnPlateau(patience=reduce_lr_patience, factor=0.5)\n",
    "    ]\n",
    "    #chatgpt\n",
    "    model.fit(X_egitim_val, pd.get_dummies(y_egitim_val),\n",
    "          epochs=epochs, batch_size=batch_size,validation_split=0.1,\n",
    "          callbacks=geri_cagirmalar, verbose=1)\n",
    "\n",
    "    olasiliklar = model.predict(X_test)\n",
    "    esikler = np.linspace(0.4, 0.6, 21)\n",
    "    en_iyi_f1, en_iyi_T_m, en_iyi_T_b = 0, 0.5, 0.5\n",
    "    for T_m_aday in esikler:\n",
    "        for T_b_aday in esikler:\n",
    "            tahminler = [2 if p[2] >= T_m_aday else 1 if p[1] >= T_b_aday else 0 for p in olasiliklar]\n",
    "            f1 = f1_score(y_test, tahminler, average='macro')\n",
    "            if f1 > en_iyi_f1:\n",
    "                en_iyi_f1, en_iyi_T_m, en_iyi_T_b = f1, T_m_aday, T_b_aday"
   ]
  },
  {
   "cell_type": "markdown",
   "id": "64b12eec",
   "metadata": {},
   "source": [
    " Metirkler**"
   ]
  },
  {
   "cell_type": "code",
   "execution_count": 7,
   "id": "d3c71fe4",
   "metadata": {},
   "outputs": [
    {
     "name": "stdout",
     "output_type": "stream",
     "text": [
      "En iyi eşik sınırı: T_m=0.40, T_b=0.40\n",
      "              precision    recall  f1-score   support\n",
      "\n",
      "      normal       0.97      0.96      0.96       187\n",
      "      benign       0.68      0.92      0.78        39\n",
      "      cancer       1.00      0.08      0.15        12\n",
      "\n",
      "    accuracy                           0.91       238\n",
      "   macro avg       0.88      0.65      0.63       238\n",
      "weighted avg       0.93      0.91      0.89       238\n",
      "\n",
      "[[179   8   0]\n",
      " [  3  36   0]\n",
      " [  2   9   1]]\n",
      "Doğruluk: 0.907563025210084\n",
      "Precision: 0.8840237899917965\n",
      "Recall: 0.6545431692490516\n",
      "AUC: 0.9472214506487097\n"
     ]
    }
   ],
   "source": [
    "nihai_tahminler = [2 if p[2] >= en_iyi_T_m else 1 if p[1] >= en_iyi_T_b else 0 for p in olasiliklar]\n",
    "print(f\"En iyi eşik sınırı: T_m={en_iyi_T_m:.2f}, T_b={en_iyi_T_b:.2f}\")\n",
    "print(classification_report(y_test, nihai_tahminler, target_names=['normal','benign','cancer']))\n",
    "print(confusion_matrix(y_test, nihai_tahminler))\n",
    "print(\"Doğruluk:\", accuracy_score(y_test, nihai_tahminler))\n",
    "print(\"Precision:\", precision_score(y_test, nihai_tahminler, average='macro'))\n",
    "print(\"Recall:\", recall_score(y_test, nihai_tahminler, average='macro'))\n",
    "try:\n",
    "    print(\"AUC:\", roc_auc_score(pd.get_dummies(y_test), olasiliklar, average='macro', multi_class='ovr'))\n",
    "except:\n",
    "    print(\"AUC hesaplanamadı (muhtemelen tek sınıf tahmini nedeniyle)\")\n",
    "with open(\"optimized_thresholds.txt\", \"w\") as f:\n",
    "    f.write(f\"Best T_m: {en_iyi_T_m}\\nBest T_b: {en_iyi_T_b}\\nBest F1: {en_iyi_f1}\")"
   ]
  },
  {
   "cell_type": "code",
   "execution_count": 8,
   "id": "9a7c3be6",
   "metadata": {},
   "outputs": [],
   "source": [
    "#### 💾 **6. Model ve Eşik Kayıtları**\n"
   ]
  },
  {
   "cell_type": "code",
   "execution_count": 9,
   "id": "7ed070b7",
   "metadata": {},
   "outputs": [
    {
     "name": "stdout",
     "output_type": "stream",
     "text": [
      "Model kaydedildi: model2_2.h5\n"
     ]
    }
   ],
   "source": [
    "model_name = \"model2_2.h5\"\n",
    "model.save(model_name)\n",
    "print(f\"Model kaydedildi: {model_name}\")"
   ]
  }
 ],
 "metadata": {
  "kernelspec": {
   "display_name": "tf-gpu-211",
   "language": "python",
   "name": "python3"
  },
  "language_info": {
   "codemirror_mode": {
    "name": "ipython",
    "version": 3
   },
   "file_extension": ".py",
   "mimetype": "text/x-python",
   "name": "python",
   "nbconvert_exporter": "python",
   "pygments_lexer": "ipython3",
   "version": "3.8.20"
  }
 },
 "nbformat": 4,
 "nbformat_minor": 5
}

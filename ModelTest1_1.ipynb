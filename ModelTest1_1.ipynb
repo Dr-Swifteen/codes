{
 "cells": [
  {
   "cell_type": "code",
   "execution_count": 19,
   "id": "c99ec62b",
   "metadata": {},
   "outputs": [],
   "source": [
    "import os\n",
    "import re\n",
    "import cv2\n",
    "import numpy as np\n",
    "import pandas as pd\n",
    "from sklearn.metrics import classification_report, confusion_matrix, f1_score, accuracy_score, precision_score, recall_score, roc_auc_score\n",
    "from tensorflow.keras.models import load_model\n",
    "import joblib\n",
    "import xgboost as xgb\n"
   ]
  },
  {
   "cell_type": "markdown",
   "id": "a44e4b6e",
   "metadata": {},
   "source": [
    "**#### 🧠 **MLP****"
   ]
  },
  {
   "cell_type": "code",
   "execution_count": 20,
   "id": "bdac1a8d",
   "metadata": {},
   "outputs": [],
   "source": [
    "model = load_model(\"MLP_1_1.h5\")\n",
    "T_m = 0.40\n",
    "T_b = 0.40\n",
    "classes = ['normal', 'benign', 'cancer']\n",
    "label_map = {'normal': 0, 'benign': 1, 'cancer': 2}\n"
   ]
  },
  {
   "cell_type": "code",
   "execution_count": 21,
   "id": "dff67e25",
   "metadata": {},
   "outputs": [],
   "source": [
    "\n",
    "\n",
    "X_test = np.load(\"X_test_1_1.npy\")\n",
    "y_test = np.load(\"y_test_1_1.npy\")"
   ]
  },
  {
   "cell_type": "code",
   "execution_count": 22,
   "id": "26b0f3a6",
   "metadata": {},
   "outputs": [],
   "source": [
    "probs = model.predict(X_test)\n",
    "preds = [2 if p[2] >= T_m else 1 if p[1] >= T_b else 0 for p in probs]"
   ]
  },
  {
   "cell_type": "markdown",
   "id": "64b12eec",
   "metadata": {},
   "source": [
    " Metirkler**"
   ]
  },
  {
   "cell_type": "code",
   "execution_count": 23,
   "id": "d3c71fe4",
   "metadata": {},
   "outputs": [
    {
     "name": "stdout",
     "output_type": "stream",
     "text": [
      "\n",
      " --------------MLP RESULTS----------------\n",
      "              precision    recall  f1-score   support\n",
      "\n",
      "      normal       0.31      1.00      0.47       241\n",
      "      benign       0.00      0.00      0.00       268\n",
      "      cancer       0.00      0.00      0.00       272\n",
      "\n",
      "    accuracy                           0.31       781\n",
      "   macro avg       0.10      0.33      0.16       781\n",
      "weighted avg       0.10      0.31      0.15       781\n",
      "\n",
      "Confusion Matrix:\n",
      " [[241   0   0]\n",
      " [268   0   0]\n",
      " [272   0   0]]\n",
      "Accuracy: 0.3085787451984635\n",
      "Precision: 0.10285958173282117\n",
      "Recall: 0.3333333333333333\n",
      "📌 F1 Score: 0.15720808871493802\n",
      "AUC: 0.5007973176121975\n"
     ]
    },
    {
     "name": "stderr",
     "output_type": "stream",
     "text": [
      "c:\\Users\\Dr.Ahmet\\anaconda3\\envs\\tf-gpu-211\\lib\\site-packages\\sklearn\\metrics\\_classification.py:1471: UndefinedMetricWarning: Precision and F-score are ill-defined and being set to 0.0 in labels with no predicted samples. Use `zero_division` parameter to control this behavior.\n",
      "  _warn_prf(average, modifier, msg_start, len(result))\n",
      "c:\\Users\\Dr.Ahmet\\anaconda3\\envs\\tf-gpu-211\\lib\\site-packages\\sklearn\\metrics\\_classification.py:1471: UndefinedMetricWarning: Precision and F-score are ill-defined and being set to 0.0 in labels with no predicted samples. Use `zero_division` parameter to control this behavior.\n",
      "  _warn_prf(average, modifier, msg_start, len(result))\n",
      "c:\\Users\\Dr.Ahmet\\anaconda3\\envs\\tf-gpu-211\\lib\\site-packages\\sklearn\\metrics\\_classification.py:1471: UndefinedMetricWarning: Precision and F-score are ill-defined and being set to 0.0 in labels with no predicted samples. Use `zero_division` parameter to control this behavior.\n",
      "  _warn_prf(average, modifier, msg_start, len(result))\n",
      "c:\\Users\\Dr.Ahmet\\anaconda3\\envs\\tf-gpu-211\\lib\\site-packages\\sklearn\\metrics\\_classification.py:1471: UndefinedMetricWarning: Precision is ill-defined and being set to 0.0 in labels with no predicted samples. Use `zero_division` parameter to control this behavior.\n",
      "  _warn_prf(average, modifier, msg_start, len(result))\n"
     ]
    }
   ],
   "source": [
    "print(\"\\n --------------MLP RESULTS----------------\")\n",
    "print(classification_report(y_test, preds, target_names=classes))\n",
    "print(\"Confusion Matrix:\\n\", confusion_matrix(y_test, preds))\n",
    "print(\"Accuracy:\", accuracy_score(y_test, preds))\n",
    "print(\"Precision:\", precision_score(y_test, preds, average='macro'))\n",
    "print(\"Recall:\", recall_score(y_test, preds, average='macro'))\n",
    "print(\"📌 F1 Score:\", f1_score(y_test, preds, average='macro'))\n",
    "try:\n",
    "    print(\"AUC:\", roc_auc_score(pd.get_dummies(y_test), probs,\n",
    "                                 multi_class='ovr', average='macro'))\n",
    "except:\n",
    "    print(\"AUC hesaplanamadı.\")"
   ]
  },
  {
   "cell_type": "markdown",
   "id": "5561cb90",
   "metadata": {},
   "source": [
    "**#### 🧠 **RANDOM FOREST****"
   ]
  },
  {
   "cell_type": "code",
   "execution_count": 24,
   "id": "1894a699",
   "metadata": {},
   "outputs": [],
   "source": [
    "model = joblib.load(\"RF_1_1.pkl\")\n",
    "T_m = 0.40\n",
    "T_b = 0.40\n",
    "classes = ['normal', 'benign', 'cancer']\n",
    "label_map = {'normal': 0, 'benign': 1, 'cancer': 2}"
   ]
  },
  {
   "cell_type": "code",
   "execution_count": 25,
   "id": "2e7f9314",
   "metadata": {},
   "outputs": [
    {
     "name": "stdout",
     "output_type": "stream",
     "text": [
      "\n",
      " --------------RF RESULTS----------------\n",
      "              precision    recall  f1-score   support\n",
      "\n",
      "      normal       0.35      0.38      0.36       241\n",
      "      benign       0.35      0.34      0.35       268\n",
      "      cancer       0.34      0.32      0.33       272\n",
      "\n",
      "    accuracy                           0.34       781\n",
      "   macro avg       0.34      0.35      0.34       781\n",
      "weighted avg       0.34      0.34      0.34       781\n",
      "\n",
      "Confusion Matrix:\n",
      " [[91 79 71]\n",
      " [79 92 97]\n",
      " [92 94 86]]\n",
      "Accuracy: 0.3444302176696543\n",
      "Precision: 0.34436024425363937\n",
      "Recall: 0.3456844712245461\n",
      "📌 F1 Score: 0.3446803278044892\n",
      "AUC: 0.5110047125108091\n"
     ]
    }
   ],
   "source": [
    "X_test = np.load(\"X_test_1_1.npy\")\n",
    "y_test = np.load(\"y_test_1_1.npy\")\n",
    "probs = model.predict_proba(X_test) \n",
    "preds = [2 if p[2] >= T_m else 1 if p[1] >= T_b else 0 for p in probs]\n",
    "print(\"\\n --------------RF RESULTS----------------\")\n",
    "print(classification_report(y_test, preds, target_names=classes))\n",
    "print(\"Confusion Matrix:\\n\", confusion_matrix(y_test, preds))\n",
    "print(\"Accuracy:\", accuracy_score(y_test, preds))\n",
    "print(\"Precision:\", precision_score(y_test, preds, average='macro'))\n",
    "print(\"Recall:\", recall_score(y_test, preds, average='macro'))\n",
    "print(\"📌 F1 Score:\", f1_score(y_test, preds, average='macro'))\n",
    "try:\n",
    "    print(\"AUC:\", roc_auc_score(pd.get_dummies(y_test), probs,\n",
    "                                 multi_class='ovr', average='macro'))\n",
    "except:\n",
    "    print(\"AUC hesaplanamadı.\")"
   ]
  },
  {
   "cell_type": "markdown",
   "id": "885df2b0",
   "metadata": {},
   "source": [
    "**#### 🧠 **XP-Boost****"
   ]
  },
  {
   "cell_type": "code",
   "execution_count": 26,
   "id": "6ee8a547",
   "metadata": {},
   "outputs": [],
   "source": [
    "loaded_xgb_model_booster = xgb.Booster() # Initialize an empty booster\n",
    "loaded_xgb_model_booster.load_model(\"XGBoost_1_1.json\") # Load the model into the booster object\n",
    "# No need for 'model =' here, loaded_xgb_model_booster now holds the model\n",
    "T_m = 0.40\n",
    "T_b = 0.40\n",
    "classes = ['normal', 'benign', 'cancer']\n",
    "label_map = {'normal': 0, 'benign': 1, 'cancer': 2}\n",
    "\n",
    "X_test = np.load(\"X_test_1_1.npy\")\n",
    "y_test = np.load(\"y_test_1_1.npy\")\n",
    "\n",
    "dtest_predict = xgb.DMatrix(X_test) \n",
    "probs = loaded_xgb_model_booster.predict(dtest_predict) \n",
    "preds = [2 if p[2] >= T_m else 1 if p[1] >= T_b else 0 for p in probs]\n",
    "T_m = 0.40\n",
    "T_b = 0.40\n"
   ]
  },
  {
   "cell_type": "code",
   "execution_count": 27,
   "id": "4d49be51",
   "metadata": {},
   "outputs": [
    {
     "name": "stdout",
     "output_type": "stream",
     "text": [
      "\n",
      " --------------XP-B RESULTS----------------\n",
      "              precision    recall  f1-score   support\n",
      "\n",
      "      normal       0.36      0.56      0.44       241\n",
      "      benign       0.39      0.29      0.33       268\n",
      "      cancer       0.40      0.31      0.35       272\n",
      "\n",
      "    accuracy                           0.38       781\n",
      "   macro avg       0.38      0.39      0.37       781\n",
      "weighted avg       0.39      0.38      0.37       781\n",
      "\n",
      "Confusion Matrix:\n",
      " [[136  52  53]\n",
      " [119  78  71]\n",
      " [119  70  83]]\n",
      "Accuracy: 0.38028169014084506\n",
      "Precision: 0.38486751573708095\n",
      "Recall: 0.38683572921334264\n",
      "📌 F1 Score: 0.37405502656279177\n",
      "AUC: 0.567432513124133\n"
     ]
    }
   ],
   "source": [
    "\n",
    "print(\"\\n --------------XP-B RESULTS----------------\")\n",
    "print(classification_report(y_test, preds, target_names=classes))\n",
    "print(\"Confusion Matrix:\\n\", confusion_matrix(y_test, preds))\n",
    "print(\"Accuracy:\", accuracy_score(y_test, preds))\n",
    "print(\"Precision:\", precision_score(y_test, preds, average='macro'))\n",
    "print(\"Recall:\", recall_score(y_test, preds, average='macro'))\n",
    "print(\"📌 F1 Score:\", f1_score(y_test, preds, average='macro'))\n",
    "try:\n",
    "    print(\"AUC:\", roc_auc_score(pd.get_dummies(y_test), probs,\n",
    "                                 multi_class='ovr', average='macro'))\n",
    "except:\n",
    "    print(\"AUC hesaplanamadı.\")"
   ]
  }
 ],
 "metadata": {
  "kernelspec": {
   "display_name": "tf-gpu-211",
   "language": "python",
   "name": "python3"
  },
  "language_info": {
   "codemirror_mode": {
    "name": "ipython",
    "version": 3
   },
   "file_extension": ".py",
   "mimetype": "text/x-python",
   "name": "python",
   "nbconvert_exporter": "python",
   "pygments_lexer": "ipython3",
   "version": "3.8.20"
  }
 },
 "nbformat": 4,
 "nbformat_minor": 5
}

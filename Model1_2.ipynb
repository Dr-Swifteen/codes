{
 "cells": [
  {
   "cell_type": "markdown",
   "id": "c01195bc",
   "metadata": {},
   "source": [
    "#### 📌 **HİPERPARAMETRELERİ BURADAN AYARLA**"
   ]
  },
  {
   "cell_type": "code",
   "execution_count": 1,
   "id": "e86f048d",
   "metadata": {},
   "outputs": [],
   "source": [
    "learning_rate = 1e-4\n",
    "dropout_rate = 0.5\n",
    "batch_size = 64\n",
    "filters = [64, 128, 256]\n",
    "earlystop_patience = 11\n",
    "reduce_lr_patience = 6\n",
    "epochs = 70\n",
    "target_size = (224, 224)"
   ]
  },
  {
   "cell_type": "code",
   "execution_count": 2,
   "id": "c99ec62b",
   "metadata": {},
   "outputs": [],
   "source": [
    "import os\n",
    "import re\n",
    "import cv2\n",
    "import numpy as np\n",
    "import pandas as pd\n",
    "from sklearn.model_selection import train_test_split\n",
    "from sklearn.metrics import (classification_report, confusion_matrix, f1_score,\n",
    "                             accuracy_score, roc_auc_score, precision_score, recall_score)\n",
    "from tensorflow.keras.models import Model\n",
    "from tensorflow.keras.layers import (Input, Conv2D, BatchNormalization, ReLU,\n",
    "                                     MaxPooling2D, Dropout, Flatten, Dense)\n",
    "from tensorflow.keras.optimizers import Adam\n",
    "from tensorflow.keras.callbacks import EarlyStopping, ReduceLROnPlateau"
   ]
  },
  {
   "cell_type": "markdown",
   "id": "869b7c61",
   "metadata": {},
   "source": [
    "#### 📁 **1. Görüntü Yolu Listeleme Fonksiyonu**\n"
   ]
  },
  {
   "cell_type": "code",
   "execution_count": null,
   "id": "bdac1a8d",
   "metadata": {},
   "outputs": [],
   "source": [
    "#chatgpt\n",
    "def mammo_gorunumlerini_listele(kok_dizin):\n",
    "    pattern = re.compile(r'^[A-Z]_\\d+_\\d+\\.(LEFT|RIGHT)_(CC|MLO)\\.jpg$', re.IGNORECASE)\n",
    "    siniflar = ['benign', 'cancer', 'normal']\n",
    "    yollar, etiketler = [], []\n",
    "    for cls in siniflar:\n",
    "        cls_yolu = os.path.join(kok_dizin, cls)\n",
    "        if not os.path.isdir(cls_yolu):\n",
    "            continue\n",
    "        for durum_id in os.listdir(cls_yolu):\n",
    "            durum_yolu = os.path.join(cls_yolu, durum_id)\n",
    "            if not os.path.isdir(durum_yolu):\n",
    "                continue\n",
    "            for dosya_adi in os.listdir(durum_yolu):\n",
    "                if pattern.match(dosya_adi):\n",
    "                    yollar.append(os.path.join(durum_yolu, dosya_adi))\n",
    "                    etiketler.append(cls)\n",
    "    return yollar, etiketler"
   ]
  },
  {
   "cell_type": "markdown",
   "id": "3a467d65",
   "metadata": {},
   "source": [
    "#### 🧼 **2. Görüntü Ön İşleme**\n"
   ]
  },
  {
   "cell_type": "code",
   "execution_count": 4,
   "id": "dff67e25",
   "metadata": {},
   "outputs": [],
   "source": [
    "def load_and_preprocess(paths, labels, target_size=target_size, method='minmax'):\n",
    "    X, y = [], []\n",
    "    label_map = {'normal': 0, 'benign': 1, 'cancer': 2}\n",
    "    for img_path, lbl in zip(paths, labels):\n",
    "        img = cv2.imread(img_path, cv2.IMREAD_GRAYSCALE)\n",
    "        img = cv2.resize(img, target_size)\n",
    "        img = img.astype(np.float32)\n",
    "        if method == 'minmax':\n",
    "            img /= 255.0\n",
    "        else:\n",
    "            img = (img - img.mean()) / (img.std() + 1e-8)\n",
    "        X.append(img[..., np.newaxis])\n",
    "        y.append(label_map[lbl])\n",
    "    return np.array(X), np.array(y)"
   ]
  },
  {
   "cell_type": "markdown",
   "id": "4470488c",
   "metadata": {},
   "source": [
    "#### 🧠 **3. CNN Model Tanımı**"
   ]
  },
  {
   "cell_type": "code",
   "execution_count": 5,
   "id": "1ddbdfeb",
   "metadata": {},
   "outputs": [],
   "source": [
    "def _conv_block(inputs, filters):\n",
    "    x = Conv2D(filters, (3, 3), padding='same')(inputs)\n",
    "    x = BatchNormalization()(x)\n",
    "    x = ReLU()(x)\n",
    "    return x\n",
    "def create_cnn_model(input_shape=(224, 224, 1), num_classes=3, filters=filters, dropout_rate=dropout_rate):\n",
    "    inp = Input(shape=input_shape)\n",
    "    x = _conv_block(inp, filters[0])\n",
    "    x = MaxPooling2D((2, 2))(x)\n",
    "\n",
    "    x = _conv_block(x, filters[1])\n",
    "    x = _conv_block(x, filters[1])\n",
    "    x = MaxPooling2D((2, 2))(x)\n",
    "\n",
    "    x = _conv_block(x, filters[2])\n",
    "    x = MaxPooling2D((2, 2))(x)\n",
    "\n",
    "    x = Flatten()(x)\n",
    "    x = Dense(256, activation='relu')(x)\n",
    "    x = Dropout(dropout_rate)(x)\n",
    "    out = Dense(num_classes, activation='softmax')(x)\n",
    "\n",
    "    return Model(inputs=inp, outputs=out)"
   ]
  },
  {
   "cell_type": "markdown",
   "id": "75ebbbaf",
   "metadata": {},
   "source": [
    "#### 🚂 **4. Model Eğitimi ve Kaydetme**\n"
   ]
  },
  {
   "cell_type": "code",
   "execution_count": null,
   "id": "26b0f3a6",
   "metadata": {},
   "outputs": [
    {
     "name": "stdout",
     "output_type": "stream",
     "text": [
      "Epoch 1/70\n",
      "99/99 [==============================] - 42s 354ms/step - loss: 1.7859 - accuracy: 0.5199 - val_loss: 1.7479 - val_accuracy: 0.3201\n",
      "Epoch 2/70\n",
      "99/99 [==============================] - 31s 318ms/step - loss: 0.8188 - accuracy: 0.5623 - val_loss: 2.1367 - val_accuracy: 0.3201\n",
      "Epoch 3/70\n",
      "99/99 [==============================] - 31s 318ms/step - loss: 0.7655 - accuracy: 0.5874 - val_loss: 2.0227 - val_accuracy: 0.3201\n",
      "Epoch 4/70\n",
      "99/99 [==============================] - 31s 318ms/step - loss: 0.7360 - accuracy: 0.6093 - val_loss: 1.0849 - val_accuracy: 0.4708\n",
      "Epoch 5/70\n",
      "99/99 [==============================] - 31s 318ms/step - loss: 0.7149 - accuracy: 0.6107 - val_loss: 1.3653 - val_accuracy: 0.5121\n",
      "Epoch 6/70\n",
      "99/99 [==============================] - 31s 318ms/step - loss: 0.6956 - accuracy: 0.6240 - val_loss: 1.1249 - val_accuracy: 0.5448\n",
      "Epoch 7/70\n",
      "99/99 [==============================] - 32s 318ms/step - loss: 0.6914 - accuracy: 0.6202 - val_loss: 0.7939 - val_accuracy: 0.6074\n",
      "Epoch 8/70\n",
      "99/99 [==============================] - 31s 318ms/step - loss: 0.6744 - accuracy: 0.6301 - val_loss: 0.6813 - val_accuracy: 0.6415\n",
      "Epoch 9/70\n",
      "99/99 [==============================] - 31s 318ms/step - loss: 0.6695 - accuracy: 0.6350 - val_loss: 0.6504 - val_accuracy: 0.6486\n",
      "Epoch 10/70\n",
      "99/99 [==============================] - 31s 318ms/step - loss: 0.6591 - accuracy: 0.6448 - val_loss: 0.6640 - val_accuracy: 0.6401\n",
      "Epoch 11/70\n",
      "99/99 [==============================] - 32s 318ms/step - loss: 0.6377 - accuracy: 0.6524 - val_loss: 0.6570 - val_accuracy: 0.6757\n",
      "Epoch 12/70\n",
      "99/99 [==============================] - 31s 318ms/step - loss: 0.6445 - accuracy: 0.6531 - val_loss: 0.6988 - val_accuracy: 0.6558\n",
      "Epoch 13/70\n",
      "99/99 [==============================] - 31s 318ms/step - loss: 0.6308 - accuracy: 0.6564 - val_loss: 0.6328 - val_accuracy: 0.6671\n",
      "Epoch 14/70\n",
      "99/99 [==============================] - 31s 318ms/step - loss: 0.6278 - accuracy: 0.6629 - val_loss: 0.7068 - val_accuracy: 0.6458\n",
      "Epoch 15/70\n",
      "99/99 [==============================] - 31s 318ms/step - loss: 0.6143 - accuracy: 0.6618 - val_loss: 0.6330 - val_accuracy: 0.6785\n",
      "Epoch 16/70\n",
      "99/99 [==============================] - 31s 318ms/step - loss: 0.6054 - accuracy: 0.6675 - val_loss: 0.6514 - val_accuracy: 0.6430\n",
      "Epoch 17/70\n",
      "99/99 [==============================] - 31s 318ms/step - loss: 0.5996 - accuracy: 0.6749 - val_loss: 0.6485 - val_accuracy: 0.6629\n",
      "Epoch 18/70\n",
      "99/99 [==============================] - 31s 318ms/step - loss: 0.5827 - accuracy: 0.6801 - val_loss: 0.6551 - val_accuracy: 0.6871\n",
      "Epoch 19/70\n",
      "99/99 [==============================] - 31s 317ms/step - loss: 0.5713 - accuracy: 0.6844 - val_loss: 0.6939 - val_accuracy: 0.6728\n",
      "Epoch 20/70\n",
      "99/99 [==============================] - 32s 319ms/step - loss: 0.5410 - accuracy: 0.7030 - val_loss: 0.6617 - val_accuracy: 0.6671\n",
      "Epoch 21/70\n",
      "99/99 [==============================] - 31s 317ms/step - loss: 0.5253 - accuracy: 0.7122 - val_loss: 0.6500 - val_accuracy: 0.6643\n",
      "Epoch 22/70\n",
      "99/99 [==============================] - 31s 318ms/step - loss: 0.5197 - accuracy: 0.7162 - val_loss: 0.6228 - val_accuracy: 0.6657\n",
      "Epoch 23/70\n",
      "99/99 [==============================] - 31s 317ms/step - loss: 0.5139 - accuracy: 0.7106 - val_loss: 0.6676 - val_accuracy: 0.6842\n",
      "Epoch 24/70\n",
      "99/99 [==============================] - 31s 318ms/step - loss: 0.4971 - accuracy: 0.7212 - val_loss: 0.6612 - val_accuracy: 0.6643\n",
      "Epoch 25/70\n",
      "99/99 [==============================] - 31s 317ms/step - loss: 0.4888 - accuracy: 0.7263 - val_loss: 0.7646 - val_accuracy: 0.6572\n",
      "Epoch 26/70\n",
      "99/99 [==============================] - 31s 317ms/step - loss: 0.4920 - accuracy: 0.7258 - val_loss: 0.6404 - val_accuracy: 0.6657\n",
      "Epoch 27/70\n",
      "99/99 [==============================] - 31s 317ms/step - loss: 0.4709 - accuracy: 0.7377 - val_loss: 0.6221 - val_accuracy: 0.6927\n",
      "Epoch 28/70\n",
      "99/99 [==============================] - 31s 317ms/step - loss: 0.4698 - accuracy: 0.7359 - val_loss: 0.6916 - val_accuracy: 0.6743\n",
      "Epoch 29/70\n",
      "99/99 [==============================] - 31s 317ms/step - loss: 0.4677 - accuracy: 0.7369 - val_loss: 0.6503 - val_accuracy: 0.6771\n",
      "Epoch 30/70\n",
      "99/99 [==============================] - 32s 320ms/step - loss: 0.4547 - accuracy: 0.7451 - val_loss: 0.7260 - val_accuracy: 0.6814\n",
      "Epoch 31/70\n",
      "99/99 [==============================] - 31s 316ms/step - loss: 0.4451 - accuracy: 0.7532 - val_loss: 0.6331 - val_accuracy: 0.6842\n",
      "Epoch 32/70\n",
      "99/99 [==============================] - 31s 317ms/step - loss: 0.4315 - accuracy: 0.7574 - val_loss: 0.6590 - val_accuracy: 0.6984\n",
      "Epoch 33/70\n",
      "99/99 [==============================] - 31s 317ms/step - loss: 0.4243 - accuracy: 0.7604 - val_loss: 0.7060 - val_accuracy: 0.6970\n",
      "Epoch 34/70\n",
      "99/99 [==============================] - 31s 317ms/step - loss: 0.3997 - accuracy: 0.7709 - val_loss: 0.7048 - val_accuracy: 0.6942\n",
      "Epoch 35/70\n",
      "99/99 [==============================] - 31s 317ms/step - loss: 0.3989 - accuracy: 0.7655 - val_loss: 0.7032 - val_accuracy: 0.6842\n",
      "Epoch 36/70\n",
      "99/99 [==============================] - 31s 317ms/step - loss: 0.3898 - accuracy: 0.7696 - val_loss: 0.7952 - val_accuracy: 0.6885\n",
      "Epoch 37/70\n",
      "99/99 [==============================] - 31s 317ms/step - loss: 0.3870 - accuracy: 0.7734 - val_loss: 0.7274 - val_accuracy: 0.6885\n",
      "Epoch 38/70\n",
      "99/99 [==============================] - 31s 317ms/step - loss: 0.3812 - accuracy: 0.7728 - val_loss: 0.7197 - val_accuracy: 0.6927\n"
     ]
    }
   ],
   "source": [
    "if __name__ == '__main__':\n",
    "    kok_dizin = os.path.join(os.getcwd(), \"Project1\")\n",
    "    yollar, etiketler = mammo_gorunumlerini_listele(kok_dizin)\n",
    "    X, y = load_and_preprocess(yollar, etiketler)\n",
    "\n",
    "    X_egitim_val, X_test, y_egitim_val, y_test = train_test_split(X, y, test_size=0.1, stratify=y, random_state=42)\n",
    "    np.save(\"X_test_1_2.npy\", X_test)\n",
    "    np.save(\"y_test_1_2.npy\", y_test)\n",
    "    model = create_cnn_model()\n",
    "    model.compile(optimizer=Adam(learning_rate=learning_rate),\n",
    "              loss='categorical_crossentropy',\n",
    "              metrics=['accuracy'])\n",
    "\n",
    "    geri_cagirmalar = [\n",
    "        EarlyStopping(patience=earlystop_patience, restore_best_weights=True),\n",
    "        ReduceLROnPlateau(patience=reduce_lr_patience, factor=0.5)\n",
    "    ]\n",
    "    #chatgpt\n",
    "    model.fit(X_egitim_val, pd.get_dummies(y_egitim_val),\n",
    "          epochs=epochs, batch_size=batch_size,validation_split=0.1,\n",
    "          callbacks=geri_cagirmalar, verbose=1)\n",
    "\n",
    "    olasiliklar = model.predict(X_test)\n",
    "    esikler = np.linspace(0.4, 0.6, 21)\n",
    "    en_iyi_f1, en_iyi_T_m, en_iyi_T_b = 0, 0.48, 0.52\n",
    "    for T_m_aday in esikler:\n",
    "        for T_b_aday in esikler:\n",
    "            tahminler = [2 if p[2] >= T_m_aday else 1 if p[1] >= T_b_aday else 0 for p in olasiliklar]\n",
    "            f1 = f1_score(y_test, tahminler, average='macro')\n",
    "            if f1 > en_iyi_f1:\n",
    "                en_iyi_f1, en_iyi_T_m, en_iyi_T_b = f1, T_m_aday, T_b_aday"
   ]
  },
  {
   "cell_type": "markdown",
   "id": "64b12eec",
   "metadata": {},
   "source": [
    " Metirkler**"
   ]
  },
  {
   "cell_type": "code",
   "execution_count": 7,
   "id": "d3c71fe4",
   "metadata": {},
   "outputs": [
    {
     "name": "stdout",
     "output_type": "stream",
     "text": [
      "En iyi eşik sınırı: T_m=0.46, T_b=0.40\n",
      "              precision    recall  f1-score   support\n",
      "\n",
      "      normal       0.83      0.84      0.84       241\n",
      "      benign       0.64      0.70      0.67       268\n",
      "      cancer       0.72      0.64      0.68       272\n",
      "\n",
      "    accuracy                           0.72       781\n",
      "   macro avg       0.73      0.73      0.73       781\n",
      "weighted avg       0.73      0.72      0.72       781\n",
      "\n",
      "[[202  31   8]\n",
      " [ 20 188  60]\n",
      " [ 20  77 175]]\n",
      "Accuracy: 0.7234314980793854\n",
      "Precision: 0.730003495996762\n",
      "Recall: 0.7276830547045102\n",
      "AUC: 0.8864164554366522\n"
     ]
    }
   ],
   "source": [
    "nihai_tahminler = [2 if p[2] >= en_iyi_T_m else 1 if p[1] >= en_iyi_T_b else 0 for p in olasiliklar]\n",
    "print(f\"En iyi eşik sınırı: T_m={en_iyi_T_m:.2f}, T_b={en_iyi_T_b:.2f}\")\n",
    "print(classification_report(y_test, nihai_tahminler, target_names=['normal','benign','cancer']))\n",
    "print(confusion_matrix(y_test, nihai_tahminler))\n",
    "print(\"Accuracy:\", accuracy_score(y_test, nihai_tahminler))\n",
    "print(\"Precision:\", precision_score(y_test, nihai_tahminler, average='macro'))\n",
    "print(\"Recall:\", recall_score(y_test, nihai_tahminler, average='macro'))\n",
    "try:\n",
    "    print(\"AUC:\", roc_auc_score(pd.get_dummies(y_test), olasiliklar, average='macro', multi_class='ovr'))\n",
    "except:\n",
    "    print(\"AUC hesaplanamadı (muhtemelen tek sınıf tahmini nedeniyle)\")\n",
    "with open(\"optimized_thresholds.txt\", \"w\") as f:\n",
    "    f.write(f\"Best T_m: {en_iyi_T_m}\\nBest T_b: {en_iyi_T_b}\\nBest F1: {en_iyi_f1}\")"
   ]
  },
  {
   "cell_type": "code",
   "execution_count": 8,
   "id": "9a7c3be6",
   "metadata": {},
   "outputs": [],
   "source": [
    "#### 💾 **6. Model ve Eşik Kayıtları**\n"
   ]
  },
  {
   "cell_type": "code",
   "execution_count": null,
   "id": "7ed070b7",
   "metadata": {},
   "outputs": [
    {
     "name": "stdout",
     "output_type": "stream",
     "text": [
      "Model kaydedildi: model2.h5\n"
     ]
    }
   ],
   "source": [
    "model_name = \"model2.h5\"\n",
    "model.save(model_name)\n",
    "print(f\"Model kaydedildi: {model_name}\")"
   ]
  }
 ],
 "metadata": {
  "kernelspec": {
   "display_name": "tf-gpu-211",
   "language": "python",
   "name": "python3"
  },
  "language_info": {
   "codemirror_mode": {
    "name": "ipython",
    "version": 3
   },
   "file_extension": ".py",
   "mimetype": "text/x-python",
   "name": "python",
   "nbconvert_exporter": "python",
   "pygments_lexer": "ipython3",
   "version": "3.8.20"
  }
 },
 "nbformat": 4,
 "nbformat_minor": 5
}

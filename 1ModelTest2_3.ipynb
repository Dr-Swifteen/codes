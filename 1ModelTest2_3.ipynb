{
 "cells": [
  {
   "cell_type": "code",
   "execution_count": 1,
   "id": "c99ec62b",
   "metadata": {},
   "outputs": [],
   "source": [
    "import os\n",
    "import re\n",
    "import cv2\n",
    "import numpy as np\n",
    "import pandas as pd\n",
    "from sklearn.metrics import classification_report, confusion_matrix, f1_score, accuracy_score, precision_score, recall_score, roc_auc_score\n",
    "from tensorflow.keras.models import load_model"
   ]
  },
  {
   "cell_type": "code",
   "execution_count": null,
   "id": "bdac1a8d",
   "metadata": {},
   "outputs": [],
   "source": [
    "project_dir = os.path.join(os.getcwd(), \"Project1\")\n",
    "model = load_model(\"model3_2.h5\")\n",
    "T_m = 0.4\n",
    "T_b = 0.4\n",
    "target_size = (224, 224)\n",
    "classes = ['normal', 'benign', 'cancer']\n",
    "label_map = {'normal': 0, 'benign': 1, 'cancer': 2}\n"
   ]
  },
  {
   "cell_type": "code",
   "execution_count": 3,
   "id": "dff67e25",
   "metadata": {},
   "outputs": [],
   "source": [
    "\n",
    "X_test = np.load(\"X_test_2_3.npy\")\n",
    "y_test = np.load(\"y_test_2_3.npy\")"
   ]
  },
  {
   "cell_type": "code",
   "execution_count": 4,
   "id": "26b0f3a6",
   "metadata": {},
   "outputs": [],
   "source": [
    "probs = model.predict(X_test)\n",
    "preds = [2 if p[2] >= T_m else 1 if p[1] >= T_b else 0 for p in probs]"
   ]
  },
  {
   "cell_type": "code",
   "execution_count": 5,
   "id": "d3c71fe4",
   "metadata": {},
   "outputs": [
    {
     "name": "stdout",
     "output_type": "stream",
     "text": [
      "              precision    recall  f1-score   support\n",
      "\n",
      "      normal       0.99      0.97      0.98       187\n",
      "      benign       0.71      0.95      0.81        39\n",
      "      cancer       1.00      0.25      0.40        12\n",
      "\n",
      "    accuracy                           0.93       238\n",
      "   macro avg       0.90      0.72      0.73       238\n",
      "weighted avg       0.94      0.93      0.92       238\n",
      "\n",
      "Confusion Matrix:\n",
      " [[181   6   0]\n",
      " [  2  37   0]\n",
      " [  0   9   3]]\n",
      "Accuracy: 0.9285714285714286\n",
      "Precision: 0.9002031665966093\n",
      "Recall: 0.7222107957402075\n",
      "📌 F1 Score: 0.7305217305217305\n",
      "AUC: 0.9566798038207818\n"
     ]
    }
   ],
   "source": [
    "print(classification_report(y_test, preds, target_names=classes))\n",
    "print(\"Confusion Matrix:\\n\", confusion_matrix(y_test, preds))\n",
    "print(\"Accuracy:\", accuracy_score(y_test, preds))\n",
    "print(\"Precision:\", precision_score(y_test, preds, average='macro'))\n",
    "print(\"Recall:\", recall_score(y_test, preds, average='macro'))\n",
    "print(\"📌 F1 Score:\", f1_score(y_test, preds, average='macro'))\n",
    "try:\n",
    "    print(\"AUC:\", roc_auc_score(pd.get_dummies(y_test), probs,\n",
    "                                 multi_class='ovr', average='macro'))\n",
    "except:\n",
    "    print(\"AUC hesaplanamadı.\")"
   ]
  }
 ],
 "metadata": {
  "kernelspec": {
   "display_name": "tf-gpu-211",
   "language": "python",
   "name": "python3"
  },
  "language_info": {
   "codemirror_mode": {
    "name": "ipython",
    "version": 3
   },
   "file_extension": ".py",
   "mimetype": "text/x-python",
   "name": "python",
   "nbconvert_exporter": "python",
   "pygments_lexer": "ipython3",
   "version": "3.8.20"
  }
 },
 "nbformat": 4,
 "nbformat_minor": 5
}

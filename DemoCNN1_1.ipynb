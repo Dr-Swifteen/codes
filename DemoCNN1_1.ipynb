{
 "cells": [
  {
   "cell_type": "markdown",
   "id": "c01195bc",
   "metadata": {},
   "source": [
    "#### 📌 **HİPERPARAMETRELERİ BURADAN AYARLA**"
   ]
  },
  {
   "cell_type": "code",
   "execution_count": 9,
   "id": "c99ec62b",
   "metadata": {},
   "outputs": [],
   "source": [
    "import os\n",
    "import re\n",
    "import cv2\n",
    "import numpy as np\n",
    "import pandas as pd\n",
    "from sklearn.metrics import classification_report, confusion_matrix, f1_score, accuracy_score, precision_score, recall_score, roc_auc_score\n",
    "from tensorflow.keras.models import load_model"
   ]
  },
  {
   "cell_type": "code",
   "execution_count": 10,
   "id": "bdac1a8d",
   "metadata": {},
   "outputs": [],
   "source": [
    "def mammo_gorunumlerini_listele(kok_dizin):#Chatgpt\n",
    "    pattern = re.compile(r'^[A-Z]_\\d+_\\d+\\.(LEFT|RIGHT)_(CC|MLO)\\.jpg$', re.IGNORECASE)\n",
    "    siniflar = ['benign', 'cancer', 'normal']\n",
    "    yollar, etiketler = [], []\n",
    "    for cls in siniflar:\n",
    "        cls_yolu = os.path.join(kok_dizin, cls)\n",
    "        if not os.path.isdir(cls_yolu):\n",
    "            continue\n",
    "        for durum_id in os.listdir(cls_yolu):\n",
    "            durum_yolu = os.path.join(cls_yolu, durum_id)\n",
    "            if not os.path.isdir(durum_yolu):\n",
    "                continue\n",
    "            for dosya_adi in os.listdir(durum_yolu):\n",
    "                if pattern.match(dosya_adi):\n",
    "                    yollar.append(os.path.join(durum_yolu, dosya_adi))\n",
    "                    etiketler.append(cls)\n",
    "    return yollar, etiketler"
   ]
  },
  {
   "cell_type": "code",
   "execution_count": 11,
   "id": "dff67e25",
   "metadata": {},
   "outputs": [],
   "source": [
    "def load_and_preprocess(paths, labels, target_size, method='minmax'):\n",
    "    X, y = [], []\n",
    "    label_map = {'normal': 0, 'benign': 1, 'cancer': 2}\n",
    "    for img_path, lbl in zip(paths, labels):\n",
    "        img = cv2.imread(img_path, cv2.IMREAD_GRAYSCALE)\n",
    "        img = cv2.resize(img, target_size)\n",
    "        img = img.astype(np.float32)\n",
    "        if method == 'minmax':\n",
    "            img /= 255.0\n",
    "        else:\n",
    "            img = (img - img.mean()) / (img.std() + 1e-8)\n",
    "        X.append(img[..., np.newaxis])\n",
    "        y.append(label_map[lbl])\n",
    "    return np.array(X), np.array(y)\n"
   ]
  },
  {
   "cell_type": "markdown",
   "id": "64b12eec",
   "metadata": {},
   "source": [
    " Metirkler**"
   ]
  },
  {
   "cell_type": "code",
   "execution_count": 12,
   "id": "d3c71fe4",
   "metadata": {},
   "outputs": [
    {
     "name": "stdout",
     "output_type": "stream",
     "text": [
      "              precision    recall  f1-score   support\n",
      "\n",
      "      normal       1.00      1.00      1.00        80\n",
      "      benign       1.00      0.56      0.72        80\n",
      "      cancer       0.70      1.00      0.82        80\n",
      "\n",
      "    accuracy                           0.85       240\n",
      "   macro avg       0.90      0.85      0.85       240\n",
      "weighted avg       0.90      0.85      0.85       240\n",
      "\n",
      "Confusion Matrix:\n",
      " [[80  0  0]\n",
      " [ 0 45 35]\n",
      " [ 0  0 80]]\n",
      "Accuracy: 0.8541666666666666\n",
      "Precision: 0.8985507246376812\n",
      "Recall: 0.8541666666666666\n",
      "📌 F1 Score: 0.8468376068376068\n",
      "AUC: 0.9972135416666666\n"
     ]
    }
   ],
   "source": [
    "if __name__ == '__main__':\n",
    "    kok_dizin = os.path.join(os.getcwd(), \"Project1\")\n",
    "    yollar, etiketler = mammo_gorunumlerini_listele(kok_dizin)\n",
    "    X_test, y_test = load_and_preprocess(yollar, etiketler,target_size=(224, 224))\n",
    "    model=load_model(\"model2.h5\")\n",
    "    T_m = 0.46\n",
    "    T_b = 0.4\n",
    "    probs = model.predict(X_test)\n",
    "    classes = ['normal', 'benign', 'cancer']\n",
    "    label_map = {'normal': 0, 'benign': 1, 'cancer': 2}\n",
    "    preds = [2 if p[2] >= T_m else 1 if p[1] >= T_b else 0 for p in probs]\n",
    "    print(classification_report(y_test, preds, target_names=classes))\n",
    "    print(\"Confusion Matrix:\\n\", confusion_matrix(y_test, preds))\n",
    "    print(\"Accuracy:\", accuracy_score(y_test, preds))\n",
    "    print(\"Precision:\", precision_score(y_test, preds, average='macro'))\n",
    "    print(\"Recall:\", recall_score(y_test, preds, average='macro'))\n",
    "    print(\"📌 F1 Score:\", f1_score(y_test, preds, average='macro'))\n",
    "    try:\n",
    "        print(\"AUC:\", roc_auc_score(pd.get_dummies(y_test), probs,\n",
    "                                 multi_class='ovr', average='macro'))\n",
    "    except:\n",
    "        print(\"AUC hesaplanamadı.\")"
   ]
  }
 ],
 "metadata": {
  "kernelspec": {
   "display_name": "tf-gpu-211",
   "language": "python",
   "name": "python3"
  },
  "language_info": {
   "codemirror_mode": {
    "name": "ipython",
    "version": 3
   },
   "file_extension": ".py",
   "mimetype": "text/x-python",
   "name": "python",
   "nbconvert_exporter": "python",
   "pygments_lexer": "ipython3",
   "version": "3.8.20"
  }
 },
 "nbformat": 4,
 "nbformat_minor": 5
}
